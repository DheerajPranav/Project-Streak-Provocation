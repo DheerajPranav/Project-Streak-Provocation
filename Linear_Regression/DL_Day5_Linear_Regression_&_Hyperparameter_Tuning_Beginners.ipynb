{
  "nbformat": 4,
  "nbformat_minor": 0,
  "metadata": {
    "colab": {
      "name": "DL_Day5: Linear_Regression & Hyperparameter Tuning-Beginners.ipynb",
      "provenance": [],
      "collapsed_sections": [],
      "include_colab_link": true
    },
    "kernelspec": {
      "name": "python3",
      "display_name": "Python 3"
    }
  },
  "cells": [
    {
      "cell_type": "markdown",
      "metadata": {
        "id": "view-in-github",
        "colab_type": "text"
      },
      "source": [
        "<a href=\"https://colab.research.google.com/github/DheerajPranav/Project-Streak-Provocation/blob/main/Linear_Regression/DL_Day5_Linear_Regression_%26_Hyperparameter_Tuning_Beginners.ipynb\" target=\"_parent\"><img src=\"https://colab.research.google.com/assets/colab-badge.svg\" alt=\"Open In Colab\"/></a>"
      ]
    },
    {
      "cell_type": "markdown",
      "metadata": {
        "id": "tmHsf5DWsxr6"
      },
      "source": [
        "# Agenda\n",
        "1. About the Dataset\n",
        "2. Objective\n",
        "3. Loading Libraries\n",
        "4. Loading Data\n",
        "5. View Data\n",
        "6. Separate Input Features and Output Features\n",
        "7. Split The Data into Train and Test Set\n",
        "8. Train the model (The five step model life cycle)\n",
        "  1. Define the model.\n",
        "  2. Compile the model.\n",
        "  3. Fit the model.\n",
        "  4. Evaluate the model\n",
        "    * Hyperparameter Tunning\n",
        "  5. Prediction"
      ]
    },
    {
      "cell_type": "markdown",
      "metadata": {
        "id": "NmP7x85xcxkS"
      },
      "source": [
        "## About the Dataset\n",
        "We will be working on a data set that comes from the real estate industry in Boston (US). This database contains 14 attributes. The target variable refers to the median value of owner-occupied homes in 1000 USD's.\n",
        "\n",
        "* CRIM: per capita crime rate by town\n",
        "* ZN: proportion of residential land zoned for lots over 25,000 sq.ft.\n",
        "* INDUS: proportion of non-retail business acres per town\n",
        "* CHAS: Charles River dummy variable (= 1 if tract bounds river; 0 otherwise)\n",
        "* NOX: nitric oxides concentration (parts per 10 million)\n",
        "* RM: average number of rooms per dwelling\n",
        "* AGE: proportion of owner-occupied units built prior to 1940\n",
        "* DIS: weighted distances to five Boston employment centres\n",
        "* RAD: index of accessibility to radial highways\n",
        "* TAX: full-value property-tax rate per 10,000 USD\n",
        "* PTRATIO: pupil-teacher ratio by town\n",
        "* B: 1000(Bk - 0.63)^2 where Bk is the proportion of blacks by town\n",
        "* LSTAT: lower status of the population (%)\n",
        "* MEDV: Median value of owner-occupied homes in 1000 USD's (Target)\n"
      ]
    },
    {
      "cell_type": "markdown",
      "metadata": {
        "id": "w_c7y3fqWuDX"
      },
      "source": [
        "## Objective\n",
        "The objective is to use linear regression to find the median value of owner-occupied homes in 1000 USD's.\n",
        "\n",
        "We will build a Machine learning model (i.e. Linear Regression) using `tensorflow.keras` (in short `tf.keras`) API."
      ]
    },
    {
      "cell_type": "markdown",
      "metadata": {
        "id": "hvnf8jDeTTvw"
      },
      "source": [
        "You already have all the information about Tensorflow and Keras from earlier modules."
      ]
    },
    {
      "cell_type": "markdown",
      "metadata": {
        "id": "PQeegjzCbXdf"
      },
      "source": [
        "## Loading Libraries\n",
        "All Python capabilities are not loaded to our working environment by default (even they are already installed in your system). So, we import each and every library that we want to use.\n",
        "\n",
        "In data science, numpy and pandas are most commonly used libraries. Numpy is required for calculations like means, medians, square roots, etc. Pandas is used for data processing and data frames. Matplotlib is used for data visualization. We chose alias names for our libraries for the sake of our convenience (numpy --> np and pandas --> pd, matplotlib.pyplot as plt).\n",
        "\n",
        "**pyplot:** pyplot is matplotlib's plotting framework. It is the most used module of matplotlib."
      ]
    },
    {
      "cell_type": "code",
      "metadata": {
        "id": "UEWLuXd7BMrU"
      },
      "source": [
        "# importing packages\n",
        "import numpy as np # to perform calculations \n",
        "import pandas as pd # to read data\n",
        "import matplotlib.pyplot as plt # to visualise"
      ],
      "execution_count": 1,
      "outputs": []
    },
    {
      "cell_type": "markdown",
      "metadata": {
        "id": "fY_eewx0dhHt"
      },
      "source": [
        "## Loading Data\n",
        "Pandas module is used for reading files. We have our data in '.csv' format. We will use 'read_csv()' function for loading the data."
      ]
    },
    {
      "cell_type": "code",
      "metadata": {
        "id": "7zlSaTd2W9rt"
      },
      "source": [
        "# In read_csv() function, we have passed the location to where the file is located at dphi official github page\n",
        "boston_data = pd.read_csv(\"https://raw.githubusercontent.com/dphi-official/Datasets/master/Boston_Housing/Training_set_boston.csv\" )"
      ],
      "execution_count": 2,
      "outputs": []
    },
    {
      "cell_type": "markdown",
      "metadata": {
        "id": "wze8jmpKtBG4"
      },
      "source": [
        "## View Data"
      ]
    },
    {
      "cell_type": "code",
      "metadata": {
        "id": "Nwj5kkDjjQkx",
        "colab": {
          "base_uri": "https://localhost:8080/",
          "height": 206
        },
        "outputId": "75b5fc8d-6c92-4cd0-b02e-b4a88d73f883"
      },
      "source": [
        "boston_data.head()"
      ],
      "execution_count": 3,
      "outputs": [
        {
          "output_type": "execute_result",
          "data": {
            "text/plain": [
              "       CRIM    ZN  INDUS  CHAS     NOX     RM   AGE     DIS   RAD    TAX  \\\n",
              "0  15.02340   0.0  18.10   0.0  0.6140  5.304  97.3  2.1007  24.0  666.0   \n",
              "1   0.62739   0.0   8.14   0.0  0.5380  5.834  56.5  4.4986   4.0  307.0   \n",
              "2   0.03466  35.0   6.06   0.0  0.4379  6.031  23.3  6.6407   1.0  304.0   \n",
              "3   7.05042   0.0  18.10   0.0  0.6140  6.103  85.1  2.0218  24.0  666.0   \n",
              "4   0.72580   0.0   8.14   0.0  0.5380  5.727  69.5  3.7965   4.0  307.0   \n",
              "\n",
              "   PTRATIO       B  LSTAT  MEDV  \n",
              "0     20.2  349.48  24.91  12.0  \n",
              "1     21.0  395.62   8.47  19.9  \n",
              "2     16.9  362.25   7.83  19.4  \n",
              "3     20.2    2.52  23.29  13.4  \n",
              "4     21.0  390.95  11.28  18.2  "
            ],
            "text/html": [
              "\n",
              "  <div id=\"df-6cc9a762-c112-498a-86d8-f19276ce13da\">\n",
              "    <div class=\"colab-df-container\">\n",
              "      <div>\n",
              "<style scoped>\n",
              "    .dataframe tbody tr th:only-of-type {\n",
              "        vertical-align: middle;\n",
              "    }\n",
              "\n",
              "    .dataframe tbody tr th {\n",
              "        vertical-align: top;\n",
              "    }\n",
              "\n",
              "    .dataframe thead th {\n",
              "        text-align: right;\n",
              "    }\n",
              "</style>\n",
              "<table border=\"1\" class=\"dataframe\">\n",
              "  <thead>\n",
              "    <tr style=\"text-align: right;\">\n",
              "      <th></th>\n",
              "      <th>CRIM</th>\n",
              "      <th>ZN</th>\n",
              "      <th>INDUS</th>\n",
              "      <th>CHAS</th>\n",
              "      <th>NOX</th>\n",
              "      <th>RM</th>\n",
              "      <th>AGE</th>\n",
              "      <th>DIS</th>\n",
              "      <th>RAD</th>\n",
              "      <th>TAX</th>\n",
              "      <th>PTRATIO</th>\n",
              "      <th>B</th>\n",
              "      <th>LSTAT</th>\n",
              "      <th>MEDV</th>\n",
              "    </tr>\n",
              "  </thead>\n",
              "  <tbody>\n",
              "    <tr>\n",
              "      <th>0</th>\n",
              "      <td>15.02340</td>\n",
              "      <td>0.0</td>\n",
              "      <td>18.10</td>\n",
              "      <td>0.0</td>\n",
              "      <td>0.6140</td>\n",
              "      <td>5.304</td>\n",
              "      <td>97.3</td>\n",
              "      <td>2.1007</td>\n",
              "      <td>24.0</td>\n",
              "      <td>666.0</td>\n",
              "      <td>20.2</td>\n",
              "      <td>349.48</td>\n",
              "      <td>24.91</td>\n",
              "      <td>12.0</td>\n",
              "    </tr>\n",
              "    <tr>\n",
              "      <th>1</th>\n",
              "      <td>0.62739</td>\n",
              "      <td>0.0</td>\n",
              "      <td>8.14</td>\n",
              "      <td>0.0</td>\n",
              "      <td>0.5380</td>\n",
              "      <td>5.834</td>\n",
              "      <td>56.5</td>\n",
              "      <td>4.4986</td>\n",
              "      <td>4.0</td>\n",
              "      <td>307.0</td>\n",
              "      <td>21.0</td>\n",
              "      <td>395.62</td>\n",
              "      <td>8.47</td>\n",
              "      <td>19.9</td>\n",
              "    </tr>\n",
              "    <tr>\n",
              "      <th>2</th>\n",
              "      <td>0.03466</td>\n",
              "      <td>35.0</td>\n",
              "      <td>6.06</td>\n",
              "      <td>0.0</td>\n",
              "      <td>0.4379</td>\n",
              "      <td>6.031</td>\n",
              "      <td>23.3</td>\n",
              "      <td>6.6407</td>\n",
              "      <td>1.0</td>\n",
              "      <td>304.0</td>\n",
              "      <td>16.9</td>\n",
              "      <td>362.25</td>\n",
              "      <td>7.83</td>\n",
              "      <td>19.4</td>\n",
              "    </tr>\n",
              "    <tr>\n",
              "      <th>3</th>\n",
              "      <td>7.05042</td>\n",
              "      <td>0.0</td>\n",
              "      <td>18.10</td>\n",
              "      <td>0.0</td>\n",
              "      <td>0.6140</td>\n",
              "      <td>6.103</td>\n",
              "      <td>85.1</td>\n",
              "      <td>2.0218</td>\n",
              "      <td>24.0</td>\n",
              "      <td>666.0</td>\n",
              "      <td>20.2</td>\n",
              "      <td>2.52</td>\n",
              "      <td>23.29</td>\n",
              "      <td>13.4</td>\n",
              "    </tr>\n",
              "    <tr>\n",
              "      <th>4</th>\n",
              "      <td>0.72580</td>\n",
              "      <td>0.0</td>\n",
              "      <td>8.14</td>\n",
              "      <td>0.0</td>\n",
              "      <td>0.5380</td>\n",
              "      <td>5.727</td>\n",
              "      <td>69.5</td>\n",
              "      <td>3.7965</td>\n",
              "      <td>4.0</td>\n",
              "      <td>307.0</td>\n",
              "      <td>21.0</td>\n",
              "      <td>390.95</td>\n",
              "      <td>11.28</td>\n",
              "      <td>18.2</td>\n",
              "    </tr>\n",
              "  </tbody>\n",
              "</table>\n",
              "</div>\n",
              "      <button class=\"colab-df-convert\" onclick=\"convertToInteractive('df-6cc9a762-c112-498a-86d8-f19276ce13da')\"\n",
              "              title=\"Convert this dataframe to an interactive table.\"\n",
              "              style=\"display:none;\">\n",
              "        \n",
              "  <svg xmlns=\"http://www.w3.org/2000/svg\" height=\"24px\"viewBox=\"0 0 24 24\"\n",
              "       width=\"24px\">\n",
              "    <path d=\"M0 0h24v24H0V0z\" fill=\"none\"/>\n",
              "    <path d=\"M18.56 5.44l.94 2.06.94-2.06 2.06-.94-2.06-.94-.94-2.06-.94 2.06-2.06.94zm-11 1L8.5 8.5l.94-2.06 2.06-.94-2.06-.94L8.5 2.5l-.94 2.06-2.06.94zm10 10l.94 2.06.94-2.06 2.06-.94-2.06-.94-.94-2.06-.94 2.06-2.06.94z\"/><path d=\"M17.41 7.96l-1.37-1.37c-.4-.4-.92-.59-1.43-.59-.52 0-1.04.2-1.43.59L10.3 9.45l-7.72 7.72c-.78.78-.78 2.05 0 2.83L4 21.41c.39.39.9.59 1.41.59.51 0 1.02-.2 1.41-.59l7.78-7.78 2.81-2.81c.8-.78.8-2.07 0-2.86zM5.41 20L4 18.59l7.72-7.72 1.47 1.35L5.41 20z\"/>\n",
              "  </svg>\n",
              "      </button>\n",
              "      \n",
              "  <style>\n",
              "    .colab-df-container {\n",
              "      display:flex;\n",
              "      flex-wrap:wrap;\n",
              "      gap: 12px;\n",
              "    }\n",
              "\n",
              "    .colab-df-convert {\n",
              "      background-color: #E8F0FE;\n",
              "      border: none;\n",
              "      border-radius: 50%;\n",
              "      cursor: pointer;\n",
              "      display: none;\n",
              "      fill: #1967D2;\n",
              "      height: 32px;\n",
              "      padding: 0 0 0 0;\n",
              "      width: 32px;\n",
              "    }\n",
              "\n",
              "    .colab-df-convert:hover {\n",
              "      background-color: #E2EBFA;\n",
              "      box-shadow: 0px 1px 2px rgba(60, 64, 67, 0.3), 0px 1px 3px 1px rgba(60, 64, 67, 0.15);\n",
              "      fill: #174EA6;\n",
              "    }\n",
              "\n",
              "    [theme=dark] .colab-df-convert {\n",
              "      background-color: #3B4455;\n",
              "      fill: #D2E3FC;\n",
              "    }\n",
              "\n",
              "    [theme=dark] .colab-df-convert:hover {\n",
              "      background-color: #434B5C;\n",
              "      box-shadow: 0px 1px 3px 1px rgba(0, 0, 0, 0.15);\n",
              "      filter: drop-shadow(0px 1px 2px rgba(0, 0, 0, 0.3));\n",
              "      fill: #FFFFFF;\n",
              "    }\n",
              "  </style>\n",
              "\n",
              "      <script>\n",
              "        const buttonEl =\n",
              "          document.querySelector('#df-6cc9a762-c112-498a-86d8-f19276ce13da button.colab-df-convert');\n",
              "        buttonEl.style.display =\n",
              "          google.colab.kernel.accessAllowed ? 'block' : 'none';\n",
              "\n",
              "        async function convertToInteractive(key) {\n",
              "          const element = document.querySelector('#df-6cc9a762-c112-498a-86d8-f19276ce13da');\n",
              "          const dataTable =\n",
              "            await google.colab.kernel.invokeFunction('convertToInteractive',\n",
              "                                                     [key], {});\n",
              "          if (!dataTable) return;\n",
              "\n",
              "          const docLinkHtml = 'Like what you see? Visit the ' +\n",
              "            '<a target=\"_blank\" href=https://colab.research.google.com/notebooks/data_table.ipynb>data table notebook</a>'\n",
              "            + ' to learn more about interactive tables.';\n",
              "          element.innerHTML = '';\n",
              "          dataTable['output_type'] = 'display_data';\n",
              "          await google.colab.output.renderOutput(dataTable, element);\n",
              "          const docLink = document.createElement('div');\n",
              "          docLink.innerHTML = docLinkHtml;\n",
              "          element.appendChild(docLink);\n",
              "        }\n",
              "      </script>\n",
              "    </div>\n",
              "  </div>\n",
              "  "
            ]
          },
          "metadata": {},
          "execution_count": 3
        }
      ]
    },
    {
      "cell_type": "markdown",
      "metadata": {
        "id": "DBv1fy29jAzm"
      },
      "source": [
        "# Separating Input Features and Output Features\n",
        "Before building any machine learning model, we always separate the input variables and output variables. Input variables are those quantities whose values are changed naturally in an experiment, whereas output variable is the one whose values are dependent on the input variables. So, input variables are also known as independent variables as its values are not dependent on any other quantity, and output variable/s are also known as dependent variables as its values are dependent on other variable i.e. input variables. Like here in this data, we are trying to predict the price of a houce, so this is our target column i.e. 'MEDV'\n",
        "\n",
        "By convention input variables are represented with 'X' and output variables are represented with 'y'."
      ]
    },
    {
      "cell_type": "code",
      "metadata": {
        "id": "ErMptop0jyng"
      },
      "source": [
        "X = boston_data.drop('MEDV', axis = 1)    # Input Variables/features\n",
        "y = boston_data.MEDV      # output variables/features"
      ],
      "execution_count": 4,
      "outputs": []
    },
    {
      "cell_type": "markdown",
      "metadata": {
        "id": "QgXPagiS3YKz"
      },
      "source": [
        "# Splitting the data"
      ]
    },
    {
      "cell_type": "markdown",
      "metadata": {
        "id": "4vOkLlB-Ukjn"
      },
      "source": [
        "We want to check the performance of the model that we built. For this purpose, we always split (both input and output data) the given data into training set which will be used to train the model, and test set which will be used to check how accurately the model is predicting outcomes.\n",
        "\n",
        "For this purpose we have a class called 'train_test_split' in the 'sklearn.model_selection' module.\n",
        "\n",
        "We split 80% of the data to the training set while 20% of the data to test set using below code.\n",
        "The test_size variable is where we actually specify the proportion of the test set.\n",
        "\n",
        "By passing our X and y variables into the train_test_split method, we are able to capture the splits in data by assigning 4 variables to the result."
      ]
    },
    {
      "cell_type": "code",
      "metadata": {
        "id": "1a1OFJmpUl2u"
      },
      "source": [
        "# import train_test_split\n",
        "from sklearn.model_selection import train_test_split \n",
        "\n",
        "# Assign variables to capture train test split output\n",
        "X_train, X_test, y_train, y_test = train_test_split(X, y, test_size=0.2, random_state=42)\n",
        "\n",
        "# X_train: independent/input feature data for training the model\n",
        "# y_train: dependent/output feature data for training the model\n",
        "# X_test: independent/input feature data for testing the model; will be used to predict the output values\n",
        "# y_test: original dependent/output values of X_test; We will compare this values with our predicted values to check the performance of our built model.\n",
        " \n",
        "# test_size = 0.20: 20% of the data will go for test set and 70% of the data will go for train set\n",
        "# random_state = 42: this will fix the split i.e. there will be same split for each time you run the code"
      ],
      "execution_count": 5,
      "outputs": []
    },
    {
      "cell_type": "code",
      "metadata": {
        "id": "UfKNjpJqkPUf",
        "colab": {
          "base_uri": "https://localhost:8080/"
        },
        "outputId": "3964181a-631a-478f-820d-29aa85c14ee2"
      },
      "source": [
        "# find the number of input features\n",
        "n_features = X.shape[1]\n",
        "print(n_features)"
      ],
      "execution_count": 6,
      "outputs": [
        {
          "output_type": "stream",
          "name": "stdout",
          "text": [
            "13\n"
          ]
        }
      ]
    },
    {
      "cell_type": "markdown",
      "metadata": {
        "id": "CwotIN0AU3Ci"
      },
      "source": [
        "# Training our model\n"
      ]
    },
    {
      "cell_type": "markdown",
      "metadata": {
        "id": "5EV_0iiBMBz6"
      },
      "source": [
        "After splitting the data into training and testing sets, it's time to train our first deep learning model. Wait! Before training the deep learning model, let's understand the **Deep Learning Model Life-Cycle**."
      ]
    },
    {
      "cell_type": "markdown",
      "metadata": {
        "id": "j3XXW9NL6H4s"
      },
      "source": [
        "## Neural Network: Architecture\n",
        "Here we are giving you just an overview of the architecture of Neural Network. You will know more about it in next module.\n",
        "\n",
        "Neural Networks consists of an input and output layer with one or more hidden layers.\n",
        "\n",
        "![neural network architecture](https://dphi-courses.s3.ap-south-1.amazonaws.com/Deep+Learning+Bootcamp/nn+arch.png)"
      ]
    },
    {
      "cell_type": "markdown",
      "metadata": {
        "id": "Ymbh14OgMu2Z"
      },
      "source": [
        "## The 5 Step Model Life-Cycle\n",
        "\n",
        "A model has a life-cycle, and this very simple knowledge provides the backbone for both modeling a dataset and understanding the tf.keras API.\n",
        "\n",
        "The five steps in the life-cycle are as follows:\n",
        "\n",
        "1. Define the model.\n",
        "2. Compile the model.\n",
        "3. Fit the model.\n",
        "4. Make predictions on the test data.\n",
        "5. Evaluate the model.\n",
        "\n",
        "We will take closer look into each of the steps and parallely build the deep learning model."
      ]
    },
    {
      "cell_type": "markdown",
      "metadata": {
        "id": "auQ5lPFrN7GN"
      },
      "source": [
        "### 1. Define the model\n",
        "Defining the model requires that you first select the type of model that you need and then choose the architecture or network topology.\n",
        "\n",
        "From an API perspective, this involves defining the layers of the model, configuring each layer with a number of nodes and activation function, and connecting the layers together into a cohesive model.\n",
        "\n",
        "Models can be defined either with the Sequential API or the Functional API (you will know this in later modules). Here we will define the model with Sequential API. Now **what is Sequential API?**\n",
        "\n",
        "**Sequential API**\n",
        "The sequential API is the simplest API to get started with Deep Learning. \n",
        "\n",
        "It is referred to as “sequential” because it involves defining a Sequential class and adding layers to the model one by one in a linear manner, from input to output.\n",
        "\n",
        "The example below defines a Sequential MLP model that accepts one input (i.e. 'YearsExperience'), has one hidden layer with 1 node and then an output layer with one node to predict a numerical value.\n",
        "\n"
      ]
    },
    {
      "cell_type": "code",
      "metadata": {
        "id": "JY303RWVPzkD"
      },
      "source": [
        "from tensorflow.keras import Sequential    # import Sequential from tensorflow.keras\n",
        "from tensorflow.keras.layers import Dense  # import Dense from tensorflow.keras.layers\n",
        "from numpy.random import seed     # seed helps you to fix the randomness in the neural network.  \n",
        "import tensorflow"
      ],
      "execution_count": 7,
      "outputs": []
    },
    {
      "cell_type": "code",
      "metadata": {
        "id": "mMDrQE9gQP6U"
      },
      "source": [
        "# define the model\n",
        "model = Sequential()\n",
        "model.add(Dense(10, activation='relu', input_shape=(n_features,)))\n",
        "model.add(Dense(8, activation='relu'))\n",
        "model.add(Dense(1))"
      ],
      "execution_count": 8,
      "outputs": []
    },
    {
      "cell_type": "markdown",
      "metadata": {
        "id": "93ntHsm1QnLP"
      },
      "source": [
        "Note that the visible layer of the network is defined by the “input_shape” argument on the first hidden layer. That means in the above example, the model expects the input for one sample to be a vector of n_features (i.e. 13) number . \n",
        "\n",
        "The sequential API is easy to use because you keep calling model.add() until you have added all of your layers."
      ]
    },
    {
      "cell_type": "markdown",
      "metadata": {
        "id": "ABBhVYtXRlJq"
      },
      "source": [
        "The activation function we have chosen is **ReLU**, which stands for **rectified linear unit**. Activation function decides, whether a neuron should be activated or not\n",
        "\n",
        "ReLU is defined mathematically as **F(x) = max(0,x)**. In other words, the output is x, if x is greater than 0, and the output is 0 if x is 0 or negative."
      ]
    },
    {
      "cell_type": "markdown",
      "metadata": {
        "id": "D100gBMQSTn8"
      },
      "source": [
        "### 2. Compile the model\n",
        "Compiling the model requires that you first select a loss function that you want to optimize, such as mean squared error or cross-entropy.\n",
        "\n",
        "It also requires that you select an algorithm to perform the optimization procedure. We’re using **RMSprop** as our optimizer here. RMSprop stands for **Root Mean Square Propagation**. It’s one of the most popular gradient descent optimization algorithms for deep learning networks. RMSprop is an optimizer that’s reliable and fast. \n",
        "\n",
        "**Note:** For the time being understand gradient descent as just an optimization algorithm. You will know more about it in the next module.\n",
        "\n",
        "It may also require that you select any performance metrics to keep track of during the model training process. The loss function used here is **mean squared error.** (don't worry if you don't know about the loss function mean squared error, for the time being just know it's a function that helps you know the error or loss your model is giving. You will learn more about loss functions in the coming modules)\n",
        "\n",
        "From an API perspective, this involves calling a function to compile the model with the chosen configuration, which will prepare the appropriate data structures required for the efficient use of the model you have defined."
      ]
    },
    {
      "cell_type": "code",
      "metadata": {
        "id": "doYNy1jJQa7J"
      },
      "source": [
        "# import RMSprop optimizer\n",
        "from tensorflow.keras.optimizers import RMSprop\n",
        "optimizer = RMSprop(0.01)    # 0.01 is the learning rate"
      ],
      "execution_count": 9,
      "outputs": []
    },
    {
      "cell_type": "markdown",
      "metadata": {
        "id": "AiOzHe6K8iaM"
      },
      "source": [
        "**Why learning rate = 0.01?**\n",
        "\n",
        "It is important to find a good value for the learning rate for your model on your training dataset. we cannot analytically calculate the optimal learning rate for a given model on a given dataset. Instead, a good (or good enough) learning rate must be discovered via trial and error.\n",
        "\n",
        "The range of values to consider for the learning rate is less than 1.0 and greater than $10^{-6}$.\n",
        "\n",
        "A traditional default value for the learning rate is 0.1 or 0.01, and this may represent a good starting point on your problem."
      ]
    },
    {
      "cell_type": "code",
      "metadata": {
        "id": "gNxnRf2uUqev"
      },
      "source": [
        "model.compile(loss='mean_squared_error',optimizer=optimizer)    # compile the model"
      ],
      "execution_count": 10,
      "outputs": []
    },
    {
      "cell_type": "markdown",
      "metadata": {
        "id": "GQPPF22pVHMU"
      },
      "source": [
        "### 3. Fitting the model\n",
        "Fitting the model requires that you first select the training configuration, such as the number of epochs (loops through the training dataset) and the batch size (number of samples in an epoch used to estimate model error).\n",
        "\n",
        "Training applies the chosen optimization algorithm to minimize the chosen loss function and updates the model using the backpropagation (don't worry if you don't know this term, you will know it in the next module) of error algorithm.\n",
        "\n",
        "Fitting the model is the slow part of the whole process and can take seconds to hours to days, depending on the complexity of the model, the hardware you’re using, and the size of the training dataset.\n",
        "\n",
        "From an API perspective, this involves calling a function to perform the training process. This function will block (not return) until the training process has finished.\n",
        "\n",
        "While fitting the model, a progress bar will summarize the status of each epoch and the overall training process."
      ]
    },
    {
      "cell_type": "code",
      "metadata": {
        "id": "WnG7pev1UxNs",
        "colab": {
          "base_uri": "https://localhost:8080/"
        },
        "outputId": "c26740e4-2eff-4ec0-bfa5-3fffa19ed6f2"
      },
      "source": [
        "seed_value = 42\n",
        "seed(seed_value)        # If you build the model with given parameters, set_random_seed will help you produce the same result on multiple execution\n",
        "\n",
        "\n",
        "# Recommended by Keras -------------------------------------------------------------------------------------\n",
        "# 1. Set `PYTHONHASHSEED` environment variable at a fixed value\n",
        "import os\n",
        "os.environ['PYTHONHASHSEED']=str(seed_value)\n",
        "\n",
        "# 2. Set `python` built-in pseudo-random generator at a fixed value\n",
        "import random\n",
        "random.seed(seed_value)\n",
        "\n",
        "# 3. Set `numpy` pseudo-random generator at a fixed value\n",
        "import numpy as np\n",
        "np.random.seed(seed_value)\n",
        "# Recommended by Keras -------------------------------------------------------------------------------------\n",
        "\n",
        "\n",
        "# 4. Set the `tensorflow` pseudo-random generator at a fixed value\n",
        "tensorflow.random.set_seed(seed_value) \n",
        "model.fit(X_train, y_train, epochs=10, batch_size=30, verbose = 1)"
      ],
      "execution_count": 11,
      "outputs": [
        {
          "output_type": "stream",
          "name": "stdout",
          "text": [
            "Epoch 1/10\n",
            "11/11 [==============================] - 1s 3ms/step - loss: 777.7345\n",
            "Epoch 2/10\n",
            "11/11 [==============================] - 0s 2ms/step - loss: 130.9237\n",
            "Epoch 3/10\n",
            "11/11 [==============================] - 0s 2ms/step - loss: 200.0301\n",
            "Epoch 4/10\n",
            "11/11 [==============================] - 0s 2ms/step - loss: 152.6566\n",
            "Epoch 5/10\n",
            "11/11 [==============================] - 0s 2ms/step - loss: 146.6907\n",
            "Epoch 6/10\n",
            "11/11 [==============================] - 0s 2ms/step - loss: 117.4814\n",
            "Epoch 7/10\n",
            "11/11 [==============================] - 0s 2ms/step - loss: 96.8586\n",
            "Epoch 8/10\n",
            "11/11 [==============================] - 0s 2ms/step - loss: 101.9875\n",
            "Epoch 9/10\n",
            "11/11 [==============================] - 0s 2ms/step - loss: 81.4185\n",
            "Epoch 10/10\n",
            "11/11 [==============================] - 0s 2ms/step - loss: 89.6873\n"
          ]
        },
        {
          "output_type": "execute_result",
          "data": {
            "text/plain": [
              "<keras.callbacks.History at 0x7fbe4d81b950>"
            ]
          },
          "metadata": {},
          "execution_count": 11
        }
      ]
    },
    {
      "cell_type": "markdown",
      "metadata": {
        "id": "XZzI8-Kl_Rdg"
      },
      "source": [
        "What is **verbose**?\n",
        "\n",
        "By setting verbose 0, 1 or 2 you just say how do you want to 'see' the training progress for each epoch.\n",
        "\n",
        "`verbose=0` will show you nothing (silent)\n",
        "\n",
        "`verbose=1` will show you an animated progress bar like this:\n",
        "\n",
        "![progres_bar](https://dphi-courses.s3.ap-south-1.amazonaws.com/Deep+Learning+Bootcamp/progress+bar.png)\n",
        "\n",
        "`verbose=2` will just mention the number of epoch like this:\n",
        "\n",
        "![verbose = 2](https://dphi-courses.s3.ap-south-1.amazonaws.com/Deep+Learning+Bootcamp/epoch.png)"
      ]
    },
    {
      "cell_type": "markdown",
      "metadata": {
        "id": "t_tKcVVzhJf8"
      },
      "source": [
        "### 4. Evaluate the model\n",
        "Evaluating the model requires that you first choose a holdout dataset used to evaluate the model. This should be data not used in the training process i.e. the X_test.\n",
        "\n",
        "The speed of model evaluation is proportional to the amount of data you want to use for the evaluation, although it is much faster than training as the model is not changed.\n",
        "\n",
        "From an API perspective, this involves calling a function with the holdout dataset and getting a loss and perhaps other metrics that can be reported."
      ]
    },
    {
      "cell_type": "code",
      "metadata": {
        "id": "qC63QoqchIa1",
        "colab": {
          "base_uri": "https://localhost:8080/"
        },
        "outputId": "56f7137a-952a-4292-f84b-0800371addb7"
      },
      "source": [
        "model.evaluate(X_test, y_test)"
      ],
      "execution_count": 12,
      "outputs": [
        {
          "output_type": "stream",
          "name": "stdout",
          "text": [
            "3/3 [==============================] - 0s 4ms/step - loss: 134.5793\n"
          ]
        },
        {
          "output_type": "execute_result",
          "data": {
            "text/plain": [
              "134.5792999267578"
            ]
          },
          "metadata": {},
          "execution_count": 12
        }
      ]
    },
    {
      "cell_type": "markdown",
      "metadata": {
        "id": "gHM4sYEOnD7j"
      },
      "source": [
        "The mean squared error we got here is 64.8. Now, **what does it mean?**\n",
        "\n",
        "When you subtract the predicted values (of X_test data) from the acutal value (of X_test data), then square it and sum all the squares, and finally take a mean (i.e. average) of it, the result you will get is 64.8 in this case.\n",
        "\n",
        "evaluate() does this task automatically. If you want to get the prediciton for X_test you can do **`model.predict(X_test)`**"
      ]
    },
    {
      "cell_type": "markdown",
      "metadata": {
        "id": "li94FIlfnMBB"
      },
      "source": [
        "#### Hyperparameter Tunning\n",
        "The hyperparameters here in this notebook are:\n",
        "1. Learning Rate\n",
        "2. Epochs\n",
        "3. Batch Size\n",
        "\n",
        "We can try and change the values of these parameters and see the performance  of the model (evaluate the model) on X_test data"
      ]
    },
    {
      "cell_type": "markdown",
      "metadata": {
        "id": "XljOzViRoRbp"
      },
      "source": [
        "**Learning Rate**\n",
        "\n",
        "A scalar used to train a model via gradient descent. During each iteration, the **gradient descent** algorithm multiplies the learning rate by the gradient. The resulting product is called the **gradient step**.\n",
        "\n",
        "Learning rate is a key **hyperparameter**."
      ]
    },
    {
      "cell_type": "code",
      "metadata": {
        "id": "puhKnL9KKuZX",
        "colab": {
          "base_uri": "https://localhost:8080/"
        },
        "outputId": "1361fe53-8ec8-444c-ccd3-db4955a6db26"
      },
      "source": [
        "####################### Complete example to check the performance of the model with different learning rates #######################################\n",
        "# define the model\n",
        "model = Sequential()\n",
        "model.add(Dense(10, activation='relu', input_shape=(n_features,)))\n",
        "model.add(Dense(8, activation='relu'))\n",
        "model.add(Dense(1))\n",
        "\n",
        "optimizer = RMSprop(0.1)    # 0.1 is the learning rate\n",
        "model.compile(loss='mean_squared_error',optimizer=optimizer)    # compile the model\n",
        "\n",
        "# fit the model \n",
        "model.fit(X_train, y_train, epochs=10, batch_size=30, verbose = 1)\n",
        "\n",
        "# evaluate the model\n",
        "print('The MSE value is: ', model.evaluate(X_test, y_test))"
      ],
      "execution_count": 13,
      "outputs": [
        {
          "output_type": "stream",
          "name": "stdout",
          "text": [
            "Epoch 1/10\n",
            "11/11 [==============================] - 1s 2ms/step - loss: 35268.1836\n",
            "Epoch 2/10\n",
            "11/11 [==============================] - 0s 2ms/step - loss: 559.4072\n",
            "Epoch 3/10\n",
            "11/11 [==============================] - 0s 2ms/step - loss: 212.1512\n",
            "Epoch 4/10\n",
            "11/11 [==============================] - 0s 2ms/step - loss: 139.3775\n",
            "Epoch 5/10\n",
            "11/11 [==============================] - 0s 2ms/step - loss: 129.5609\n",
            "Epoch 6/10\n",
            "11/11 [==============================] - 0s 2ms/step - loss: 122.8495\n",
            "Epoch 7/10\n",
            "11/11 [==============================] - 0s 2ms/step - loss: 174.4109\n",
            "Epoch 8/10\n",
            "11/11 [==============================] - 0s 2ms/step - loss: 142.8208\n",
            "Epoch 9/10\n",
            "11/11 [==============================] - 0s 2ms/step - loss: 201.2052\n",
            "Epoch 10/10\n",
            "11/11 [==============================] - 0s 2ms/step - loss: 223.9953\n",
            "3/3 [==============================] - 0s 7ms/step - loss: 122.8359\n",
            "The MSE value is:  122.8359375\n"
          ]
        }
      ]
    },
    {
      "cell_type": "markdown",
      "metadata": {
        "id": "VPneBHxHYxfC"
      },
      "source": [
        "As you can see above, how the loss (cost) i.e. MSE has changed by just changing the learning rate."
      ]
    },
    {
      "cell_type": "markdown",
      "metadata": {
        "id": "fhi50q4rhUiF"
      },
      "source": [
        "### Exercise 1\n",
        "\n",
        "Test several learning rate values to see the impact of varying this value when defining your model."
      ]
    },
    {
      "cell_type": "code",
      "metadata": {
        "id": "k4BqC2Cfo159"
      },
      "source": [
        "# Play with learning rate\n",
        "learning_rate = 0.001        # Replace ? with a floating-point number\n",
        "epochs = 100\n",
        "optimizer = RMSprop(learning_rate)\n",
        "model.compile(loss='mean_squared_error',optimizer=optimizer)    # compile the model\n",
        "model.fit(X_train, y_train, epochs=epochs, batch_size=30)     # fit the model\n",
        "model.evaluate(X_test, y_test)       # Evaluate the model"
      ],
      "execution_count": null,
      "outputs": []
    },
    {
      "cell_type": "markdown",
      "metadata": {
        "id": "Mov9-uVwpmkd"
      },
      "source": [
        "**Epochs**\n",
        "\n",
        "A full training pass over the entire dataset such that each example has been seen once. Thus, an epoch represents N/batch size training iterations, where N is the total number of examples."
      ]
    },
    {
      "cell_type": "code",
      "metadata": {
        "id": "zlZv50iKZPqo",
        "colab": {
          "base_uri": "https://localhost:8080/"
        },
        "outputId": "9e2e0f20-7fc0-4020-98d0-6d2a7b668553"
      },
      "source": [
        "####################### Complete example to check the performance of the model with different epochs and learning rate = 0.01 #######################################\n",
        "# define the model\n",
        "model = Sequential()\n",
        "model.add(Dense(10, activation='relu', input_shape=(n_features,)))\n",
        "model.add(Dense(8, activation='relu'))\n",
        "model.add(Dense(1))\n",
        "\n",
        "optimizer = RMSprop(0.1)    # 0.1 is the learning rate\n",
        "model.compile(loss='mean_squared_error',optimizer=optimizer)    # compile the model\n",
        "\n",
        "# fit the model \n",
        "model.fit(X_train, y_train, epochs=100, batch_size=30, verbose = 1)\n",
        "\n",
        "# evaluate the model\n",
        "print('The MSE value is: ', model.evaluate(X_test, y_test))"
      ],
      "execution_count": 15,
      "outputs": [
        {
          "output_type": "stream",
          "name": "stdout",
          "text": [
            "Epoch 1/100\n",
            "11/11 [==============================] - 1s 2ms/step - loss: 9724.5742\n",
            "Epoch 2/100\n",
            "11/11 [==============================] - 0s 2ms/step - loss: 582.0069\n",
            "Epoch 3/100\n",
            "11/11 [==============================] - 0s 2ms/step - loss: 555.8216\n",
            "Epoch 4/100\n",
            "11/11 [==============================] - 0s 2ms/step - loss: 521.9397\n",
            "Epoch 5/100\n",
            "11/11 [==============================] - 0s 2ms/step - loss: 483.8689\n",
            "Epoch 6/100\n",
            "11/11 [==============================] - 0s 2ms/step - loss: 444.7491\n",
            "Epoch 7/100\n",
            "11/11 [==============================] - 0s 2ms/step - loss: 406.9054\n",
            "Epoch 8/100\n",
            "11/11 [==============================] - 0s 2ms/step - loss: 371.2612\n",
            "Epoch 9/100\n",
            "11/11 [==============================] - 0s 2ms/step - loss: 337.6587\n",
            "Epoch 10/100\n",
            "11/11 [==============================] - 0s 2ms/step - loss: 306.2268\n",
            "Epoch 11/100\n",
            "11/11 [==============================] - 0s 2ms/step - loss: 277.0800\n",
            "Epoch 12/100\n",
            "11/11 [==============================] - 0s 2ms/step - loss: 250.4167\n",
            "Epoch 13/100\n",
            "11/11 [==============================] - 0s 2ms/step - loss: 225.5309\n",
            "Epoch 14/100\n",
            "11/11 [==============================] - 0s 2ms/step - loss: 202.9859\n",
            "Epoch 15/100\n",
            "11/11 [==============================] - 0s 2ms/step - loss: 182.7787\n",
            "Epoch 16/100\n",
            "11/11 [==============================] - 0s 2ms/step - loss: 164.8227\n",
            "Epoch 17/100\n",
            "11/11 [==============================] - 0s 3ms/step - loss: 148.9729\n",
            "Epoch 18/100\n",
            "11/11 [==============================] - 0s 2ms/step - loss: 135.4988\n",
            "Epoch 19/100\n",
            "11/11 [==============================] - 0s 2ms/step - loss: 123.8988\n",
            "Epoch 20/100\n",
            "11/11 [==============================] - 0s 2ms/step - loss: 114.1056\n",
            "Epoch 21/100\n",
            "11/11 [==============================] - 0s 2ms/step - loss: 106.0993\n",
            "Epoch 22/100\n",
            "11/11 [==============================] - 0s 2ms/step - loss: 100.3444\n",
            "Epoch 23/100\n",
            "11/11 [==============================] - 0s 2ms/step - loss: 96.4450\n",
            "Epoch 24/100\n",
            "11/11 [==============================] - 0s 2ms/step - loss: 93.5845\n",
            "Epoch 25/100\n",
            "11/11 [==============================] - 0s 2ms/step - loss: 92.0008\n",
            "Epoch 26/100\n",
            "11/11 [==============================] - 0s 2ms/step - loss: 91.3616\n",
            "Epoch 27/100\n",
            "11/11 [==============================] - 0s 2ms/step - loss: 91.0118\n",
            "Epoch 28/100\n",
            "11/11 [==============================] - 0s 2ms/step - loss: 91.1522\n",
            "Epoch 29/100\n",
            "11/11 [==============================] - 0s 2ms/step - loss: 91.0371\n",
            "Epoch 30/100\n",
            "11/11 [==============================] - 0s 2ms/step - loss: 91.0573\n",
            "Epoch 31/100\n",
            "11/11 [==============================] - 0s 2ms/step - loss: 90.9193\n",
            "Epoch 32/100\n",
            "11/11 [==============================] - 0s 2ms/step - loss: 91.0018\n",
            "Epoch 33/100\n",
            "11/11 [==============================] - 0s 2ms/step - loss: 90.9787\n",
            "Epoch 34/100\n",
            "11/11 [==============================] - 0s 2ms/step - loss: 90.9684\n",
            "Epoch 35/100\n",
            "11/11 [==============================] - 0s 2ms/step - loss: 91.0983\n",
            "Epoch 36/100\n",
            "11/11 [==============================] - 0s 2ms/step - loss: 90.9732\n",
            "Epoch 37/100\n",
            "11/11 [==============================] - 0s 2ms/step - loss: 90.9472\n",
            "Epoch 38/100\n",
            "11/11 [==============================] - 0s 2ms/step - loss: 90.9128\n",
            "Epoch 39/100\n",
            "11/11 [==============================] - 0s 2ms/step - loss: 91.0360\n",
            "Epoch 40/100\n",
            "11/11 [==============================] - 0s 2ms/step - loss: 90.9132\n",
            "Epoch 41/100\n",
            "11/11 [==============================] - 0s 2ms/step - loss: 90.9193\n",
            "Epoch 42/100\n",
            "11/11 [==============================] - 0s 2ms/step - loss: 90.9364\n",
            "Epoch 43/100\n",
            "11/11 [==============================] - 0s 2ms/step - loss: 90.8977\n",
            "Epoch 44/100\n",
            "11/11 [==============================] - 0s 2ms/step - loss: 90.9577\n",
            "Epoch 45/100\n",
            "11/11 [==============================] - 0s 2ms/step - loss: 90.9994\n",
            "Epoch 46/100\n",
            "11/11 [==============================] - 0s 2ms/step - loss: 91.0100\n",
            "Epoch 47/100\n",
            "11/11 [==============================] - 0s 2ms/step - loss: 91.0025\n",
            "Epoch 48/100\n",
            "11/11 [==============================] - 0s 2ms/step - loss: 91.0074\n",
            "Epoch 49/100\n",
            "11/11 [==============================] - 0s 2ms/step - loss: 90.9457\n",
            "Epoch 50/100\n",
            "11/11 [==============================] - 0s 2ms/step - loss: 91.0306\n",
            "Epoch 51/100\n",
            "11/11 [==============================] - 0s 2ms/step - loss: 91.1645\n",
            "Epoch 52/100\n",
            "11/11 [==============================] - 0s 2ms/step - loss: 90.9211\n",
            "Epoch 53/100\n",
            "11/11 [==============================] - 0s 2ms/step - loss: 90.9330\n",
            "Epoch 54/100\n",
            "11/11 [==============================] - 0s 2ms/step - loss: 90.8901\n",
            "Epoch 55/100\n",
            "11/11 [==============================] - 0s 2ms/step - loss: 91.0190\n",
            "Epoch 56/100\n",
            "11/11 [==============================] - 0s 2ms/step - loss: 91.0044\n",
            "Epoch 57/100\n",
            "11/11 [==============================] - 0s 2ms/step - loss: 91.0272\n",
            "Epoch 58/100\n",
            "11/11 [==============================] - 0s 3ms/step - loss: 91.0088\n",
            "Epoch 59/100\n",
            "11/11 [==============================] - 0s 2ms/step - loss: 91.0335\n",
            "Epoch 60/100\n",
            "11/11 [==============================] - 0s 2ms/step - loss: 90.8989\n",
            "Epoch 61/100\n",
            "11/11 [==============================] - 0s 2ms/step - loss: 91.0687\n",
            "Epoch 62/100\n",
            "11/11 [==============================] - 0s 2ms/step - loss: 90.9590\n",
            "Epoch 63/100\n",
            "11/11 [==============================] - 0s 2ms/step - loss: 90.9457\n",
            "Epoch 64/100\n",
            "11/11 [==============================] - 0s 2ms/step - loss: 90.9054\n",
            "Epoch 65/100\n",
            "11/11 [==============================] - 0s 2ms/step - loss: 91.0399\n",
            "Epoch 66/100\n",
            "11/11 [==============================] - 0s 2ms/step - loss: 90.9739\n",
            "Epoch 67/100\n",
            "11/11 [==============================] - 0s 2ms/step - loss: 90.9935\n",
            "Epoch 68/100\n",
            "11/11 [==============================] - 0s 2ms/step - loss: 90.9428\n",
            "Epoch 69/100\n",
            "11/11 [==============================] - 0s 2ms/step - loss: 90.9365\n",
            "Epoch 70/100\n",
            "11/11 [==============================] - 0s 3ms/step - loss: 90.9752\n",
            "Epoch 71/100\n",
            "11/11 [==============================] - 0s 2ms/step - loss: 90.9980\n",
            "Epoch 72/100\n",
            "11/11 [==============================] - 0s 2ms/step - loss: 91.0044\n",
            "Epoch 73/100\n",
            "11/11 [==============================] - 0s 2ms/step - loss: 91.0282\n",
            "Epoch 74/100\n",
            "11/11 [==============================] - 0s 2ms/step - loss: 91.0151\n",
            "Epoch 75/100\n",
            "11/11 [==============================] - 0s 2ms/step - loss: 90.9688\n",
            "Epoch 76/100\n",
            "11/11 [==============================] - 0s 2ms/step - loss: 90.9369\n",
            "Epoch 77/100\n",
            "11/11 [==============================] - 0s 2ms/step - loss: 91.0542\n",
            "Epoch 78/100\n",
            "11/11 [==============================] - 0s 2ms/step - loss: 90.9409\n",
            "Epoch 79/100\n",
            "11/11 [==============================] - 0s 2ms/step - loss: 91.1157\n",
            "Epoch 80/100\n",
            "11/11 [==============================] - 0s 2ms/step - loss: 90.9322\n",
            "Epoch 81/100\n",
            "11/11 [==============================] - 0s 2ms/step - loss: 91.0418\n",
            "Epoch 82/100\n",
            "11/11 [==============================] - 0s 2ms/step - loss: 90.9078\n",
            "Epoch 83/100\n",
            "11/11 [==============================] - 0s 2ms/step - loss: 90.9901\n",
            "Epoch 84/100\n",
            "11/11 [==============================] - 0s 2ms/step - loss: 91.0322\n",
            "Epoch 85/100\n",
            "11/11 [==============================] - 0s 2ms/step - loss: 91.0187\n",
            "Epoch 86/100\n",
            "11/11 [==============================] - 0s 2ms/step - loss: 90.9214\n",
            "Epoch 87/100\n",
            "11/11 [==============================] - 0s 2ms/step - loss: 91.0568\n",
            "Epoch 88/100\n",
            "11/11 [==============================] - 0s 2ms/step - loss: 90.8874\n",
            "Epoch 89/100\n",
            "11/11 [==============================] - 0s 2ms/step - loss: 90.9281\n",
            "Epoch 90/100\n",
            "11/11 [==============================] - 0s 3ms/step - loss: 91.0325\n",
            "Epoch 91/100\n",
            "11/11 [==============================] - 0s 3ms/step - loss: 90.9906\n",
            "Epoch 92/100\n",
            "11/11 [==============================] - 0s 2ms/step - loss: 91.0670\n",
            "Epoch 93/100\n",
            "11/11 [==============================] - 0s 2ms/step - loss: 90.8633\n",
            "Epoch 94/100\n",
            "11/11 [==============================] - 0s 2ms/step - loss: 90.9740\n",
            "Epoch 95/100\n",
            "11/11 [==============================] - 0s 2ms/step - loss: 91.0710\n",
            "Epoch 96/100\n",
            "11/11 [==============================] - 0s 3ms/step - loss: 90.9303\n",
            "Epoch 97/100\n",
            "11/11 [==============================] - 0s 2ms/step - loss: 90.9599\n",
            "Epoch 98/100\n",
            "11/11 [==============================] - 0s 2ms/step - loss: 90.9305\n",
            "Epoch 99/100\n",
            "11/11 [==============================] - 0s 2ms/step - loss: 91.0165\n",
            "Epoch 100/100\n",
            "11/11 [==============================] - 0s 2ms/step - loss: 90.9525\n",
            "3/3 [==============================] - 0s 3ms/step - loss: 71.1146\n",
            "The MSE value is:  71.11458587646484\n"
          ]
        }
      ]
    },
    {
      "cell_type": "markdown",
      "metadata": {
        "id": "CPakaxBaZZNA"
      },
      "source": [
        "You can see above how the loss (cost) i.e. MSE has changed just by changing the epochs and keeping the learning rate same as 0.01 (i.e. the first model we built)"
      ]
    },
    {
      "cell_type": "markdown",
      "metadata": {
        "id": "6WoG362ohrQF"
      },
      "source": [
        "### Exercise 2\n",
        "\n",
        "Test several epoch values to see the impact of varying this value when defining your model."
      ]
    },
    {
      "cell_type": "code",
      "metadata": {
        "id": "QUmO4ehKqC2_",
        "colab": {
          "base_uri": "https://localhost:8080/"
        },
        "outputId": "cec26370-4868-467c-9197-d69ff35cc2f2"
      },
      "source": [
        "# Play with epochs\n",
        "learning_rate = 0.01         \n",
        "epochs = 200          # Replace ? with an integer\n",
        "optimizer = RMSprop(learning_rate)\n",
        "model.compile(loss='mean_squared_error',optimizer=optimizer)    # compile the model\n",
        "model.fit(X_train, y_train, epochs=epochs, batch_size=30)     # fit the model\n",
        "model.evaluate(X_test, y_test)       # Evaluate the model"
      ],
      "execution_count": 16,
      "outputs": [
        {
          "output_type": "stream",
          "name": "stdout",
          "text": [
            "Epoch 1/200\n",
            "11/11 [==============================] - 1s 2ms/step - loss: 90.8950\n",
            "Epoch 2/200\n",
            "11/11 [==============================] - 0s 2ms/step - loss: 90.8589\n",
            "Epoch 3/200\n",
            "11/11 [==============================] - 0s 2ms/step - loss: 90.8528\n",
            "Epoch 4/200\n",
            "11/11 [==============================] - 0s 2ms/step - loss: 90.8618\n",
            "Epoch 5/200\n",
            "11/11 [==============================] - 0s 2ms/step - loss: 90.8457\n",
            "Epoch 6/200\n",
            "11/11 [==============================] - 0s 2ms/step - loss: 90.8506\n",
            "Epoch 7/200\n",
            "11/11 [==============================] - 0s 2ms/step - loss: 90.8558\n",
            "Epoch 8/200\n",
            "11/11 [==============================] - 0s 2ms/step - loss: 90.8523\n",
            "Epoch 9/200\n",
            "11/11 [==============================] - 0s 2ms/step - loss: 90.8504\n",
            "Epoch 10/200\n",
            "11/11 [==============================] - 0s 2ms/step - loss: 90.8458\n",
            "Epoch 11/200\n",
            "11/11 [==============================] - 0s 2ms/step - loss: 90.8458\n",
            "Epoch 12/200\n",
            "11/11 [==============================] - 0s 2ms/step - loss: 90.8447\n",
            "Epoch 13/200\n",
            "11/11 [==============================] - 0s 2ms/step - loss: 90.8563\n",
            "Epoch 14/200\n",
            "11/11 [==============================] - 0s 2ms/step - loss: 90.8644\n",
            "Epoch 15/200\n",
            "11/11 [==============================] - 0s 2ms/step - loss: 90.8415\n",
            "Epoch 16/200\n",
            "11/11 [==============================] - 0s 2ms/step - loss: 90.8447\n",
            "Epoch 17/200\n",
            "11/11 [==============================] - 0s 2ms/step - loss: 90.8458\n",
            "Epoch 18/200\n",
            "11/11 [==============================] - 0s 2ms/step - loss: 90.8387\n",
            "Epoch 19/200\n",
            "11/11 [==============================] - 0s 2ms/step - loss: 90.8452\n",
            "Epoch 20/200\n",
            "11/11 [==============================] - 0s 2ms/step - loss: 90.8412\n",
            "Epoch 21/200\n",
            "11/11 [==============================] - 0s 2ms/step - loss: 90.8522\n",
            "Epoch 22/200\n",
            "11/11 [==============================] - 0s 2ms/step - loss: 90.8416\n",
            "Epoch 23/200\n",
            "11/11 [==============================] - 0s 2ms/step - loss: 90.8450\n",
            "Epoch 24/200\n",
            "11/11 [==============================] - 0s 3ms/step - loss: 90.8410\n",
            "Epoch 25/200\n",
            "11/11 [==============================] - 0s 2ms/step - loss: 90.8437\n",
            "Epoch 26/200\n",
            "11/11 [==============================] - 0s 3ms/step - loss: 90.8383\n",
            "Epoch 27/200\n",
            "11/11 [==============================] - 0s 3ms/step - loss: 90.8386\n",
            "Epoch 28/200\n",
            "11/11 [==============================] - 0s 2ms/step - loss: 90.8633\n",
            "Epoch 29/200\n",
            "11/11 [==============================] - 0s 2ms/step - loss: 90.8507\n",
            "Epoch 30/200\n",
            "11/11 [==============================] - 0s 2ms/step - loss: 90.8525\n",
            "Epoch 31/200\n",
            "11/11 [==============================] - 0s 2ms/step - loss: 90.8397\n",
            "Epoch 32/200\n",
            "11/11 [==============================] - 0s 2ms/step - loss: 90.8478\n",
            "Epoch 33/200\n",
            "11/11 [==============================] - 0s 2ms/step - loss: 90.8443\n",
            "Epoch 34/200\n",
            "11/11 [==============================] - 0s 2ms/step - loss: 90.8438\n",
            "Epoch 35/200\n",
            "11/11 [==============================] - 0s 2ms/step - loss: 90.8570\n",
            "Epoch 36/200\n",
            "11/11 [==============================] - 0s 2ms/step - loss: 90.8449\n",
            "Epoch 37/200\n",
            "11/11 [==============================] - 0s 2ms/step - loss: 90.8414\n",
            "Epoch 38/200\n",
            "11/11 [==============================] - 0s 2ms/step - loss: 90.8383\n",
            "Epoch 39/200\n",
            "11/11 [==============================] - 0s 2ms/step - loss: 90.8509\n",
            "Epoch 40/200\n",
            "11/11 [==============================] - 0s 2ms/step - loss: 90.8390\n",
            "Epoch 41/200\n",
            "11/11 [==============================] - 0s 3ms/step - loss: 90.8401\n",
            "Epoch 42/200\n",
            "11/11 [==============================] - 0s 2ms/step - loss: 90.8420\n",
            "Epoch 43/200\n",
            "11/11 [==============================] - 0s 2ms/step - loss: 90.8365\n",
            "Epoch 44/200\n",
            "11/11 [==============================] - 0s 2ms/step - loss: 90.8426\n",
            "Epoch 45/200\n",
            "11/11 [==============================] - 0s 2ms/step - loss: 90.8466\n",
            "Epoch 46/200\n",
            "11/11 [==============================] - 0s 2ms/step - loss: 90.8489\n",
            "Epoch 47/200\n",
            "11/11 [==============================] - 0s 2ms/step - loss: 90.8475\n",
            "Epoch 48/200\n",
            "11/11 [==============================] - 0s 2ms/step - loss: 90.8500\n",
            "Epoch 49/200\n",
            "11/11 [==============================] - 0s 2ms/step - loss: 90.8411\n",
            "Epoch 50/200\n",
            "11/11 [==============================] - 0s 2ms/step - loss: 90.8499\n",
            "Epoch 51/200\n",
            "11/11 [==============================] - 0s 2ms/step - loss: 90.8639\n",
            "Epoch 52/200\n",
            "11/11 [==============================] - 0s 2ms/step - loss: 90.8385\n",
            "Epoch 53/200\n",
            "11/11 [==============================] - 0s 2ms/step - loss: 90.8402\n",
            "Epoch 54/200\n",
            "11/11 [==============================] - 0s 2ms/step - loss: 90.8356\n",
            "Epoch 55/200\n",
            "11/11 [==============================] - 0s 2ms/step - loss: 90.8491\n",
            "Epoch 56/200\n",
            "11/11 [==============================] - 0s 2ms/step - loss: 90.8478\n",
            "Epoch 57/200\n",
            "11/11 [==============================] - 0s 2ms/step - loss: 90.8487\n",
            "Epoch 58/200\n",
            "11/11 [==============================] - 0s 2ms/step - loss: 90.8477\n",
            "Epoch 59/200\n",
            "11/11 [==============================] - 0s 2ms/step - loss: 90.8494\n",
            "Epoch 60/200\n",
            "11/11 [==============================] - 0s 2ms/step - loss: 90.8362\n",
            "Epoch 61/200\n",
            "11/11 [==============================] - 0s 2ms/step - loss: 90.8540\n",
            "Epoch 62/200\n",
            "11/11 [==============================] - 0s 2ms/step - loss: 90.8425\n",
            "Epoch 63/200\n",
            "11/11 [==============================] - 0s 2ms/step - loss: 90.8402\n",
            "Epoch 64/200\n",
            "11/11 [==============================] - 0s 2ms/step - loss: 90.8360\n",
            "Epoch 65/200\n",
            "11/11 [==============================] - 0s 2ms/step - loss: 90.8528\n",
            "Epoch 66/200\n",
            "11/11 [==============================] - 0s 2ms/step - loss: 90.8430\n",
            "Epoch 67/200\n",
            "11/11 [==============================] - 0s 2ms/step - loss: 90.8457\n",
            "Epoch 68/200\n",
            "11/11 [==============================] - 0s 2ms/step - loss: 90.8425\n",
            "Epoch 69/200\n",
            "11/11 [==============================] - 0s 2ms/step - loss: 90.8403\n",
            "Epoch 70/200\n",
            "11/11 [==============================] - 0s 2ms/step - loss: 90.8460\n",
            "Epoch 71/200\n",
            "11/11 [==============================] - 0s 2ms/step - loss: 90.8457\n",
            "Epoch 72/200\n",
            "11/11 [==============================] - 0s 2ms/step - loss: 90.8460\n",
            "Epoch 73/200\n",
            "11/11 [==============================] - 0s 2ms/step - loss: 90.8486\n",
            "Epoch 74/200\n",
            "11/11 [==============================] - 0s 2ms/step - loss: 90.8472\n",
            "Epoch 75/200\n",
            "11/11 [==============================] - 0s 2ms/step - loss: 90.8436\n",
            "Epoch 76/200\n",
            "11/11 [==============================] - 0s 2ms/step - loss: 90.8402\n",
            "Epoch 77/200\n",
            "11/11 [==============================] - 0s 2ms/step - loss: 90.8511\n",
            "Epoch 78/200\n",
            "11/11 [==============================] - 0s 2ms/step - loss: 90.8391\n",
            "Epoch 79/200\n",
            "11/11 [==============================] - 0s 2ms/step - loss: 90.8578\n",
            "Epoch 80/200\n",
            "11/11 [==============================] - 0s 2ms/step - loss: 90.8403\n",
            "Epoch 81/200\n",
            "11/11 [==============================] - 0s 2ms/step - loss: 90.8504\n",
            "Epoch 82/200\n",
            "11/11 [==============================] - 0s 2ms/step - loss: 90.8371\n",
            "Epoch 83/200\n",
            "11/11 [==============================] - 0s 2ms/step - loss: 90.8459\n",
            "Epoch 84/200\n",
            "11/11 [==============================] - 0s 2ms/step - loss: 90.8494\n",
            "Epoch 85/200\n",
            "11/11 [==============================] - 0s 2ms/step - loss: 90.8490\n",
            "Epoch 86/200\n",
            "11/11 [==============================] - 0s 2ms/step - loss: 90.8382\n",
            "Epoch 87/200\n",
            "11/11 [==============================] - 0s 2ms/step - loss: 90.8556\n",
            "Epoch 88/200\n",
            "11/11 [==============================] - 0s 2ms/step - loss: 90.8349\n",
            "Epoch 89/200\n",
            "11/11 [==============================] - 0s 2ms/step - loss: 90.8388\n",
            "Epoch 90/200\n",
            "11/11 [==============================] - 0s 2ms/step - loss: 90.8503\n",
            "Epoch 91/200\n",
            "11/11 [==============================] - 0s 2ms/step - loss: 90.8451\n",
            "Epoch 92/200\n",
            "11/11 [==============================] - 0s 2ms/step - loss: 90.8567\n",
            "Epoch 93/200\n",
            "11/11 [==============================] - 0s 2ms/step - loss: 90.8324\n",
            "Epoch 94/200\n",
            "11/11 [==============================] - 0s 2ms/step - loss: 90.8435\n",
            "Epoch 95/200\n",
            "11/11 [==============================] - 0s 2ms/step - loss: 90.8540\n",
            "Epoch 96/200\n",
            "11/11 [==============================] - 0s 4ms/step - loss: 90.8418\n",
            "Epoch 97/200\n",
            "11/11 [==============================] - 0s 2ms/step - loss: 90.8413\n",
            "Epoch 98/200\n",
            "11/11 [==============================] - 0s 2ms/step - loss: 90.8410\n",
            "Epoch 99/200\n",
            "11/11 [==============================] - 0s 2ms/step - loss: 90.8476\n",
            "Epoch 100/200\n",
            "11/11 [==============================] - 0s 2ms/step - loss: 90.8415\n",
            "Epoch 101/200\n",
            "11/11 [==============================] - 0s 2ms/step - loss: 90.8559\n",
            "Epoch 102/200\n",
            "11/11 [==============================] - 0s 2ms/step - loss: 90.8413\n",
            "Epoch 103/200\n",
            "11/11 [==============================] - 0s 2ms/step - loss: 90.8439\n",
            "Epoch 104/200\n",
            "11/11 [==============================] - 0s 2ms/step - loss: 90.8447\n",
            "Epoch 105/200\n",
            "11/11 [==============================] - 0s 2ms/step - loss: 90.8442\n",
            "Epoch 106/200\n",
            "11/11 [==============================] - 0s 2ms/step - loss: 90.8474\n",
            "Epoch 107/200\n",
            "11/11 [==============================] - 0s 2ms/step - loss: 90.8459\n",
            "Epoch 108/200\n",
            "11/11 [==============================] - 0s 2ms/step - loss: 90.8402\n",
            "Epoch 109/200\n",
            "11/11 [==============================] - 0s 2ms/step - loss: 90.8538\n",
            "Epoch 110/200\n",
            "11/11 [==============================] - 0s 2ms/step - loss: 90.8466\n",
            "Epoch 111/200\n",
            "11/11 [==============================] - 0s 2ms/step - loss: 90.8538\n",
            "Epoch 112/200\n",
            "11/11 [==============================] - 0s 2ms/step - loss: 90.8428\n",
            "Epoch 113/200\n",
            "11/11 [==============================] - 0s 2ms/step - loss: 90.8450\n",
            "Epoch 114/200\n",
            "11/11 [==============================] - 0s 2ms/step - loss: 90.8390\n",
            "Epoch 115/200\n",
            "11/11 [==============================] - 0s 2ms/step - loss: 90.8503\n",
            "Epoch 116/200\n",
            "11/11 [==============================] - 0s 2ms/step - loss: 90.8381\n",
            "Epoch 117/200\n",
            "11/11 [==============================] - 0s 2ms/step - loss: 90.8440\n",
            "Epoch 118/200\n",
            "11/11 [==============================] - 0s 2ms/step - loss: 90.8471\n",
            "Epoch 119/200\n",
            "11/11 [==============================] - 0s 2ms/step - loss: 90.8456\n",
            "Epoch 120/200\n",
            "11/11 [==============================] - 0s 2ms/step - loss: 90.8501\n",
            "Epoch 121/200\n",
            "11/11 [==============================] - 0s 2ms/step - loss: 90.8370\n",
            "Epoch 122/200\n",
            "11/11 [==============================] - 0s 2ms/step - loss: 90.8449\n",
            "Epoch 123/200\n",
            "11/11 [==============================] - 0s 2ms/step - loss: 90.8407\n",
            "Epoch 124/200\n",
            "11/11 [==============================] - 0s 2ms/step - loss: 90.8431\n",
            "Epoch 125/200\n",
            "11/11 [==============================] - 0s 2ms/step - loss: 90.8437\n",
            "Epoch 126/200\n",
            "11/11 [==============================] - 0s 2ms/step - loss: 90.8447\n",
            "Epoch 127/200\n",
            "11/11 [==============================] - 0s 2ms/step - loss: 90.8532\n",
            "Epoch 128/200\n",
            "11/11 [==============================] - 0s 2ms/step - loss: 90.8429\n",
            "Epoch 129/200\n",
            "11/11 [==============================] - 0s 2ms/step - loss: 90.8532\n",
            "Epoch 130/200\n",
            "11/11 [==============================] - 0s 2ms/step - loss: 90.8397\n",
            "Epoch 131/200\n",
            "11/11 [==============================] - 0s 3ms/step - loss: 90.8448\n",
            "Epoch 132/200\n",
            "11/11 [==============================] - 0s 2ms/step - loss: 90.8414\n",
            "Epoch 133/200\n",
            "11/11 [==============================] - 0s 2ms/step - loss: 90.8389\n",
            "Epoch 134/200\n",
            "11/11 [==============================] - 0s 2ms/step - loss: 90.8533\n",
            "Epoch 135/200\n",
            "11/11 [==============================] - 0s 2ms/step - loss: 90.8540\n",
            "Epoch 136/200\n",
            "11/11 [==============================] - 0s 2ms/step - loss: 90.8397\n",
            "Epoch 137/200\n",
            "11/11 [==============================] - 0s 2ms/step - loss: 90.8437\n",
            "Epoch 138/200\n",
            "11/11 [==============================] - 0s 2ms/step - loss: 90.8511\n",
            "Epoch 139/200\n",
            "11/11 [==============================] - 0s 2ms/step - loss: 90.8439\n",
            "Epoch 140/200\n",
            "11/11 [==============================] - 0s 2ms/step - loss: 90.8354\n",
            "Epoch 141/200\n",
            "11/11 [==============================] - 0s 2ms/step - loss: 90.8458\n",
            "Epoch 142/200\n",
            "11/11 [==============================] - 0s 2ms/step - loss: 90.8483\n",
            "Epoch 143/200\n",
            "11/11 [==============================] - 0s 2ms/step - loss: 90.8408\n",
            "Epoch 144/200\n",
            "11/11 [==============================] - 0s 2ms/step - loss: 90.8386\n",
            "Epoch 145/200\n",
            "11/11 [==============================] - 0s 2ms/step - loss: 90.8401\n",
            "Epoch 146/200\n",
            "11/11 [==============================] - 0s 2ms/step - loss: 90.8520\n",
            "Epoch 147/200\n",
            "11/11 [==============================] - 0s 2ms/step - loss: 90.8417\n",
            "Epoch 148/200\n",
            "11/11 [==============================] - 0s 2ms/step - loss: 90.8413\n",
            "Epoch 149/200\n",
            "11/11 [==============================] - 0s 2ms/step - loss: 90.8414\n",
            "Epoch 150/200\n",
            "11/11 [==============================] - 0s 2ms/step - loss: 90.8575\n",
            "Epoch 151/200\n",
            "11/11 [==============================] - 0s 2ms/step - loss: 90.8536\n",
            "Epoch 152/200\n",
            "11/11 [==============================] - 0s 2ms/step - loss: 90.8329\n",
            "Epoch 153/200\n",
            "11/11 [==============================] - 0s 2ms/step - loss: 90.8377\n",
            "Epoch 154/200\n",
            "11/11 [==============================] - 0s 2ms/step - loss: 90.8480\n",
            "Epoch 155/200\n",
            "11/11 [==============================] - 0s 2ms/step - loss: 90.8563\n",
            "Epoch 156/200\n",
            "11/11 [==============================] - 0s 2ms/step - loss: 90.8424\n",
            "Epoch 157/200\n",
            "11/11 [==============================] - 0s 2ms/step - loss: 90.8506\n",
            "Epoch 158/200\n",
            "11/11 [==============================] - 0s 3ms/step - loss: 90.8472\n",
            "Epoch 159/200\n",
            "11/11 [==============================] - 0s 2ms/step - loss: 90.8400\n",
            "Epoch 160/200\n",
            "11/11 [==============================] - 0s 2ms/step - loss: 90.8362\n",
            "Epoch 161/200\n",
            "11/11 [==============================] - 0s 2ms/step - loss: 90.8428\n",
            "Epoch 162/200\n",
            "11/11 [==============================] - 0s 2ms/step - loss: 90.8414\n",
            "Epoch 163/200\n",
            "11/11 [==============================] - 0s 2ms/step - loss: 90.8388\n",
            "Epoch 164/200\n",
            "11/11 [==============================] - 0s 2ms/step - loss: 90.8476\n",
            "Epoch 165/200\n",
            "11/11 [==============================] - 0s 2ms/step - loss: 90.8483\n",
            "Epoch 166/200\n",
            "11/11 [==============================] - 0s 2ms/step - loss: 90.8440\n",
            "Epoch 167/200\n",
            "11/11 [==============================] - 0s 2ms/step - loss: 90.8356\n",
            "Epoch 168/200\n",
            "11/11 [==============================] - 0s 2ms/step - loss: 90.8586\n",
            "Epoch 169/200\n",
            "11/11 [==============================] - 0s 3ms/step - loss: 90.8413\n",
            "Epoch 170/200\n",
            "11/11 [==============================] - 0s 2ms/step - loss: 90.8575\n",
            "Epoch 171/200\n",
            "11/11 [==============================] - 0s 2ms/step - loss: 90.8475\n",
            "Epoch 172/200\n",
            "11/11 [==============================] - 0s 2ms/step - loss: 90.8367\n",
            "Epoch 173/200\n",
            "11/11 [==============================] - 0s 2ms/step - loss: 90.8509\n",
            "Epoch 174/200\n",
            "11/11 [==============================] - 0s 2ms/step - loss: 90.8504\n",
            "Epoch 175/200\n",
            "11/11 [==============================] - 0s 2ms/step - loss: 90.8357\n",
            "Epoch 176/200\n",
            "11/11 [==============================] - 0s 2ms/step - loss: 90.8393\n",
            "Epoch 177/200\n",
            "11/11 [==============================] - 0s 2ms/step - loss: 90.8477\n",
            "Epoch 178/200\n",
            "11/11 [==============================] - 0s 2ms/step - loss: 90.8400\n",
            "Epoch 179/200\n",
            "11/11 [==============================] - 0s 2ms/step - loss: 90.8454\n",
            "Epoch 180/200\n",
            "11/11 [==============================] - 0s 2ms/step - loss: 90.8537\n",
            "Epoch 181/200\n",
            "11/11 [==============================] - 0s 2ms/step - loss: 90.8418\n",
            "Epoch 182/200\n",
            "11/11 [==============================] - 0s 2ms/step - loss: 90.8400\n",
            "Epoch 183/200\n",
            "11/11 [==============================] - 0s 2ms/step - loss: 90.8361\n",
            "Epoch 184/200\n",
            "11/11 [==============================] - 0s 2ms/step - loss: 90.8490\n",
            "Epoch 185/200\n",
            "11/11 [==============================] - 0s 2ms/step - loss: 90.8472\n",
            "Epoch 186/200\n",
            "11/11 [==============================] - 0s 2ms/step - loss: 90.8502\n",
            "Epoch 187/200\n",
            "11/11 [==============================] - 0s 2ms/step - loss: 90.8421\n",
            "Epoch 188/200\n",
            "11/11 [==============================] - 0s 2ms/step - loss: 90.8425\n",
            "Epoch 189/200\n",
            "11/11 [==============================] - 0s 2ms/step - loss: 90.8444\n",
            "Epoch 190/200\n",
            "11/11 [==============================] - 0s 2ms/step - loss: 90.8382\n",
            "Epoch 191/200\n",
            "11/11 [==============================] - 0s 2ms/step - loss: 90.8381\n",
            "Epoch 192/200\n",
            "11/11 [==============================] - 0s 3ms/step - loss: 90.8377\n",
            "Epoch 193/200\n",
            "11/11 [==============================] - 0s 2ms/step - loss: 90.8594\n",
            "Epoch 194/200\n",
            "11/11 [==============================] - 0s 2ms/step - loss: 90.8405\n",
            "Epoch 195/200\n",
            "11/11 [==============================] - 0s 2ms/step - loss: 90.8427\n",
            "Epoch 196/200\n",
            "11/11 [==============================] - 0s 2ms/step - loss: 90.8501\n",
            "Epoch 197/200\n",
            "11/11 [==============================] - 0s 2ms/step - loss: 90.8454\n",
            "Epoch 198/200\n",
            "11/11 [==============================] - 0s 2ms/step - loss: 90.8446\n",
            "Epoch 199/200\n",
            "11/11 [==============================] - 0s 2ms/step - loss: 90.8317\n",
            "Epoch 200/200\n",
            "11/11 [==============================] - 0s 3ms/step - loss: 90.8458\n",
            "WARNING:tensorflow:5 out of the last 13 calls to <function Model.make_test_function.<locals>.test_function at 0x7fbe4d41d320> triggered tf.function retracing. Tracing is expensive and the excessive number of tracings could be due to (1) creating @tf.function repeatedly in a loop, (2) passing tensors with different shapes, (3) passing Python objects instead of tensors. For (1), please define your @tf.function outside of the loop. For (2), @tf.function has experimental_relax_shapes=True option that relaxes argument shapes that can avoid unnecessary retracing. For (3), please refer to https://www.tensorflow.org/guide/function#controlling_retracing and https://www.tensorflow.org/api_docs/python/tf/function for  more details.\n",
            "3/3 [==============================] - 0s 3ms/step - loss: 71.1044\n"
          ]
        },
        {
          "output_type": "execute_result",
          "data": {
            "text/plain": [
              "71.10436248779297"
            ]
          },
          "metadata": {},
          "execution_count": 16
        }
      ]
    },
    {
      "cell_type": "markdown",
      "metadata": {
        "id": "K6cx5vbtqdeD"
      },
      "source": [
        "### Exercise 3\n",
        "\n",
        "Find the best possible combination of *learning rate* and *epochs* while testing some combinations"
      ]
    },
    {
      "cell_type": "code",
      "metadata": {
        "id": "n8RUGIklqxKS",
        "colab": {
          "base_uri": "https://localhost:8080/"
        },
        "outputId": "976660bd-dde4-44ef-c8cc-ec74a6751f78"
      },
      "source": [
        "# play with learning rate and epochs\n",
        "learning_rate = 0.01        # Replace ? with a floating-point number\n",
        "epochs = 400           # Replace ? with an integer\n",
        "optimizer = RMSprop(learning_rate)\n",
        "model.compile(loss='mean_squared_error',optimizer=optimizer)    # compile the model\n",
        "model.fit(X_train, y_train, epochs=epochs, batch_size=30)     # fit the model\n",
        "model.evaluate(X_test, y_test)       # Evaluate the model"
      ],
      "execution_count": 17,
      "outputs": [
        {
          "output_type": "stream",
          "name": "stdout",
          "text": [
            "Epoch 1/400\n",
            "11/11 [==============================] - 1s 3ms/step - loss: 90.8849\n",
            "Epoch 2/400\n",
            "11/11 [==============================] - 0s 2ms/step - loss: 90.8493\n",
            "Epoch 3/400\n",
            "11/11 [==============================] - 0s 2ms/step - loss: 90.8444\n",
            "Epoch 4/400\n",
            "11/11 [==============================] - 0s 2ms/step - loss: 90.8543\n",
            "Epoch 5/400\n",
            "11/11 [==============================] - 0s 2ms/step - loss: 90.8388\n",
            "Epoch 6/400\n",
            "11/11 [==============================] - 0s 3ms/step - loss: 90.8450\n",
            "Epoch 7/400\n",
            "11/11 [==============================] - 0s 2ms/step - loss: 90.8508\n",
            "Epoch 8/400\n",
            "11/11 [==============================] - 0s 2ms/step - loss: 90.8480\n",
            "Epoch 9/400\n",
            "11/11 [==============================] - 0s 2ms/step - loss: 90.8469\n",
            "Epoch 10/400\n",
            "11/11 [==============================] - 0s 2ms/step - loss: 90.8425\n",
            "Epoch 11/400\n",
            "11/11 [==============================] - 0s 2ms/step - loss: 90.8429\n",
            "Epoch 12/400\n",
            "11/11 [==============================] - 0s 2ms/step - loss: 90.8419\n",
            "Epoch 13/400\n",
            "11/11 [==============================] - 0s 2ms/step - loss: 90.8536\n",
            "Epoch 14/400\n",
            "11/11 [==============================] - 0s 2ms/step - loss: 90.8621\n",
            "Epoch 15/400\n",
            "11/11 [==============================] - 0s 2ms/step - loss: 90.8396\n",
            "Epoch 16/400\n",
            "11/11 [==============================] - 0s 2ms/step - loss: 90.8431\n",
            "Epoch 17/400\n",
            "11/11 [==============================] - 0s 2ms/step - loss: 90.8445\n",
            "Epoch 18/400\n",
            "11/11 [==============================] - 0s 2ms/step - loss: 90.8375\n",
            "Epoch 19/400\n",
            "11/11 [==============================] - 0s 2ms/step - loss: 90.8440\n",
            "Epoch 20/400\n",
            "11/11 [==============================] - 0s 2ms/step - loss: 90.8401\n",
            "Epoch 21/400\n",
            "11/11 [==============================] - 0s 2ms/step - loss: 90.8511\n",
            "Epoch 22/400\n",
            "11/11 [==============================] - 0s 2ms/step - loss: 90.8407\n",
            "Epoch 23/400\n",
            "11/11 [==============================] - 0s 2ms/step - loss: 90.8440\n",
            "Epoch 24/400\n",
            "11/11 [==============================] - 0s 2ms/step - loss: 90.8401\n",
            "Epoch 25/400\n",
            "11/11 [==============================] - 0s 2ms/step - loss: 90.8430\n",
            "Epoch 26/400\n",
            "11/11 [==============================] - 0s 2ms/step - loss: 90.8376\n",
            "Epoch 27/400\n",
            "11/11 [==============================] - 0s 3ms/step - loss: 90.8380\n",
            "Epoch 28/400\n",
            "11/11 [==============================] - 0s 2ms/step - loss: 90.8628\n",
            "Epoch 29/400\n",
            "11/11 [==============================] - 0s 2ms/step - loss: 90.8502\n",
            "Epoch 30/400\n",
            "11/11 [==============================] - 0s 2ms/step - loss: 90.8519\n",
            "Epoch 31/400\n",
            "11/11 [==============================] - 0s 2ms/step - loss: 90.8392\n",
            "Epoch 32/400\n",
            "11/11 [==============================] - 0s 2ms/step - loss: 90.8472\n",
            "Epoch 33/400\n",
            "11/11 [==============================] - 0s 2ms/step - loss: 90.8438\n",
            "Epoch 34/400\n",
            "11/11 [==============================] - 0s 2ms/step - loss: 90.8433\n",
            "Epoch 35/400\n",
            "11/11 [==============================] - 0s 2ms/step - loss: 90.8565\n",
            "Epoch 36/400\n",
            "11/11 [==============================] - 0s 2ms/step - loss: 90.8445\n",
            "Epoch 37/400\n",
            "11/11 [==============================] - 0s 2ms/step - loss: 90.8410\n",
            "Epoch 38/400\n",
            "11/11 [==============================] - 0s 2ms/step - loss: 90.8380\n",
            "Epoch 39/400\n",
            "11/11 [==============================] - 0s 2ms/step - loss: 90.8506\n",
            "Epoch 40/400\n",
            "11/11 [==============================] - 0s 2ms/step - loss: 90.8387\n",
            "Epoch 41/400\n",
            "11/11 [==============================] - 0s 2ms/step - loss: 90.8399\n",
            "Epoch 42/400\n",
            "11/11 [==============================] - 0s 2ms/step - loss: 90.8417\n",
            "Epoch 43/400\n",
            "11/11 [==============================] - 0s 2ms/step - loss: 90.8363\n",
            "Epoch 44/400\n",
            "11/11 [==============================] - 0s 2ms/step - loss: 90.8424\n",
            "Epoch 45/400\n",
            "11/11 [==============================] - 0s 3ms/step - loss: 90.8464\n",
            "Epoch 46/400\n",
            "11/11 [==============================] - 0s 2ms/step - loss: 90.8487\n",
            "Epoch 47/400\n",
            "11/11 [==============================] - 0s 2ms/step - loss: 90.8473\n",
            "Epoch 48/400\n",
            "11/11 [==============================] - 0s 2ms/step - loss: 90.8499\n",
            "Epoch 49/400\n",
            "11/11 [==============================] - 0s 2ms/step - loss: 90.8409\n",
            "Epoch 50/400\n",
            "11/11 [==============================] - 0s 2ms/step - loss: 90.8497\n",
            "Epoch 51/400\n",
            "11/11 [==============================] - 0s 2ms/step - loss: 90.8638\n",
            "Epoch 52/400\n",
            "11/11 [==============================] - 0s 2ms/step - loss: 90.8384\n",
            "Epoch 53/400\n",
            "11/11 [==============================] - 0s 2ms/step - loss: 90.8400\n",
            "Epoch 54/400\n",
            "11/11 [==============================] - 0s 2ms/step - loss: 90.8355\n",
            "Epoch 55/400\n",
            "11/11 [==============================] - 0s 3ms/step - loss: 90.8490\n",
            "Epoch 56/400\n",
            "11/11 [==============================] - 0s 2ms/step - loss: 90.8477\n",
            "Epoch 57/400\n",
            "11/11 [==============================] - 0s 2ms/step - loss: 90.8487\n",
            "Epoch 58/400\n",
            "11/11 [==============================] - 0s 2ms/step - loss: 90.8476\n",
            "Epoch 59/400\n",
            "11/11 [==============================] - 0s 2ms/step - loss: 90.8493\n",
            "Epoch 60/400\n",
            "11/11 [==============================] - 0s 2ms/step - loss: 90.8362\n",
            "Epoch 61/400\n",
            "11/11 [==============================] - 0s 2ms/step - loss: 90.8540\n",
            "Epoch 62/400\n",
            "11/11 [==============================] - 0s 2ms/step - loss: 90.8425\n",
            "Epoch 63/400\n",
            "11/11 [==============================] - 0s 2ms/step - loss: 90.8402\n",
            "Epoch 64/400\n",
            "11/11 [==============================] - 0s 2ms/step - loss: 90.8360\n",
            "Epoch 65/400\n",
            "11/11 [==============================] - 0s 2ms/step - loss: 90.8527\n",
            "Epoch 66/400\n",
            "11/11 [==============================] - 0s 2ms/step - loss: 90.8429\n",
            "Epoch 67/400\n",
            "11/11 [==============================] - 0s 2ms/step - loss: 90.8457\n",
            "Epoch 68/400\n",
            "11/11 [==============================] - 0s 2ms/step - loss: 90.8425\n",
            "Epoch 69/400\n",
            "11/11 [==============================] - 0s 2ms/step - loss: 90.8403\n",
            "Epoch 70/400\n",
            "11/11 [==============================] - 0s 2ms/step - loss: 90.8460\n",
            "Epoch 71/400\n",
            "11/11 [==============================] - 0s 2ms/step - loss: 90.8457\n",
            "Epoch 72/400\n",
            "11/11 [==============================] - 0s 2ms/step - loss: 90.8460\n",
            "Epoch 73/400\n",
            "11/11 [==============================] - 0s 2ms/step - loss: 90.8486\n",
            "Epoch 74/400\n",
            "11/11 [==============================] - 0s 2ms/step - loss: 90.8472\n",
            "Epoch 75/400\n",
            "11/11 [==============================] - 0s 2ms/step - loss: 90.8435\n",
            "Epoch 76/400\n",
            "11/11 [==============================] - 0s 5ms/step - loss: 90.8402\n",
            "Epoch 77/400\n",
            "11/11 [==============================] - 0s 4ms/step - loss: 90.8511\n",
            "Epoch 78/400\n",
            "11/11 [==============================] - 0s 3ms/step - loss: 90.8391\n",
            "Epoch 79/400\n",
            "11/11 [==============================] - 0s 3ms/step - loss: 90.8578\n",
            "Epoch 80/400\n",
            "11/11 [==============================] - 0s 2ms/step - loss: 90.8403\n",
            "Epoch 81/400\n",
            "11/11 [==============================] - 0s 2ms/step - loss: 90.8504\n",
            "Epoch 82/400\n",
            "11/11 [==============================] - 0s 2ms/step - loss: 90.8371\n",
            "Epoch 83/400\n",
            "11/11 [==============================] - 0s 2ms/step - loss: 90.8459\n",
            "Epoch 84/400\n",
            "11/11 [==============================] - 0s 2ms/step - loss: 90.8494\n",
            "Epoch 85/400\n",
            "11/11 [==============================] - 0s 2ms/step - loss: 90.8490\n",
            "Epoch 86/400\n",
            "11/11 [==============================] - 0s 3ms/step - loss: 90.8382\n",
            "Epoch 87/400\n",
            "11/11 [==============================] - 0s 2ms/step - loss: 90.8556\n",
            "Epoch 88/400\n",
            "11/11 [==============================] - 0s 2ms/step - loss: 90.8349\n",
            "Epoch 89/400\n",
            "11/11 [==============================] - 0s 2ms/step - loss: 90.8388\n",
            "Epoch 90/400\n",
            "11/11 [==============================] - 0s 2ms/step - loss: 90.8503\n",
            "Epoch 91/400\n",
            "11/11 [==============================] - 0s 2ms/step - loss: 90.8451\n",
            "Epoch 92/400\n",
            "11/11 [==============================] - 0s 2ms/step - loss: 90.8567\n",
            "Epoch 93/400\n",
            "11/11 [==============================] - 0s 3ms/step - loss: 90.8324\n",
            "Epoch 94/400\n",
            "11/11 [==============================] - 0s 2ms/step - loss: 90.8435\n",
            "Epoch 95/400\n",
            "11/11 [==============================] - 0s 2ms/step - loss: 90.8540\n",
            "Epoch 96/400\n",
            "11/11 [==============================] - 0s 2ms/step - loss: 90.8418\n",
            "Epoch 97/400\n",
            "11/11 [==============================] - 0s 2ms/step - loss: 90.8413\n",
            "Epoch 98/400\n",
            "11/11 [==============================] - 0s 2ms/step - loss: 90.8410\n",
            "Epoch 99/400\n",
            "11/11 [==============================] - 0s 2ms/step - loss: 90.8476\n",
            "Epoch 100/400\n",
            "11/11 [==============================] - 0s 2ms/step - loss: 90.8416\n",
            "Epoch 101/400\n",
            "11/11 [==============================] - 0s 2ms/step - loss: 90.8559\n",
            "Epoch 102/400\n",
            "11/11 [==============================] - 0s 3ms/step - loss: 90.8413\n",
            "Epoch 103/400\n",
            "11/11 [==============================] - 0s 2ms/step - loss: 90.8439\n",
            "Epoch 104/400\n",
            "11/11 [==============================] - 0s 2ms/step - loss: 90.8447\n",
            "Epoch 105/400\n",
            "11/11 [==============================] - 0s 2ms/step - loss: 90.8442\n",
            "Epoch 106/400\n",
            "11/11 [==============================] - 0s 2ms/step - loss: 90.8474\n",
            "Epoch 107/400\n",
            "11/11 [==============================] - 0s 2ms/step - loss: 90.8459\n",
            "Epoch 108/400\n",
            "11/11 [==============================] - 0s 2ms/step - loss: 90.8402\n",
            "Epoch 109/400\n",
            "11/11 [==============================] - 0s 2ms/step - loss: 90.8538\n",
            "Epoch 110/400\n",
            "11/11 [==============================] - 0s 2ms/step - loss: 90.8466\n",
            "Epoch 111/400\n",
            "11/11 [==============================] - 0s 2ms/step - loss: 90.8538\n",
            "Epoch 112/400\n",
            "11/11 [==============================] - 0s 2ms/step - loss: 90.8428\n",
            "Epoch 113/400\n",
            "11/11 [==============================] - 0s 2ms/step - loss: 90.8450\n",
            "Epoch 114/400\n",
            "11/11 [==============================] - 0s 2ms/step - loss: 90.8390\n",
            "Epoch 115/400\n",
            "11/11 [==============================] - 0s 2ms/step - loss: 90.8503\n",
            "Epoch 116/400\n",
            "11/11 [==============================] - 0s 2ms/step - loss: 90.8381\n",
            "Epoch 117/400\n",
            "11/11 [==============================] - 0s 2ms/step - loss: 90.8440\n",
            "Epoch 118/400\n",
            "11/11 [==============================] - 0s 2ms/step - loss: 90.8471\n",
            "Epoch 119/400\n",
            "11/11 [==============================] - 0s 2ms/step - loss: 90.8456\n",
            "Epoch 120/400\n",
            "11/11 [==============================] - 0s 3ms/step - loss: 90.8501\n",
            "Epoch 121/400\n",
            "11/11 [==============================] - 0s 2ms/step - loss: 90.8370\n",
            "Epoch 122/400\n",
            "11/11 [==============================] - 0s 2ms/step - loss: 90.8449\n",
            "Epoch 123/400\n",
            "11/11 [==============================] - 0s 2ms/step - loss: 90.8407\n",
            "Epoch 124/400\n",
            "11/11 [==============================] - 0s 2ms/step - loss: 90.8431\n",
            "Epoch 125/400\n",
            "11/11 [==============================] - 0s 2ms/step - loss: 90.8437\n",
            "Epoch 126/400\n",
            "11/11 [==============================] - 0s 2ms/step - loss: 90.8447\n",
            "Epoch 127/400\n",
            "11/11 [==============================] - 0s 2ms/step - loss: 90.8532\n",
            "Epoch 128/400\n",
            "11/11 [==============================] - 0s 2ms/step - loss: 90.8429\n",
            "Epoch 129/400\n",
            "11/11 [==============================] - 0s 2ms/step - loss: 90.8532\n",
            "Epoch 130/400\n",
            "11/11 [==============================] - 0s 2ms/step - loss: 90.8397\n",
            "Epoch 131/400\n",
            "11/11 [==============================] - 0s 2ms/step - loss: 90.8448\n",
            "Epoch 132/400\n",
            "11/11 [==============================] - 0s 2ms/step - loss: 90.8414\n",
            "Epoch 133/400\n",
            "11/11 [==============================] - 0s 2ms/step - loss: 90.8389\n",
            "Epoch 134/400\n",
            "11/11 [==============================] - 0s 2ms/step - loss: 90.8533\n",
            "Epoch 135/400\n",
            "11/11 [==============================] - 0s 2ms/step - loss: 90.8540\n",
            "Epoch 136/400\n",
            "11/11 [==============================] - 0s 2ms/step - loss: 90.8397\n",
            "Epoch 137/400\n",
            "11/11 [==============================] - 0s 2ms/step - loss: 90.8437\n",
            "Epoch 138/400\n",
            "11/11 [==============================] - 0s 2ms/step - loss: 90.8511\n",
            "Epoch 139/400\n",
            "11/11 [==============================] - 0s 2ms/step - loss: 90.8439\n",
            "Epoch 140/400\n",
            "11/11 [==============================] - 0s 2ms/step - loss: 90.8354\n",
            "Epoch 141/400\n",
            "11/11 [==============================] - 0s 2ms/step - loss: 90.8458\n",
            "Epoch 142/400\n",
            "11/11 [==============================] - 0s 2ms/step - loss: 90.8483\n",
            "Epoch 143/400\n",
            "11/11 [==============================] - 0s 2ms/step - loss: 90.8408\n",
            "Epoch 144/400\n",
            "11/11 [==============================] - 0s 2ms/step - loss: 90.8386\n",
            "Epoch 145/400\n",
            "11/11 [==============================] - 0s 2ms/step - loss: 90.8401\n",
            "Epoch 146/400\n",
            "11/11 [==============================] - 0s 2ms/step - loss: 90.8520\n",
            "Epoch 147/400\n",
            "11/11 [==============================] - 0s 2ms/step - loss: 90.8417\n",
            "Epoch 148/400\n",
            "11/11 [==============================] - 0s 2ms/step - loss: 90.8413\n",
            "Epoch 149/400\n",
            "11/11 [==============================] - 0s 2ms/step - loss: 90.8414\n",
            "Epoch 150/400\n",
            "11/11 [==============================] - 0s 2ms/step - loss: 90.8575\n",
            "Epoch 151/400\n",
            "11/11 [==============================] - 0s 2ms/step - loss: 90.8536\n",
            "Epoch 152/400\n",
            "11/11 [==============================] - 0s 2ms/step - loss: 90.8329\n",
            "Epoch 153/400\n",
            "11/11 [==============================] - 0s 2ms/step - loss: 90.8377\n",
            "Epoch 154/400\n",
            "11/11 [==============================] - 0s 2ms/step - loss: 90.8480\n",
            "Epoch 155/400\n",
            "11/11 [==============================] - 0s 2ms/step - loss: 90.8563\n",
            "Epoch 156/400\n",
            "11/11 [==============================] - 0s 2ms/step - loss: 90.8424\n",
            "Epoch 157/400\n",
            "11/11 [==============================] - 0s 2ms/step - loss: 90.8506\n",
            "Epoch 158/400\n",
            "11/11 [==============================] - 0s 2ms/step - loss: 90.8472\n",
            "Epoch 159/400\n",
            "11/11 [==============================] - 0s 2ms/step - loss: 90.8400\n",
            "Epoch 160/400\n",
            "11/11 [==============================] - 0s 2ms/step - loss: 90.8362\n",
            "Epoch 161/400\n",
            "11/11 [==============================] - 0s 2ms/step - loss: 90.8428\n",
            "Epoch 162/400\n",
            "11/11 [==============================] - 0s 2ms/step - loss: 90.8414\n",
            "Epoch 163/400\n",
            "11/11 [==============================] - 0s 2ms/step - loss: 90.8388\n",
            "Epoch 164/400\n",
            "11/11 [==============================] - 0s 2ms/step - loss: 90.8476\n",
            "Epoch 165/400\n",
            "11/11 [==============================] - 0s 2ms/step - loss: 90.8483\n",
            "Epoch 166/400\n",
            "11/11 [==============================] - 0s 2ms/step - loss: 90.8440\n",
            "Epoch 167/400\n",
            "11/11 [==============================] - 0s 2ms/step - loss: 90.8356\n",
            "Epoch 168/400\n",
            "11/11 [==============================] - 0s 2ms/step - loss: 90.8586\n",
            "Epoch 169/400\n",
            "11/11 [==============================] - 0s 2ms/step - loss: 90.8413\n",
            "Epoch 170/400\n",
            "11/11 [==============================] - 0s 2ms/step - loss: 90.8575\n",
            "Epoch 171/400\n",
            "11/11 [==============================] - 0s 2ms/step - loss: 90.8475\n",
            "Epoch 172/400\n",
            "11/11 [==============================] - 0s 2ms/step - loss: 90.8367\n",
            "Epoch 173/400\n",
            "11/11 [==============================] - 0s 2ms/step - loss: 90.8509\n",
            "Epoch 174/400\n",
            "11/11 [==============================] - 0s 2ms/step - loss: 90.8504\n",
            "Epoch 175/400\n",
            "11/11 [==============================] - 0s 2ms/step - loss: 90.8357\n",
            "Epoch 176/400\n",
            "11/11 [==============================] - 0s 2ms/step - loss: 90.8393\n",
            "Epoch 177/400\n",
            "11/11 [==============================] - 0s 2ms/step - loss: 90.8477\n",
            "Epoch 178/400\n",
            "11/11 [==============================] - 0s 2ms/step - loss: 90.8400\n",
            "Epoch 179/400\n",
            "11/11 [==============================] - 0s 2ms/step - loss: 90.8454\n",
            "Epoch 180/400\n",
            "11/11 [==============================] - 0s 2ms/step - loss: 90.8537\n",
            "Epoch 181/400\n",
            "11/11 [==============================] - 0s 2ms/step - loss: 90.8418\n",
            "Epoch 182/400\n",
            "11/11 [==============================] - 0s 2ms/step - loss: 90.8400\n",
            "Epoch 183/400\n",
            "11/11 [==============================] - 0s 2ms/step - loss: 90.8361\n",
            "Epoch 184/400\n",
            "11/11 [==============================] - 0s 2ms/step - loss: 90.8490\n",
            "Epoch 185/400\n",
            "11/11 [==============================] - 0s 2ms/step - loss: 90.8472\n",
            "Epoch 186/400\n",
            "11/11 [==============================] - 0s 2ms/step - loss: 90.8502\n",
            "Epoch 187/400\n",
            "11/11 [==============================] - 0s 2ms/step - loss: 90.8421\n",
            "Epoch 188/400\n",
            "11/11 [==============================] - 0s 3ms/step - loss: 90.8425\n",
            "Epoch 189/400\n",
            "11/11 [==============================] - 0s 2ms/step - loss: 90.8444\n",
            "Epoch 190/400\n",
            "11/11 [==============================] - 0s 3ms/step - loss: 90.8382\n",
            "Epoch 191/400\n",
            "11/11 [==============================] - 0s 2ms/step - loss: 90.8381\n",
            "Epoch 192/400\n",
            "11/11 [==============================] - 0s 2ms/step - loss: 90.8377\n",
            "Epoch 193/400\n",
            "11/11 [==============================] - 0s 2ms/step - loss: 90.8594\n",
            "Epoch 194/400\n",
            "11/11 [==============================] - 0s 3ms/step - loss: 90.8405\n",
            "Epoch 195/400\n",
            "11/11 [==============================] - 0s 2ms/step - loss: 90.8427\n",
            "Epoch 196/400\n",
            "11/11 [==============================] - 0s 2ms/step - loss: 90.8501\n",
            "Epoch 197/400\n",
            "11/11 [==============================] - 0s 2ms/step - loss: 90.8454\n",
            "Epoch 198/400\n",
            "11/11 [==============================] - 0s 2ms/step - loss: 90.8446\n",
            "Epoch 199/400\n",
            "11/11 [==============================] - 0s 2ms/step - loss: 90.8317\n",
            "Epoch 200/400\n",
            "11/11 [==============================] - 0s 2ms/step - loss: 90.8458\n",
            "Epoch 201/400\n",
            "11/11 [==============================] - 0s 2ms/step - loss: 90.8525\n",
            "Epoch 202/400\n",
            "11/11 [==============================] - 0s 2ms/step - loss: 90.8403\n",
            "Epoch 203/400\n",
            "11/11 [==============================] - 0s 2ms/step - loss: 90.8491\n",
            "Epoch 204/400\n",
            "11/11 [==============================] - 0s 2ms/step - loss: 90.8392\n",
            "Epoch 205/400\n",
            "11/11 [==============================] - 0s 2ms/step - loss: 90.8441\n",
            "Epoch 206/400\n",
            "11/11 [==============================] - 0s 2ms/step - loss: 90.8362\n",
            "Epoch 207/400\n",
            "11/11 [==============================] - 0s 2ms/step - loss: 90.8586\n",
            "Epoch 208/400\n",
            "11/11 [==============================] - 0s 3ms/step - loss: 90.8460\n",
            "Epoch 209/400\n",
            "11/11 [==============================] - 0s 2ms/step - loss: 90.8480\n",
            "Epoch 210/400\n",
            "11/11 [==============================] - 0s 2ms/step - loss: 90.8427\n",
            "Epoch 211/400\n",
            "11/11 [==============================] - 0s 2ms/step - loss: 90.8431\n",
            "Epoch 212/400\n",
            "11/11 [==============================] - 0s 2ms/step - loss: 90.8404\n",
            "Epoch 213/400\n",
            "11/11 [==============================] - 0s 2ms/step - loss: 90.8373\n",
            "Epoch 214/400\n",
            "11/11 [==============================] - 0s 2ms/step - loss: 90.8480\n",
            "Epoch 215/400\n",
            "11/11 [==============================] - 0s 2ms/step - loss: 90.8345\n",
            "Epoch 216/400\n",
            "11/11 [==============================] - 0s 2ms/step - loss: 90.8449\n",
            "Epoch 217/400\n",
            "11/11 [==============================] - 0s 2ms/step - loss: 90.8527\n",
            "Epoch 218/400\n",
            "11/11 [==============================] - 0s 2ms/step - loss: 90.8634\n",
            "Epoch 219/400\n",
            "11/11 [==============================] - 0s 2ms/step - loss: 90.8381\n",
            "Epoch 220/400\n",
            "11/11 [==============================] - 0s 2ms/step - loss: 90.8446\n",
            "Epoch 221/400\n",
            "11/11 [==============================] - 0s 2ms/step - loss: 90.8456\n",
            "Epoch 222/400\n",
            "11/11 [==============================] - 0s 2ms/step - loss: 90.8471\n",
            "Epoch 223/400\n",
            "11/11 [==============================] - 0s 2ms/step - loss: 90.8444\n",
            "Epoch 224/400\n",
            "11/11 [==============================] - 0s 2ms/step - loss: 90.8353\n",
            "Epoch 225/400\n",
            "11/11 [==============================] - 0s 2ms/step - loss: 90.8536\n",
            "Epoch 226/400\n",
            "11/11 [==============================] - 0s 2ms/step - loss: 90.8386\n",
            "Epoch 227/400\n",
            "11/11 [==============================] - 0s 2ms/step - loss: 90.8434\n",
            "Epoch 228/400\n",
            "11/11 [==============================] - 0s 2ms/step - loss: 90.8408\n",
            "Epoch 229/400\n",
            "11/11 [==============================] - 0s 2ms/step - loss: 90.8419\n",
            "Epoch 230/400\n",
            "11/11 [==============================] - 0s 2ms/step - loss: 90.8450\n",
            "Epoch 231/400\n",
            "11/11 [==============================] - 0s 2ms/step - loss: 90.8396\n",
            "Epoch 232/400\n",
            "11/11 [==============================] - 0s 2ms/step - loss: 90.8389\n",
            "Epoch 233/400\n",
            "11/11 [==============================] - 0s 3ms/step - loss: 90.8421\n",
            "Epoch 234/400\n",
            "11/11 [==============================] - 0s 2ms/step - loss: 90.8445\n",
            "Epoch 235/400\n",
            "11/11 [==============================] - 0s 2ms/step - loss: 90.8419\n",
            "Epoch 236/400\n",
            "11/11 [==============================] - 0s 2ms/step - loss: 90.8572\n",
            "Epoch 237/400\n",
            "11/11 [==============================] - 0s 2ms/step - loss: 90.8390\n",
            "Epoch 238/400\n",
            "11/11 [==============================] - 0s 2ms/step - loss: 90.8378\n",
            "Epoch 239/400\n",
            "11/11 [==============================] - 0s 2ms/step - loss: 90.8368\n",
            "Epoch 240/400\n",
            "11/11 [==============================] - 0s 2ms/step - loss: 90.8506\n",
            "Epoch 241/400\n",
            "11/11 [==============================] - 0s 2ms/step - loss: 90.8461\n",
            "Epoch 242/400\n",
            "11/11 [==============================] - 0s 2ms/step - loss: 90.8395\n",
            "Epoch 243/400\n",
            "11/11 [==============================] - 0s 2ms/step - loss: 90.8474\n",
            "Epoch 244/400\n",
            "11/11 [==============================] - 0s 2ms/step - loss: 90.8445\n",
            "Epoch 245/400\n",
            "11/11 [==============================] - 0s 2ms/step - loss: 90.8413\n",
            "Epoch 246/400\n",
            "11/11 [==============================] - 0s 2ms/step - loss: 90.8494\n",
            "Epoch 247/400\n",
            "11/11 [==============================] - 0s 2ms/step - loss: 90.8346\n",
            "Epoch 248/400\n",
            "11/11 [==============================] - 0s 2ms/step - loss: 90.8475\n",
            "Epoch 249/400\n",
            "11/11 [==============================] - 0s 2ms/step - loss: 90.8464\n",
            "Epoch 250/400\n",
            "11/11 [==============================] - 0s 3ms/step - loss: 90.8414\n",
            "Epoch 251/400\n",
            "11/11 [==============================] - 0s 2ms/step - loss: 90.8424\n",
            "Epoch 252/400\n",
            "11/11 [==============================] - 0s 2ms/step - loss: 90.8417\n",
            "Epoch 253/400\n",
            "11/11 [==============================] - 0s 2ms/step - loss: 90.8398\n",
            "Epoch 254/400\n",
            "11/11 [==============================] - 0s 2ms/step - loss: 90.8473\n",
            "Epoch 255/400\n",
            "11/11 [==============================] - 0s 3ms/step - loss: 90.8474\n",
            "Epoch 256/400\n",
            "11/11 [==============================] - 0s 2ms/step - loss: 90.8422\n",
            "Epoch 257/400\n",
            "11/11 [==============================] - 0s 2ms/step - loss: 90.8354\n",
            "Epoch 258/400\n",
            "11/11 [==============================] - 0s 2ms/step - loss: 90.8551\n",
            "Epoch 259/400\n",
            "11/11 [==============================] - 0s 2ms/step - loss: 90.8496\n",
            "Epoch 260/400\n",
            "11/11 [==============================] - 0s 2ms/step - loss: 90.8395\n",
            "Epoch 261/400\n",
            "11/11 [==============================] - 0s 2ms/step - loss: 90.8528\n",
            "Epoch 262/400\n",
            "11/11 [==============================] - 0s 2ms/step - loss: 90.8429\n",
            "Epoch 263/400\n",
            "11/11 [==============================] - 0s 2ms/step - loss: 90.8459\n",
            "Epoch 264/400\n",
            "11/11 [==============================] - 0s 2ms/step - loss: 90.8413\n",
            "Epoch 265/400\n",
            "11/11 [==============================] - 0s 2ms/step - loss: 90.8416\n",
            "Epoch 266/400\n",
            "11/11 [==============================] - 0s 2ms/step - loss: 90.8498\n",
            "Epoch 267/400\n",
            "11/11 [==============================] - 0s 3ms/step - loss: 90.8506\n",
            "Epoch 268/400\n",
            "11/11 [==============================] - 0s 2ms/step - loss: 90.8438\n",
            "Epoch 269/400\n",
            "11/11 [==============================] - 0s 2ms/step - loss: 90.8426\n",
            "Epoch 270/400\n",
            "11/11 [==============================] - 0s 2ms/step - loss: 90.8408\n",
            "Epoch 271/400\n",
            "11/11 [==============================] - 0s 2ms/step - loss: 90.8380\n",
            "Epoch 272/400\n",
            "11/11 [==============================] - 0s 2ms/step - loss: 90.8434\n",
            "Epoch 273/400\n",
            "11/11 [==============================] - 0s 3ms/step - loss: 90.8419\n",
            "Epoch 274/400\n",
            "11/11 [==============================] - 0s 2ms/step - loss: 90.8427\n",
            "Epoch 275/400\n",
            "11/11 [==============================] - 0s 2ms/step - loss: 90.8478\n",
            "Epoch 276/400\n",
            "11/11 [==============================] - 0s 2ms/step - loss: 90.8499\n",
            "Epoch 277/400\n",
            "11/11 [==============================] - 0s 2ms/step - loss: 90.8522\n",
            "Epoch 278/400\n",
            "11/11 [==============================] - 0s 2ms/step - loss: 90.8387\n",
            "Epoch 279/400\n",
            "11/11 [==============================] - 0s 2ms/step - loss: 90.8422\n",
            "Epoch 280/400\n",
            "11/11 [==============================] - 0s 3ms/step - loss: 90.8408\n",
            "Epoch 281/400\n",
            "11/11 [==============================] - 0s 2ms/step - loss: 90.8510\n",
            "Epoch 282/400\n",
            "11/11 [==============================] - 0s 2ms/step - loss: 90.8494\n",
            "Epoch 283/400\n",
            "11/11 [==============================] - 0s 2ms/step - loss: 90.8368\n",
            "Epoch 284/400\n",
            "11/11 [==============================] - 0s 2ms/step - loss: 90.8600\n",
            "Epoch 285/400\n",
            "11/11 [==============================] - 0s 2ms/step - loss: 90.8401\n",
            "Epoch 286/400\n",
            "11/11 [==============================] - 0s 2ms/step - loss: 90.8614\n",
            "Epoch 287/400\n",
            "11/11 [==============================] - 0s 2ms/step - loss: 90.8375\n",
            "Epoch 288/400\n",
            "11/11 [==============================] - 0s 2ms/step - loss: 90.8374\n",
            "Epoch 289/400\n",
            "11/11 [==============================] - 0s 2ms/step - loss: 90.8393\n",
            "Epoch 290/400\n",
            "11/11 [==============================] - 0s 3ms/step - loss: 90.8492\n",
            "Epoch 291/400\n",
            "11/11 [==============================] - 0s 3ms/step - loss: 90.8384\n",
            "Epoch 292/400\n",
            "11/11 [==============================] - 0s 2ms/step - loss: 90.8405\n",
            "Epoch 293/400\n",
            "11/11 [==============================] - 0s 2ms/step - loss: 90.8380\n",
            "Epoch 294/400\n",
            "11/11 [==============================] - 0s 2ms/step - loss: 90.8451\n",
            "Epoch 295/400\n",
            "11/11 [==============================] - 0s 2ms/step - loss: 90.8433\n",
            "Epoch 296/400\n",
            "11/11 [==============================] - 0s 2ms/step - loss: 90.8389\n",
            "Epoch 297/400\n",
            "11/11 [==============================] - 0s 3ms/step - loss: 90.8493\n",
            "Epoch 298/400\n",
            "11/11 [==============================] - 0s 2ms/step - loss: 90.8421\n",
            "Epoch 299/400\n",
            "11/11 [==============================] - 0s 2ms/step - loss: 90.8454\n",
            "Epoch 300/400\n",
            "11/11 [==============================] - 0s 2ms/step - loss: 90.8596\n",
            "Epoch 301/400\n",
            "11/11 [==============================] - 0s 2ms/step - loss: 90.8373\n",
            "Epoch 302/400\n",
            "11/11 [==============================] - 0s 2ms/step - loss: 90.8381\n",
            "Epoch 303/400\n",
            "11/11 [==============================] - 0s 2ms/step - loss: 90.8567\n",
            "Epoch 304/400\n",
            "11/11 [==============================] - 0s 2ms/step - loss: 90.8426\n",
            "Epoch 305/400\n",
            "11/11 [==============================] - 0s 2ms/step - loss: 90.8453\n",
            "Epoch 306/400\n",
            "11/11 [==============================] - 0s 2ms/step - loss: 90.8397\n",
            "Epoch 307/400\n",
            "11/11 [==============================] - 0s 2ms/step - loss: 90.8410\n",
            "Epoch 308/400\n",
            "11/11 [==============================] - 0s 3ms/step - loss: 90.8447\n",
            "Epoch 309/400\n",
            "11/11 [==============================] - 0s 2ms/step - loss: 90.8493\n",
            "Epoch 310/400\n",
            "11/11 [==============================] - 0s 2ms/step - loss: 90.8386\n",
            "Epoch 311/400\n",
            "11/11 [==============================] - 0s 2ms/step - loss: 90.8511\n",
            "Epoch 312/400\n",
            "11/11 [==============================] - 0s 2ms/step - loss: 90.8443\n",
            "Epoch 313/400\n",
            "11/11 [==============================] - 0s 2ms/step - loss: 90.8410\n",
            "Epoch 314/400\n",
            "11/11 [==============================] - 0s 2ms/step - loss: 90.8434\n",
            "Epoch 315/400\n",
            "11/11 [==============================] - 0s 2ms/step - loss: 90.8539\n",
            "Epoch 316/400\n",
            "11/11 [==============================] - 0s 2ms/step - loss: 90.8513\n",
            "Epoch 317/400\n",
            "11/11 [==============================] - 0s 2ms/step - loss: 90.8452\n",
            "Epoch 318/400\n",
            "11/11 [==============================] - 0s 2ms/step - loss: 90.8407\n",
            "Epoch 319/400\n",
            "11/11 [==============================] - 0s 2ms/step - loss: 90.8388\n",
            "Epoch 320/400\n",
            "11/11 [==============================] - 0s 2ms/step - loss: 90.8487\n",
            "Epoch 321/400\n",
            "11/11 [==============================] - 0s 2ms/step - loss: 90.8424\n",
            "Epoch 322/400\n",
            "11/11 [==============================] - 0s 2ms/step - loss: 90.8524\n",
            "Epoch 323/400\n",
            "11/11 [==============================] - 0s 3ms/step - loss: 90.8500\n",
            "Epoch 324/400\n",
            "11/11 [==============================] - 0s 2ms/step - loss: 90.8450\n",
            "Epoch 325/400\n",
            "11/11 [==============================] - 0s 2ms/step - loss: 90.8409\n",
            "Epoch 326/400\n",
            "11/11 [==============================] - 0s 2ms/step - loss: 90.8382\n",
            "Epoch 327/400\n",
            "11/11 [==============================] - 0s 2ms/step - loss: 90.8388\n",
            "Epoch 328/400\n",
            "11/11 [==============================] - 0s 2ms/step - loss: 90.8494\n",
            "Epoch 329/400\n",
            "11/11 [==============================] - 0s 2ms/step - loss: 90.8493\n",
            "Epoch 330/400\n",
            "11/11 [==============================] - 0s 2ms/step - loss: 90.8401\n",
            "Epoch 331/400\n",
            "11/11 [==============================] - 0s 2ms/step - loss: 90.8388\n",
            "Epoch 332/400\n",
            "11/11 [==============================] - 0s 2ms/step - loss: 90.8335\n",
            "Epoch 333/400\n",
            "11/11 [==============================] - 0s 2ms/step - loss: 90.8420\n",
            "Epoch 334/400\n",
            "11/11 [==============================] - 0s 2ms/step - loss: 90.8472\n",
            "Epoch 335/400\n",
            "11/11 [==============================] - 0s 2ms/step - loss: 90.8475\n",
            "Epoch 336/400\n",
            "11/11 [==============================] - 0s 2ms/step - loss: 90.8471\n",
            "Epoch 337/400\n",
            "11/11 [==============================] - 0s 2ms/step - loss: 90.8421\n",
            "Epoch 338/400\n",
            "11/11 [==============================] - 0s 3ms/step - loss: 90.8339\n",
            "Epoch 339/400\n",
            "11/11 [==============================] - 0s 2ms/step - loss: 90.8449\n",
            "Epoch 340/400\n",
            "11/11 [==============================] - 0s 2ms/step - loss: 90.8376\n",
            "Epoch 341/400\n",
            "11/11 [==============================] - 0s 2ms/step - loss: 90.8448\n",
            "Epoch 342/400\n",
            "11/11 [==============================] - 0s 2ms/step - loss: 90.8459\n",
            "Epoch 343/400\n",
            "11/11 [==============================] - 0s 2ms/step - loss: 90.8441\n",
            "Epoch 344/400\n",
            "11/11 [==============================] - 0s 2ms/step - loss: 90.8433\n",
            "Epoch 345/400\n",
            "11/11 [==============================] - 0s 2ms/step - loss: 90.8372\n",
            "Epoch 346/400\n",
            "11/11 [==============================] - 0s 2ms/step - loss: 90.8492\n",
            "Epoch 347/400\n",
            "11/11 [==============================] - 0s 2ms/step - loss: 90.8541\n",
            "Epoch 348/400\n",
            "11/11 [==============================] - 0s 2ms/step - loss: 90.8374\n",
            "Epoch 349/400\n",
            "11/11 [==============================] - 0s 2ms/step - loss: 90.8396\n",
            "Epoch 350/400\n",
            "11/11 [==============================] - 0s 2ms/step - loss: 90.8547\n",
            "Epoch 351/400\n",
            "11/11 [==============================] - 0s 2ms/step - loss: 90.8384\n",
            "Epoch 352/400\n",
            "11/11 [==============================] - 0s 3ms/step - loss: 90.8356\n",
            "Epoch 353/400\n",
            "11/11 [==============================] - 0s 2ms/step - loss: 90.8477\n",
            "Epoch 354/400\n",
            "11/11 [==============================] - 0s 2ms/step - loss: 90.8509\n",
            "Epoch 355/400\n",
            "11/11 [==============================] - 0s 3ms/step - loss: 90.8358\n",
            "Epoch 356/400\n",
            "11/11 [==============================] - 0s 2ms/step - loss: 90.8408\n",
            "Epoch 357/400\n",
            "11/11 [==============================] - 0s 2ms/step - loss: 90.8487\n",
            "Epoch 358/400\n",
            "11/11 [==============================] - 0s 2ms/step - loss: 90.8390\n",
            "Epoch 359/400\n",
            "11/11 [==============================] - 0s 2ms/step - loss: 90.8434\n",
            "Epoch 360/400\n",
            "11/11 [==============================] - 0s 2ms/step - loss: 90.8514\n",
            "Epoch 361/400\n",
            "11/11 [==============================] - 0s 2ms/step - loss: 90.8418\n",
            "Epoch 362/400\n",
            "11/11 [==============================] - 0s 2ms/step - loss: 90.8487\n",
            "Epoch 363/400\n",
            "11/11 [==============================] - 0s 2ms/step - loss: 90.8452\n",
            "Epoch 364/400\n",
            "11/11 [==============================] - 0s 2ms/step - loss: 90.8424\n",
            "Epoch 365/400\n",
            "11/11 [==============================] - 0s 2ms/step - loss: 90.8478\n",
            "Epoch 366/400\n",
            "11/11 [==============================] - 0s 2ms/step - loss: 90.8501\n",
            "Epoch 367/400\n",
            "11/11 [==============================] - 0s 2ms/step - loss: 90.8436\n",
            "Epoch 368/400\n",
            "11/11 [==============================] - 0s 2ms/step - loss: 90.8440\n",
            "Epoch 369/400\n",
            "11/11 [==============================] - 0s 2ms/step - loss: 90.8489\n",
            "Epoch 370/400\n",
            "11/11 [==============================] - 0s 2ms/step - loss: 90.8350\n",
            "Epoch 371/400\n",
            "11/11 [==============================] - 0s 2ms/step - loss: 90.8399\n",
            "Epoch 372/400\n",
            "11/11 [==============================] - 0s 2ms/step - loss: 90.8453\n",
            "Epoch 373/400\n",
            "11/11 [==============================] - 0s 2ms/step - loss: 90.8441\n",
            "Epoch 374/400\n",
            "11/11 [==============================] - 0s 2ms/step - loss: 90.8595\n",
            "Epoch 375/400\n",
            "11/11 [==============================] - 0s 2ms/step - loss: 90.8407\n",
            "Epoch 376/400\n",
            "11/11 [==============================] - 0s 2ms/step - loss: 90.8553\n",
            "Epoch 377/400\n",
            "11/11 [==============================] - 0s 2ms/step - loss: 90.8416\n",
            "Epoch 378/400\n",
            "11/11 [==============================] - 0s 3ms/step - loss: 90.8500\n",
            "Epoch 379/400\n",
            "11/11 [==============================] - 0s 2ms/step - loss: 90.8362\n",
            "Epoch 380/400\n",
            "11/11 [==============================] - 0s 2ms/step - loss: 90.8454\n",
            "Epoch 381/400\n",
            "11/11 [==============================] - 0s 2ms/step - loss: 90.8372\n",
            "Epoch 382/400\n",
            "11/11 [==============================] - 0s 2ms/step - loss: 90.8430\n",
            "Epoch 383/400\n",
            "11/11 [==============================] - 0s 2ms/step - loss: 90.8413\n",
            "Epoch 384/400\n",
            "11/11 [==============================] - 0s 2ms/step - loss: 90.8381\n",
            "Epoch 385/400\n",
            "11/11 [==============================] - 0s 2ms/step - loss: 90.8441\n",
            "Epoch 386/400\n",
            "11/11 [==============================] - 0s 3ms/step - loss: 90.8490\n",
            "Epoch 387/400\n",
            "11/11 [==============================] - 0s 3ms/step - loss: 90.8425\n",
            "Epoch 388/400\n",
            "11/11 [==============================] - 0s 2ms/step - loss: 90.8417\n",
            "Epoch 389/400\n",
            "11/11 [==============================] - 0s 3ms/step - loss: 90.8446\n",
            "Epoch 390/400\n",
            "11/11 [==============================] - 0s 2ms/step - loss: 90.8478\n",
            "Epoch 391/400\n",
            "11/11 [==============================] - 0s 2ms/step - loss: 90.8487\n",
            "Epoch 392/400\n",
            "11/11 [==============================] - 0s 3ms/step - loss: 90.8372\n",
            "Epoch 393/400\n",
            "11/11 [==============================] - 0s 3ms/step - loss: 90.8447\n",
            "Epoch 394/400\n",
            "11/11 [==============================] - 0s 3ms/step - loss: 90.8354\n",
            "Epoch 395/400\n",
            "11/11 [==============================] - 0s 3ms/step - loss: 90.8409\n",
            "Epoch 396/400\n",
            "11/11 [==============================] - 0s 2ms/step - loss: 90.8436\n",
            "Epoch 397/400\n",
            "11/11 [==============================] - 0s 2ms/step - loss: 90.8423\n",
            "Epoch 398/400\n",
            "11/11 [==============================] - 0s 2ms/step - loss: 90.8555\n",
            "Epoch 399/400\n",
            "11/11 [==============================] - 0s 2ms/step - loss: 90.8483\n",
            "Epoch 400/400\n",
            "11/11 [==============================] - 0s 2ms/step - loss: 90.8511\n",
            "WARNING:tensorflow:5 out of the last 13 calls to <function Model.make_test_function.<locals>.test_function at 0x7fbe4d20ed40> triggered tf.function retracing. Tracing is expensive and the excessive number of tracings could be due to (1) creating @tf.function repeatedly in a loop, (2) passing tensors with different shapes, (3) passing Python objects instead of tensors. For (1), please define your @tf.function outside of the loop. For (2), @tf.function has experimental_relax_shapes=True option that relaxes argument shapes that can avoid unnecessary retracing. For (3), please refer to https://www.tensorflow.org/guide/function#controlling_retracing and https://www.tensorflow.org/api_docs/python/tf/function for  more details.\n",
            "3/3 [==============================] - 0s 6ms/step - loss: 71.1043\n"
          ]
        },
        {
          "output_type": "execute_result",
          "data": {
            "text/plain": [
              "71.10430908203125"
            ]
          },
          "metadata": {},
          "execution_count": 17
        }
      ]
    },
    {
      "cell_type": "markdown",
      "metadata": {
        "id": "kcn3gB3Uq7u6"
      },
      "source": [
        "**Batch Size**\n",
        "\n",
        "The number of examples in a batch."
      ]
    },
    {
      "cell_type": "code",
      "metadata": {
        "id": "DTSP63PTZ8hv",
        "colab": {
          "base_uri": "https://localhost:8080/"
        },
        "outputId": "36b3a84f-e8b3-4981-ca9d-41bbb98c5d72"
      },
      "source": [
        "####################### Complete example to check the performance of the model with different batch size while keeping epochs as 30 and learning rate as 0.01 #######################################\n",
        "# define the model\n",
        "model = Sequential()\n",
        "model.add(Dense(10, activation='relu', input_shape=(n_features,)))\n",
        "model.add(Dense(8, activation='relu'))\n",
        "model.add(Dense(1))\n",
        "\n",
        "optimizer = RMSprop(0.01)    # 0.1 is the learning rate\n",
        "model.compile(loss='mean_squared_error',optimizer=optimizer)    # compile the model\n",
        "\n",
        "# fit the model \n",
        "model.fit(X_train, y_train, epochs=500, batch_size=40, verbose = 1)\n",
        "\n",
        "# evaluate the model\n",
        "print('The MSE value is: ', model.evaluate(X_test, y_test))"
      ],
      "execution_count": 24,
      "outputs": [
        {
          "output_type": "stream",
          "name": "stdout",
          "text": [
            "Epoch 1/500\n",
            "9/9 [==============================] - 1s 3ms/step - loss: 717.8344\n",
            "Epoch 2/500\n",
            "9/9 [==============================] - 0s 3ms/step - loss: 152.6315\n",
            "Epoch 3/500\n",
            "9/9 [==============================] - 0s 3ms/step - loss: 166.7934\n",
            "Epoch 4/500\n",
            "9/9 [==============================] - 0s 3ms/step - loss: 112.3564\n",
            "Epoch 5/500\n",
            "9/9 [==============================] - 0s 3ms/step - loss: 147.3712\n",
            "Epoch 6/500\n",
            "9/9 [==============================] - 0s 3ms/step - loss: 86.1109\n",
            "Epoch 7/500\n",
            "9/9 [==============================] - 0s 3ms/step - loss: 153.5385\n",
            "Epoch 8/500\n",
            "9/9 [==============================] - 0s 3ms/step - loss: 88.2351\n",
            "Epoch 9/500\n",
            "9/9 [==============================] - 0s 4ms/step - loss: 105.9575\n",
            "Epoch 10/500\n",
            "9/9 [==============================] - 0s 4ms/step - loss: 89.9717\n",
            "Epoch 11/500\n",
            "9/9 [==============================] - 0s 3ms/step - loss: 108.6897\n",
            "Epoch 12/500\n",
            "9/9 [==============================] - 0s 3ms/step - loss: 85.3044\n",
            "Epoch 13/500\n",
            "9/9 [==============================] - 0s 3ms/step - loss: 72.8732\n",
            "Epoch 14/500\n",
            "9/9 [==============================] - 0s 3ms/step - loss: 117.4423\n",
            "Epoch 15/500\n",
            "9/9 [==============================] - 0s 5ms/step - loss: 76.4851\n",
            "Epoch 16/500\n",
            "9/9 [==============================] - 0s 5ms/step - loss: 87.9400\n",
            "Epoch 17/500\n",
            "9/9 [==============================] - 0s 3ms/step - loss: 71.3001\n",
            "Epoch 18/500\n",
            "9/9 [==============================] - 0s 4ms/step - loss: 80.3681\n",
            "Epoch 19/500\n",
            "9/9 [==============================] - 0s 3ms/step - loss: 80.6145\n",
            "Epoch 20/500\n",
            "9/9 [==============================] - 0s 3ms/step - loss: 61.5864\n",
            "Epoch 21/500\n",
            "9/9 [==============================] - 0s 3ms/step - loss: 93.5450\n",
            "Epoch 22/500\n",
            "9/9 [==============================] - 0s 3ms/step - loss: 58.3494\n",
            "Epoch 23/500\n",
            "9/9 [==============================] - 0s 3ms/step - loss: 92.2525\n",
            "Epoch 24/500\n",
            "9/9 [==============================] - 0s 3ms/step - loss: 65.9042\n",
            "Epoch 25/500\n",
            "9/9 [==============================] - 0s 3ms/step - loss: 78.5791\n",
            "Epoch 26/500\n",
            "9/9 [==============================] - 0s 3ms/step - loss: 57.7472\n",
            "Epoch 27/500\n",
            "9/9 [==============================] - 0s 3ms/step - loss: 80.3831\n",
            "Epoch 28/500\n",
            "9/9 [==============================] - 0s 2ms/step - loss: 53.7824\n",
            "Epoch 29/500\n",
            "9/9 [==============================] - 0s 2ms/step - loss: 52.1910\n",
            "Epoch 30/500\n",
            "9/9 [==============================] - 0s 2ms/step - loss: 63.1846\n",
            "Epoch 31/500\n",
            "9/9 [==============================] - 0s 2ms/step - loss: 71.9357\n",
            "Epoch 32/500\n",
            "9/9 [==============================] - 0s 2ms/step - loss: 57.5421\n",
            "Epoch 33/500\n",
            "9/9 [==============================] - 0s 2ms/step - loss: 46.9071\n",
            "Epoch 34/500\n",
            "9/9 [==============================] - 0s 2ms/step - loss: 76.7196\n",
            "Epoch 35/500\n",
            "9/9 [==============================] - 0s 2ms/step - loss: 49.9823\n",
            "Epoch 36/500\n",
            "9/9 [==============================] - 0s 3ms/step - loss: 58.4589\n",
            "Epoch 37/500\n",
            "9/9 [==============================] - 0s 3ms/step - loss: 52.3837\n",
            "Epoch 38/500\n",
            "9/9 [==============================] - 0s 2ms/step - loss: 61.9046\n",
            "Epoch 39/500\n",
            "9/9 [==============================] - 0s 2ms/step - loss: 47.6424\n",
            "Epoch 40/500\n",
            "9/9 [==============================] - 0s 2ms/step - loss: 53.8579\n",
            "Epoch 41/500\n",
            "9/9 [==============================] - 0s 2ms/step - loss: 52.6886\n",
            "Epoch 42/500\n",
            "9/9 [==============================] - 0s 2ms/step - loss: 51.0682\n",
            "Epoch 43/500\n",
            "9/9 [==============================] - 0s 2ms/step - loss: 55.4631\n",
            "Epoch 44/500\n",
            "9/9 [==============================] - 0s 2ms/step - loss: 45.3796\n",
            "Epoch 45/500\n",
            "9/9 [==============================] - 0s 2ms/step - loss: 54.4924\n",
            "Epoch 46/500\n",
            "9/9 [==============================] - 0s 2ms/step - loss: 39.4411\n",
            "Epoch 47/500\n",
            "9/9 [==============================] - 0s 2ms/step - loss: 55.2429\n",
            "Epoch 48/500\n",
            "9/9 [==============================] - 0s 2ms/step - loss: 40.3279\n",
            "Epoch 49/500\n",
            "9/9 [==============================] - 0s 2ms/step - loss: 53.4916\n",
            "Epoch 50/500\n",
            "9/9 [==============================] - 0s 2ms/step - loss: 38.9564\n",
            "Epoch 51/500\n",
            "9/9 [==============================] - 0s 2ms/step - loss: 60.7906\n",
            "Epoch 52/500\n",
            "9/9 [==============================] - 0s 2ms/step - loss: 42.2033\n",
            "Epoch 53/500\n",
            "9/9 [==============================] - 0s 2ms/step - loss: 48.5212\n",
            "Epoch 54/500\n",
            "9/9 [==============================] - 0s 2ms/step - loss: 58.9876\n",
            "Epoch 55/500\n",
            "9/9 [==============================] - 0s 3ms/step - loss: 39.6878\n",
            "Epoch 56/500\n",
            "9/9 [==============================] - 0s 2ms/step - loss: 49.2378\n",
            "Epoch 57/500\n",
            "9/9 [==============================] - 0s 2ms/step - loss: 42.4108\n",
            "Epoch 58/500\n",
            "9/9 [==============================] - 0s 2ms/step - loss: 49.1421\n",
            "Epoch 59/500\n",
            "9/9 [==============================] - 0s 2ms/step - loss: 40.2216\n",
            "Epoch 60/500\n",
            "9/9 [==============================] - 0s 2ms/step - loss: 51.0386\n",
            "Epoch 61/500\n",
            "9/9 [==============================] - 0s 2ms/step - loss: 50.1782\n",
            "Epoch 62/500\n",
            "9/9 [==============================] - 0s 2ms/step - loss: 46.5445\n",
            "Epoch 63/500\n",
            "9/9 [==============================] - 0s 2ms/step - loss: 45.3211\n",
            "Epoch 64/500\n",
            "9/9 [==============================] - 0s 2ms/step - loss: 41.5156\n",
            "Epoch 65/500\n",
            "9/9 [==============================] - 0s 2ms/step - loss: 38.3520\n",
            "Epoch 66/500\n",
            "9/9 [==============================] - 0s 2ms/step - loss: 50.0485\n",
            "Epoch 67/500\n",
            "9/9 [==============================] - 0s 2ms/step - loss: 46.7133\n",
            "Epoch 68/500\n",
            "9/9 [==============================] - 0s 2ms/step - loss: 32.5510\n",
            "Epoch 69/500\n",
            "9/9 [==============================] - 0s 2ms/step - loss: 43.2844\n",
            "Epoch 70/500\n",
            "9/9 [==============================] - 0s 2ms/step - loss: 48.7078\n",
            "Epoch 71/500\n",
            "9/9 [==============================] - 0s 2ms/step - loss: 42.0135\n",
            "Epoch 72/500\n",
            "9/9 [==============================] - 0s 2ms/step - loss: 44.6634\n",
            "Epoch 73/500\n",
            "9/9 [==============================] - 0s 2ms/step - loss: 28.8216\n",
            "Epoch 74/500\n",
            "9/9 [==============================] - 0s 2ms/step - loss: 51.6868\n",
            "Epoch 75/500\n",
            "9/9 [==============================] - 0s 3ms/step - loss: 38.0786\n",
            "Epoch 76/500\n",
            "9/9 [==============================] - 0s 2ms/step - loss: 46.0958\n",
            "Epoch 77/500\n",
            "9/9 [==============================] - 0s 2ms/step - loss: 36.6518\n",
            "Epoch 78/500\n",
            "9/9 [==============================] - 0s 2ms/step - loss: 53.8728\n",
            "Epoch 79/500\n",
            "9/9 [==============================] - 0s 4ms/step - loss: 50.2193\n",
            "Epoch 80/500\n",
            "9/9 [==============================] - 0s 3ms/step - loss: 34.2389\n",
            "Epoch 81/500\n",
            "9/9 [==============================] - 0s 2ms/step - loss: 42.9658\n",
            "Epoch 82/500\n",
            "9/9 [==============================] - 0s 2ms/step - loss: 31.6477\n",
            "Epoch 83/500\n",
            "9/9 [==============================] - 0s 2ms/step - loss: 45.0380\n",
            "Epoch 84/500\n",
            "9/9 [==============================] - 0s 2ms/step - loss: 32.7886\n",
            "Epoch 85/500\n",
            "9/9 [==============================] - 0s 2ms/step - loss: 53.8359\n",
            "Epoch 86/500\n",
            "9/9 [==============================] - 0s 2ms/step - loss: 33.1420\n",
            "Epoch 87/500\n",
            "9/9 [==============================] - 0s 2ms/step - loss: 45.6729\n",
            "Epoch 88/500\n",
            "9/9 [==============================] - 0s 2ms/step - loss: 30.2226\n",
            "Epoch 89/500\n",
            "9/9 [==============================] - 0s 2ms/step - loss: 44.9327\n",
            "Epoch 90/500\n",
            "9/9 [==============================] - 0s 2ms/step - loss: 35.3099\n",
            "Epoch 91/500\n",
            "9/9 [==============================] - 0s 2ms/step - loss: 41.2171\n",
            "Epoch 92/500\n",
            "9/9 [==============================] - 0s 2ms/step - loss: 45.3016\n",
            "Epoch 93/500\n",
            "9/9 [==============================] - 0s 2ms/step - loss: 32.3743\n",
            "Epoch 94/500\n",
            "9/9 [==============================] - 0s 2ms/step - loss: 36.6130\n",
            "Epoch 95/500\n",
            "9/9 [==============================] - 0s 2ms/step - loss: 48.2978\n",
            "Epoch 96/500\n",
            "9/9 [==============================] - 0s 2ms/step - loss: 38.9790\n",
            "Epoch 97/500\n",
            "9/9 [==============================] - 0s 2ms/step - loss: 38.2594\n",
            "Epoch 98/500\n",
            "9/9 [==============================] - 0s 2ms/step - loss: 38.9964\n",
            "Epoch 99/500\n",
            "9/9 [==============================] - 0s 2ms/step - loss: 44.9765\n",
            "Epoch 100/500\n",
            "9/9 [==============================] - 0s 3ms/step - loss: 43.6455\n",
            "Epoch 101/500\n",
            "9/9 [==============================] - 0s 2ms/step - loss: 32.2398\n",
            "Epoch 102/500\n",
            "9/9 [==============================] - 0s 2ms/step - loss: 31.3472\n",
            "Epoch 103/500\n",
            "9/9 [==============================] - 0s 3ms/step - loss: 42.5289\n",
            "Epoch 104/500\n",
            "9/9 [==============================] - 0s 2ms/step - loss: 27.8452\n",
            "Epoch 105/500\n",
            "9/9 [==============================] - 0s 2ms/step - loss: 48.0089\n",
            "Epoch 106/500\n",
            "9/9 [==============================] - 0s 2ms/step - loss: 28.8984\n",
            "Epoch 107/500\n",
            "9/9 [==============================] - 0s 2ms/step - loss: 38.1350\n",
            "Epoch 108/500\n",
            "9/9 [==============================] - 0s 2ms/step - loss: 43.4629\n",
            "Epoch 109/500\n",
            "9/9 [==============================] - 0s 2ms/step - loss: 32.7877\n",
            "Epoch 110/500\n",
            "9/9 [==============================] - 0s 2ms/step - loss: 45.2949\n",
            "Epoch 111/500\n",
            "9/9 [==============================] - 0s 3ms/step - loss: 39.1069\n",
            "Epoch 112/500\n",
            "9/9 [==============================] - 0s 2ms/step - loss: 35.0495\n",
            "Epoch 113/500\n",
            "9/9 [==============================] - 0s 3ms/step - loss: 43.6471\n",
            "Epoch 114/500\n",
            "9/9 [==============================] - 0s 2ms/step - loss: 35.5340\n",
            "Epoch 115/500\n",
            "9/9 [==============================] - 0s 2ms/step - loss: 42.5618\n",
            "Epoch 116/500\n",
            "9/9 [==============================] - 0s 2ms/step - loss: 28.1012\n",
            "Epoch 117/500\n",
            "9/9 [==============================] - 0s 2ms/step - loss: 43.5450\n",
            "Epoch 118/500\n",
            "9/9 [==============================] - 0s 2ms/step - loss: 36.0093\n",
            "Epoch 119/500\n",
            "9/9 [==============================] - 0s 2ms/step - loss: 34.7767\n",
            "Epoch 120/500\n",
            "9/9 [==============================] - 0s 2ms/step - loss: 41.3071\n",
            "Epoch 121/500\n",
            "9/9 [==============================] - 0s 2ms/step - loss: 32.2938\n",
            "Epoch 122/500\n",
            "9/9 [==============================] - 0s 2ms/step - loss: 36.4469\n",
            "Epoch 123/500\n",
            "9/9 [==============================] - 0s 3ms/step - loss: 44.4291\n",
            "Epoch 124/500\n",
            "9/9 [==============================] - 0s 2ms/step - loss: 32.3356\n",
            "Epoch 125/500\n",
            "9/9 [==============================] - 0s 2ms/step - loss: 32.0421\n",
            "Epoch 126/500\n",
            "9/9 [==============================] - 0s 2ms/step - loss: 42.0609\n",
            "Epoch 127/500\n",
            "9/9 [==============================] - 0s 2ms/step - loss: 34.1866\n",
            "Epoch 128/500\n",
            "9/9 [==============================] - 0s 2ms/step - loss: 35.4815\n",
            "Epoch 129/500\n",
            "9/9 [==============================] - 0s 2ms/step - loss: 32.5356\n",
            "Epoch 130/500\n",
            "9/9 [==============================] - 0s 2ms/step - loss: 40.6446\n",
            "Epoch 131/500\n",
            "9/9 [==============================] - 0s 3ms/step - loss: 30.4262\n",
            "Epoch 132/500\n",
            "9/9 [==============================] - 0s 3ms/step - loss: 33.5006\n",
            "Epoch 133/500\n",
            "9/9 [==============================] - 0s 2ms/step - loss: 45.9763\n",
            "Epoch 134/500\n",
            "9/9 [==============================] - 0s 2ms/step - loss: 26.9806\n",
            "Epoch 135/500\n",
            "9/9 [==============================] - 0s 2ms/step - loss: 46.1700\n",
            "Epoch 136/500\n",
            "9/9 [==============================] - 0s 2ms/step - loss: 35.5910\n",
            "Epoch 137/500\n",
            "9/9 [==============================] - 0s 2ms/step - loss: 27.3901\n",
            "Epoch 138/500\n",
            "9/9 [==============================] - 0s 2ms/step - loss: 35.1030\n",
            "Epoch 139/500\n",
            "9/9 [==============================] - 0s 2ms/step - loss: 31.5202\n",
            "Epoch 140/500\n",
            "9/9 [==============================] - 0s 2ms/step - loss: 31.3641\n",
            "Epoch 141/500\n",
            "9/9 [==============================] - 0s 2ms/step - loss: 38.3292\n",
            "Epoch 142/500\n",
            "9/9 [==============================] - 0s 2ms/step - loss: 31.8724\n",
            "Epoch 143/500\n",
            "9/9 [==============================] - 0s 2ms/step - loss: 35.5625\n",
            "Epoch 144/500\n",
            "9/9 [==============================] - 0s 2ms/step - loss: 42.9526\n",
            "Epoch 145/500\n",
            "9/9 [==============================] - 0s 3ms/step - loss: 26.4149\n",
            "Epoch 146/500\n",
            "9/9 [==============================] - 0s 2ms/step - loss: 42.9085\n",
            "Epoch 147/500\n",
            "9/9 [==============================] - 0s 2ms/step - loss: 27.7654\n",
            "Epoch 148/500\n",
            "9/9 [==============================] - 0s 3ms/step - loss: 45.9670\n",
            "Epoch 149/500\n",
            "9/9 [==============================] - 0s 3ms/step - loss: 39.0910\n",
            "Epoch 150/500\n",
            "9/9 [==============================] - 0s 2ms/step - loss: 29.7481\n",
            "Epoch 151/500\n",
            "9/9 [==============================] - 0s 2ms/step - loss: 33.1270\n",
            "Epoch 152/500\n",
            "9/9 [==============================] - 0s 2ms/step - loss: 42.1428\n",
            "Epoch 153/500\n",
            "9/9 [==============================] - 0s 3ms/step - loss: 25.3790\n",
            "Epoch 154/500\n",
            "9/9 [==============================] - 0s 2ms/step - loss: 34.6163\n",
            "Epoch 155/500\n",
            "9/9 [==============================] - 0s 2ms/step - loss: 32.4072\n",
            "Epoch 156/500\n",
            "9/9 [==============================] - 0s 2ms/step - loss: 39.2574\n",
            "Epoch 157/500\n",
            "9/9 [==============================] - 0s 2ms/step - loss: 30.4562\n",
            "Epoch 158/500\n",
            "9/9 [==============================] - 0s 2ms/step - loss: 33.1573\n",
            "Epoch 159/500\n",
            "9/9 [==============================] - 0s 2ms/step - loss: 29.6782\n",
            "Epoch 160/500\n",
            "9/9 [==============================] - 0s 2ms/step - loss: 24.5824\n",
            "Epoch 161/500\n",
            "9/9 [==============================] - 0s 2ms/step - loss: 43.3711\n",
            "Epoch 162/500\n",
            "9/9 [==============================] - 0s 2ms/step - loss: 27.5932\n",
            "Epoch 163/500\n",
            "9/9 [==============================] - 0s 2ms/step - loss: 40.8277\n",
            "Epoch 164/500\n",
            "9/9 [==============================] - 0s 3ms/step - loss: 35.4859\n",
            "Epoch 165/500\n",
            "9/9 [==============================] - 0s 2ms/step - loss: 33.6433\n",
            "Epoch 166/500\n",
            "9/9 [==============================] - 0s 2ms/step - loss: 29.9337\n",
            "Epoch 167/500\n",
            "9/9 [==============================] - 0s 2ms/step - loss: 33.5418\n",
            "Epoch 168/500\n",
            "9/9 [==============================] - 0s 2ms/step - loss: 40.9399\n",
            "Epoch 169/500\n",
            "9/9 [==============================] - 0s 3ms/step - loss: 26.4472\n",
            "Epoch 170/500\n",
            "9/9 [==============================] - 0s 2ms/step - loss: 43.1669\n",
            "Epoch 171/500\n",
            "9/9 [==============================] - 0s 2ms/step - loss: 35.3858\n",
            "Epoch 172/500\n",
            "9/9 [==============================] - 0s 2ms/step - loss: 36.9187\n",
            "Epoch 173/500\n",
            "9/9 [==============================] - 0s 2ms/step - loss: 37.8195\n",
            "Epoch 174/500\n",
            "9/9 [==============================] - 0s 2ms/step - loss: 27.3609\n",
            "Epoch 175/500\n",
            "9/9 [==============================] - 0s 2ms/step - loss: 33.9781\n",
            "Epoch 176/500\n",
            "9/9 [==============================] - 0s 2ms/step - loss: 43.5582\n",
            "Epoch 177/500\n",
            "9/9 [==============================] - 0s 2ms/step - loss: 57.7936\n",
            "Epoch 178/500\n",
            "9/9 [==============================] - 0s 2ms/step - loss: 24.8539\n",
            "Epoch 179/500\n",
            "9/9 [==============================] - 0s 2ms/step - loss: 29.2483\n",
            "Epoch 180/500\n",
            "9/9 [==============================] - 0s 2ms/step - loss: 35.2900\n",
            "Epoch 181/500\n",
            "9/9 [==============================] - 0s 3ms/step - loss: 31.9661\n",
            "Epoch 182/500\n",
            "9/9 [==============================] - 0s 3ms/step - loss: 34.1831\n",
            "Epoch 183/500\n",
            "9/9 [==============================] - 0s 2ms/step - loss: 39.6411\n",
            "Epoch 184/500\n",
            "9/9 [==============================] - 0s 3ms/step - loss: 26.1369\n",
            "Epoch 185/500\n",
            "9/9 [==============================] - 0s 4ms/step - loss: 47.6041\n",
            "Epoch 186/500\n",
            "9/9 [==============================] - 0s 2ms/step - loss: 31.9147\n",
            "Epoch 187/500\n",
            "9/9 [==============================] - 0s 2ms/step - loss: 28.7721\n",
            "Epoch 188/500\n",
            "9/9 [==============================] - 0s 2ms/step - loss: 30.9596\n",
            "Epoch 189/500\n",
            "9/9 [==============================] - 0s 3ms/step - loss: 43.0935\n",
            "Epoch 190/500\n",
            "9/9 [==============================] - 0s 2ms/step - loss: 22.7618\n",
            "Epoch 191/500\n",
            "9/9 [==============================] - 0s 2ms/step - loss: 25.8934\n",
            "Epoch 192/500\n",
            "9/9 [==============================] - 0s 2ms/step - loss: 43.5728\n",
            "Epoch 193/500\n",
            "9/9 [==============================] - 0s 2ms/step - loss: 30.4131\n",
            "Epoch 194/500\n",
            "9/9 [==============================] - 0s 2ms/step - loss: 27.8771\n",
            "Epoch 195/500\n",
            "9/9 [==============================] - 0s 2ms/step - loss: 34.4785\n",
            "Epoch 196/500\n",
            "9/9 [==============================] - 0s 2ms/step - loss: 34.1614\n",
            "Epoch 197/500\n",
            "9/9 [==============================] - 0s 2ms/step - loss: 34.7837\n",
            "Epoch 198/500\n",
            "9/9 [==============================] - 0s 2ms/step - loss: 23.9840\n",
            "Epoch 199/500\n",
            "9/9 [==============================] - 0s 2ms/step - loss: 41.9949\n",
            "Epoch 200/500\n",
            "9/9 [==============================] - 0s 2ms/step - loss: 34.3726\n",
            "Epoch 201/500\n",
            "9/9 [==============================] - 0s 2ms/step - loss: 42.4122\n",
            "Epoch 202/500\n",
            "9/9 [==============================] - 0s 2ms/step - loss: 22.5988\n",
            "Epoch 203/500\n",
            "9/9 [==============================] - 0s 2ms/step - loss: 26.9222\n",
            "Epoch 204/500\n",
            "9/9 [==============================] - 0s 2ms/step - loss: 26.1499\n",
            "Epoch 205/500\n",
            "9/9 [==============================] - 0s 2ms/step - loss: 44.0444\n",
            "Epoch 206/500\n",
            "9/9 [==============================] - 0s 2ms/step - loss: 29.4314\n",
            "Epoch 207/500\n",
            "9/9 [==============================] - 0s 2ms/step - loss: 24.0087\n",
            "Epoch 208/500\n",
            "9/9 [==============================] - 0s 2ms/step - loss: 32.4231\n",
            "Epoch 209/500\n",
            "9/9 [==============================] - 0s 3ms/step - loss: 30.5894\n",
            "Epoch 210/500\n",
            "9/9 [==============================] - 0s 2ms/step - loss: 33.9055\n",
            "Epoch 211/500\n",
            "9/9 [==============================] - 0s 3ms/step - loss: 31.8310\n",
            "Epoch 212/500\n",
            "9/9 [==============================] - 0s 2ms/step - loss: 26.4707\n",
            "Epoch 213/500\n",
            "9/9 [==============================] - 0s 2ms/step - loss: 41.7929\n",
            "Epoch 214/500\n",
            "9/9 [==============================] - 0s 2ms/step - loss: 28.4018\n",
            "Epoch 215/500\n",
            "9/9 [==============================] - 0s 2ms/step - loss: 33.1228\n",
            "Epoch 216/500\n",
            "9/9 [==============================] - 0s 2ms/step - loss: 24.4932\n",
            "Epoch 217/500\n",
            "9/9 [==============================] - 0s 2ms/step - loss: 37.8789\n",
            "Epoch 218/500\n",
            "9/9 [==============================] - 0s 2ms/step - loss: 32.7417\n",
            "Epoch 219/500\n",
            "9/9 [==============================] - 0s 2ms/step - loss: 30.0128\n",
            "Epoch 220/500\n",
            "9/9 [==============================] - 0s 2ms/step - loss: 33.9816\n",
            "Epoch 221/500\n",
            "9/9 [==============================] - 0s 2ms/step - loss: 30.6422\n",
            "Epoch 222/500\n",
            "9/9 [==============================] - 0s 2ms/step - loss: 22.8722\n",
            "Epoch 223/500\n",
            "9/9 [==============================] - 0s 2ms/step - loss: 35.4734\n",
            "Epoch 224/500\n",
            "9/9 [==============================] - 0s 2ms/step - loss: 34.7895\n",
            "Epoch 225/500\n",
            "9/9 [==============================] - 0s 2ms/step - loss: 32.9956\n",
            "Epoch 226/500\n",
            "9/9 [==============================] - 0s 2ms/step - loss: 34.3052\n",
            "Epoch 227/500\n",
            "9/9 [==============================] - 0s 2ms/step - loss: 30.2615\n",
            "Epoch 228/500\n",
            "9/9 [==============================] - 0s 2ms/step - loss: 34.6468\n",
            "Epoch 229/500\n",
            "9/9 [==============================] - 0s 2ms/step - loss: 24.1327\n",
            "Epoch 230/500\n",
            "9/9 [==============================] - 0s 2ms/step - loss: 33.1172\n",
            "Epoch 231/500\n",
            "9/9 [==============================] - 0s 2ms/step - loss: 44.2797\n",
            "Epoch 232/500\n",
            "9/9 [==============================] - 0s 2ms/step - loss: 23.5575\n",
            "Epoch 233/500\n",
            "9/9 [==============================] - 0s 3ms/step - loss: 35.8167\n",
            "Epoch 234/500\n",
            "9/9 [==============================] - 0s 2ms/step - loss: 41.9022\n",
            "Epoch 235/500\n",
            "9/9 [==============================] - 0s 2ms/step - loss: 23.6562\n",
            "Epoch 236/500\n",
            "9/9 [==============================] - 0s 2ms/step - loss: 36.7103\n",
            "Epoch 237/500\n",
            "9/9 [==============================] - 0s 2ms/step - loss: 37.1504\n",
            "Epoch 238/500\n",
            "9/9 [==============================] - 0s 2ms/step - loss: 38.8431\n",
            "Epoch 239/500\n",
            "9/9 [==============================] - 0s 2ms/step - loss: 26.9334\n",
            "Epoch 240/500\n",
            "9/9 [==============================] - 0s 2ms/step - loss: 35.7335\n",
            "Epoch 241/500\n",
            "9/9 [==============================] - 0s 2ms/step - loss: 32.1622\n",
            "Epoch 242/500\n",
            "9/9 [==============================] - 0s 2ms/step - loss: 54.4075\n",
            "Epoch 243/500\n",
            "9/9 [==============================] - 0s 3ms/step - loss: 22.2402\n",
            "Epoch 244/500\n",
            "9/9 [==============================] - 0s 2ms/step - loss: 29.8702\n",
            "Epoch 245/500\n",
            "9/9 [==============================] - 0s 2ms/step - loss: 30.1372\n",
            "Epoch 246/500\n",
            "9/9 [==============================] - 0s 2ms/step - loss: 33.0075\n",
            "Epoch 247/500\n",
            "9/9 [==============================] - 0s 2ms/step - loss: 32.4992\n",
            "Epoch 248/500\n",
            "9/9 [==============================] - 0s 3ms/step - loss: 31.1210\n",
            "Epoch 249/500\n",
            "9/9 [==============================] - 0s 2ms/step - loss: 28.6052\n",
            "Epoch 250/500\n",
            "9/9 [==============================] - 0s 2ms/step - loss: 34.5554\n",
            "Epoch 251/500\n",
            "9/9 [==============================] - 0s 2ms/step - loss: 38.8608\n",
            "Epoch 252/500\n",
            "9/9 [==============================] - 0s 2ms/step - loss: 45.2636\n",
            "Epoch 253/500\n",
            "9/9 [==============================] - 0s 3ms/step - loss: 21.4156\n",
            "Epoch 254/500\n",
            "9/9 [==============================] - 0s 3ms/step - loss: 32.3868\n",
            "Epoch 255/500\n",
            "9/9 [==============================] - 0s 2ms/step - loss: 27.7418\n",
            "Epoch 256/500\n",
            "9/9 [==============================] - 0s 2ms/step - loss: 35.2921\n",
            "Epoch 257/500\n",
            "9/9 [==============================] - 0s 3ms/step - loss: 31.2340\n",
            "Epoch 258/500\n",
            "9/9 [==============================] - 0s 2ms/step - loss: 30.2443\n",
            "Epoch 259/500\n",
            "9/9 [==============================] - 0s 2ms/step - loss: 26.0054\n",
            "Epoch 260/500\n",
            "9/9 [==============================] - 0s 2ms/step - loss: 38.3034\n",
            "Epoch 261/500\n",
            "9/9 [==============================] - 0s 3ms/step - loss: 37.0517\n",
            "Epoch 262/500\n",
            "9/9 [==============================] - 0s 2ms/step - loss: 28.3255\n",
            "Epoch 263/500\n",
            "9/9 [==============================] - 0s 2ms/step - loss: 26.7213\n",
            "Epoch 264/500\n",
            "9/9 [==============================] - 0s 2ms/step - loss: 40.8500\n",
            "Epoch 265/500\n",
            "9/9 [==============================] - 0s 2ms/step - loss: 24.7393\n",
            "Epoch 266/500\n",
            "9/9 [==============================] - 0s 2ms/step - loss: 32.9415\n",
            "Epoch 267/500\n",
            "9/9 [==============================] - 0s 2ms/step - loss: 30.4991\n",
            "Epoch 268/500\n",
            "9/9 [==============================] - 0s 2ms/step - loss: 55.0558\n",
            "Epoch 269/500\n",
            "9/9 [==============================] - 0s 3ms/step - loss: 21.8301\n",
            "Epoch 270/500\n",
            "9/9 [==============================] - 0s 2ms/step - loss: 28.6513\n",
            "Epoch 271/500\n",
            "9/9 [==============================] - 0s 2ms/step - loss: 29.3689\n",
            "Epoch 272/500\n",
            "9/9 [==============================] - 0s 2ms/step - loss: 29.2061\n",
            "Epoch 273/500\n",
            "9/9 [==============================] - 0s 3ms/step - loss: 35.4267\n",
            "Epoch 274/500\n",
            "9/9 [==============================] - 0s 2ms/step - loss: 26.8499\n",
            "Epoch 275/500\n",
            "9/9 [==============================] - 0s 2ms/step - loss: 45.7036\n",
            "Epoch 276/500\n",
            "9/9 [==============================] - 0s 2ms/step - loss: 20.1528\n",
            "Epoch 277/500\n",
            "9/9 [==============================] - 0s 2ms/step - loss: 29.5721\n",
            "Epoch 278/500\n",
            "9/9 [==============================] - 0s 2ms/step - loss: 45.2194\n",
            "Epoch 279/500\n",
            "9/9 [==============================] - 0s 2ms/step - loss: 26.2078\n",
            "Epoch 280/500\n",
            "9/9 [==============================] - 0s 2ms/step - loss: 24.0727\n",
            "Epoch 281/500\n",
            "9/9 [==============================] - 0s 2ms/step - loss: 35.0850\n",
            "Epoch 282/500\n",
            "9/9 [==============================] - 0s 2ms/step - loss: 27.8440\n",
            "Epoch 283/500\n",
            "9/9 [==============================] - 0s 2ms/step - loss: 31.1277\n",
            "Epoch 284/500\n",
            "9/9 [==============================] - 0s 2ms/step - loss: 25.1081\n",
            "Epoch 285/500\n",
            "9/9 [==============================] - 0s 2ms/step - loss: 27.2100\n",
            "Epoch 286/500\n",
            "9/9 [==============================] - 0s 2ms/step - loss: 53.3047\n",
            "Epoch 287/500\n",
            "9/9 [==============================] - 0s 2ms/step - loss: 22.1790\n",
            "Epoch 288/500\n",
            "9/9 [==============================] - 0s 2ms/step - loss: 23.3699\n",
            "Epoch 289/500\n",
            "9/9 [==============================] - 0s 2ms/step - loss: 40.3637\n",
            "Epoch 290/500\n",
            "9/9 [==============================] - 0s 2ms/step - loss: 21.0729\n",
            "Epoch 291/500\n",
            "9/9 [==============================] - 0s 3ms/step - loss: 29.0971\n",
            "Epoch 292/500\n",
            "9/9 [==============================] - 0s 3ms/step - loss: 26.4809\n",
            "Epoch 293/500\n",
            "9/9 [==============================] - 0s 2ms/step - loss: 48.5905\n",
            "Epoch 294/500\n",
            "9/9 [==============================] - 0s 3ms/step - loss: 23.7123\n",
            "Epoch 295/500\n",
            "9/9 [==============================] - 0s 3ms/step - loss: 32.3251\n",
            "Epoch 296/500\n",
            "9/9 [==============================] - 0s 2ms/step - loss: 31.3209\n",
            "Epoch 297/500\n",
            "9/9 [==============================] - 0s 2ms/step - loss: 24.3140\n",
            "Epoch 298/500\n",
            "9/9 [==============================] - 0s 2ms/step - loss: 25.9005\n",
            "Epoch 299/500\n",
            "9/9 [==============================] - 0s 2ms/step - loss: 40.0373\n",
            "Epoch 300/500\n",
            "9/9 [==============================] - 0s 2ms/step - loss: 23.3606\n",
            "Epoch 301/500\n",
            "9/9 [==============================] - 0s 2ms/step - loss: 31.9020\n",
            "Epoch 302/500\n",
            "9/9 [==============================] - 0s 2ms/step - loss: 22.1876\n",
            "Epoch 303/500\n",
            "9/9 [==============================] - 0s 3ms/step - loss: 34.5103\n",
            "Epoch 304/500\n",
            "9/9 [==============================] - 0s 3ms/step - loss: 35.2956\n",
            "Epoch 305/500\n",
            "9/9 [==============================] - 0s 2ms/step - loss: 20.6236\n",
            "Epoch 306/500\n",
            "9/9 [==============================] - 0s 2ms/step - loss: 33.2915\n",
            "Epoch 307/500\n",
            "9/9 [==============================] - 0s 2ms/step - loss: 26.2171\n",
            "Epoch 308/500\n",
            "9/9 [==============================] - 0s 2ms/step - loss: 23.2623\n",
            "Epoch 309/500\n",
            "9/9 [==============================] - 0s 3ms/step - loss: 36.7987\n",
            "Epoch 310/500\n",
            "9/9 [==============================] - 0s 2ms/step - loss: 24.8365\n",
            "Epoch 311/500\n",
            "9/9 [==============================] - 0s 2ms/step - loss: 29.8535\n",
            "Epoch 312/500\n",
            "9/9 [==============================] - 0s 2ms/step - loss: 25.4227\n",
            "Epoch 313/500\n",
            "9/9 [==============================] - 0s 3ms/step - loss: 30.2527\n",
            "Epoch 314/500\n",
            "9/9 [==============================] - 0s 3ms/step - loss: 30.0960\n",
            "Epoch 315/500\n",
            "9/9 [==============================] - 0s 3ms/step - loss: 36.5320\n",
            "Epoch 316/500\n",
            "9/9 [==============================] - 0s 3ms/step - loss: 26.2011\n",
            "Epoch 317/500\n",
            "9/9 [==============================] - 0s 3ms/step - loss: 28.0181\n",
            "Epoch 318/500\n",
            "9/9 [==============================] - 0s 2ms/step - loss: 43.1976\n",
            "Epoch 319/500\n",
            "9/9 [==============================] - 0s 2ms/step - loss: 47.7595\n",
            "Epoch 320/500\n",
            "9/9 [==============================] - 0s 3ms/step - loss: 22.8035\n",
            "Epoch 321/500\n",
            "9/9 [==============================] - 0s 2ms/step - loss: 25.4976\n",
            "Epoch 322/500\n",
            "9/9 [==============================] - 0s 2ms/step - loss: 29.2649\n",
            "Epoch 323/500\n",
            "9/9 [==============================] - 0s 3ms/step - loss: 32.9299\n",
            "Epoch 324/500\n",
            "9/9 [==============================] - 0s 2ms/step - loss: 23.2791\n",
            "Epoch 325/500\n",
            "9/9 [==============================] - 0s 2ms/step - loss: 28.7091\n",
            "Epoch 326/500\n",
            "9/9 [==============================] - 0s 2ms/step - loss: 28.7642\n",
            "Epoch 327/500\n",
            "9/9 [==============================] - 0s 2ms/step - loss: 31.2485\n",
            "Epoch 328/500\n",
            "9/9 [==============================] - 0s 3ms/step - loss: 22.4024\n",
            "Epoch 329/500\n",
            "9/9 [==============================] - 0s 2ms/step - loss: 29.9904\n",
            "Epoch 330/500\n",
            "9/9 [==============================] - 0s 2ms/step - loss: 24.0477\n",
            "Epoch 331/500\n",
            "9/9 [==============================] - 0s 2ms/step - loss: 24.0155\n",
            "Epoch 332/500\n",
            "9/9 [==============================] - 0s 2ms/step - loss: 32.8653\n",
            "Epoch 333/500\n",
            "9/9 [==============================] - 0s 2ms/step - loss: 30.7223\n",
            "Epoch 334/500\n",
            "9/9 [==============================] - 0s 2ms/step - loss: 25.2139\n",
            "Epoch 335/500\n",
            "9/9 [==============================] - 0s 3ms/step - loss: 34.2613\n",
            "Epoch 336/500\n",
            "9/9 [==============================] - 0s 2ms/step - loss: 24.9608\n",
            "Epoch 337/500\n",
            "9/9 [==============================] - 0s 2ms/step - loss: 33.2726\n",
            "Epoch 338/500\n",
            "9/9 [==============================] - 0s 3ms/step - loss: 22.7702\n",
            "Epoch 339/500\n",
            "9/9 [==============================] - 0s 2ms/step - loss: 27.4481\n",
            "Epoch 340/500\n",
            "9/9 [==============================] - 0s 2ms/step - loss: 31.6335\n",
            "Epoch 341/500\n",
            "9/9 [==============================] - 0s 2ms/step - loss: 34.1353\n",
            "Epoch 342/500\n",
            "9/9 [==============================] - 0s 2ms/step - loss: 29.4917\n",
            "Epoch 343/500\n",
            "9/9 [==============================] - 0s 2ms/step - loss: 31.7707\n",
            "Epoch 344/500\n",
            "9/9 [==============================] - 0s 3ms/step - loss: 22.3415\n",
            "Epoch 345/500\n",
            "9/9 [==============================] - 0s 2ms/step - loss: 27.3282\n",
            "Epoch 346/500\n",
            "9/9 [==============================] - 0s 3ms/step - loss: 34.1644\n",
            "Epoch 347/500\n",
            "9/9 [==============================] - 0s 2ms/step - loss: 27.9098\n",
            "Epoch 348/500\n",
            "9/9 [==============================] - 0s 2ms/step - loss: 23.5205\n",
            "Epoch 349/500\n",
            "9/9 [==============================] - 0s 2ms/step - loss: 31.4861\n",
            "Epoch 350/500\n",
            "9/9 [==============================] - 0s 2ms/step - loss: 26.9033\n",
            "Epoch 351/500\n",
            "9/9 [==============================] - 0s 3ms/step - loss: 32.9020\n",
            "Epoch 352/500\n",
            "9/9 [==============================] - 0s 2ms/step - loss: 24.9632\n",
            "Epoch 353/500\n",
            "9/9 [==============================] - 0s 2ms/step - loss: 27.7362\n",
            "Epoch 354/500\n",
            "9/9 [==============================] - 0s 3ms/step - loss: 31.2516\n",
            "Epoch 355/500\n",
            "9/9 [==============================] - 0s 2ms/step - loss: 26.0413\n",
            "Epoch 356/500\n",
            "9/9 [==============================] - 0s 3ms/step - loss: 23.2279\n",
            "Epoch 357/500\n",
            "9/9 [==============================] - 0s 2ms/step - loss: 28.7818\n",
            "Epoch 358/500\n",
            "9/9 [==============================] - 0s 4ms/step - loss: 23.9635\n",
            "Epoch 359/500\n",
            "9/9 [==============================] - 0s 2ms/step - loss: 25.4313\n",
            "Epoch 360/500\n",
            "9/9 [==============================] - 0s 2ms/step - loss: 28.9290\n",
            "Epoch 361/500\n",
            "9/9 [==============================] - 0s 2ms/step - loss: 32.5455\n",
            "Epoch 362/500\n",
            "9/9 [==============================] - 0s 2ms/step - loss: 32.5435\n",
            "Epoch 363/500\n",
            "9/9 [==============================] - 0s 2ms/step - loss: 23.1939\n",
            "Epoch 364/500\n",
            "9/9 [==============================] - 0s 2ms/step - loss: 31.2149\n",
            "Epoch 365/500\n",
            "9/9 [==============================] - 0s 2ms/step - loss: 21.9583\n",
            "Epoch 366/500\n",
            "9/9 [==============================] - 0s 2ms/step - loss: 37.4075\n",
            "Epoch 367/500\n",
            "9/9 [==============================] - 0s 2ms/step - loss: 19.8113\n",
            "Epoch 368/500\n",
            "9/9 [==============================] - 0s 2ms/step - loss: 33.5870\n",
            "Epoch 369/500\n",
            "9/9 [==============================] - 0s 2ms/step - loss: 47.6580\n",
            "Epoch 370/500\n",
            "9/9 [==============================] - 0s 3ms/step - loss: 20.8252\n",
            "Epoch 371/500\n",
            "9/9 [==============================] - 0s 2ms/step - loss: 38.5135\n",
            "Epoch 372/500\n",
            "9/9 [==============================] - 0s 2ms/step - loss: 27.0846\n",
            "Epoch 373/500\n",
            "9/9 [==============================] - 0s 3ms/step - loss: 27.6475\n",
            "Epoch 374/500\n",
            "9/9 [==============================] - 0s 2ms/step - loss: 28.1666\n",
            "Epoch 375/500\n",
            "9/9 [==============================] - 0s 2ms/step - loss: 27.3712\n",
            "Epoch 376/500\n",
            "9/9 [==============================] - 0s 4ms/step - loss: 22.3272\n",
            "Epoch 377/500\n",
            "9/9 [==============================] - 0s 2ms/step - loss: 34.7948\n",
            "Epoch 378/500\n",
            "9/9 [==============================] - 0s 3ms/step - loss: 26.0970\n",
            "Epoch 379/500\n",
            "9/9 [==============================] - 0s 2ms/step - loss: 26.1202\n",
            "Epoch 380/500\n",
            "9/9 [==============================] - 0s 2ms/step - loss: 24.6106\n",
            "Epoch 381/500\n",
            "9/9 [==============================] - 0s 2ms/step - loss: 28.4599\n",
            "Epoch 382/500\n",
            "9/9 [==============================] - 0s 3ms/step - loss: 30.4846\n",
            "Epoch 383/500\n",
            "9/9 [==============================] - 0s 3ms/step - loss: 27.2321\n",
            "Epoch 384/500\n",
            "9/9 [==============================] - 0s 2ms/step - loss: 32.0535\n",
            "Epoch 385/500\n",
            "9/9 [==============================] - 0s 3ms/step - loss: 21.2393\n",
            "Epoch 386/500\n",
            "9/9 [==============================] - 0s 2ms/step - loss: 33.3641\n",
            "Epoch 387/500\n",
            "9/9 [==============================] - 0s 2ms/step - loss: 25.8866\n",
            "Epoch 388/500\n",
            "9/9 [==============================] - 0s 2ms/step - loss: 19.0006\n",
            "Epoch 389/500\n",
            "9/9 [==============================] - 0s 2ms/step - loss: 33.1344\n",
            "Epoch 390/500\n",
            "9/9 [==============================] - 0s 11ms/step - loss: 25.0586\n",
            "Epoch 391/500\n",
            "9/9 [==============================] - 0s 8ms/step - loss: 28.8809\n",
            "Epoch 392/500\n",
            "9/9 [==============================] - 0s 5ms/step - loss: 27.9635\n",
            "Epoch 393/500\n",
            "9/9 [==============================] - 0s 5ms/step - loss: 25.8799\n",
            "Epoch 394/500\n",
            "9/9 [==============================] - 0s 5ms/step - loss: 30.1301\n",
            "Epoch 395/500\n",
            "9/9 [==============================] - 0s 9ms/step - loss: 28.8983\n",
            "Epoch 396/500\n",
            "9/9 [==============================] - 0s 10ms/step - loss: 22.6067\n",
            "Epoch 397/500\n",
            "9/9 [==============================] - 0s 10ms/step - loss: 28.7242\n",
            "Epoch 398/500\n",
            "9/9 [==============================] - 0s 6ms/step - loss: 33.4677\n",
            "Epoch 399/500\n",
            "9/9 [==============================] - 0s 5ms/step - loss: 33.8391\n",
            "Epoch 400/500\n",
            "9/9 [==============================] - 0s 4ms/step - loss: 25.9472\n",
            "Epoch 401/500\n",
            "9/9 [==============================] - 0s 8ms/step - loss: 19.2998\n",
            "Epoch 402/500\n",
            "9/9 [==============================] - 0s 6ms/step - loss: 30.3606\n",
            "Epoch 403/500\n",
            "9/9 [==============================] - 0s 4ms/step - loss: 23.5960\n",
            "Epoch 404/500\n",
            "9/9 [==============================] - 0s 2ms/step - loss: 28.0402\n",
            "Epoch 405/500\n",
            "9/9 [==============================] - 0s 2ms/step - loss: 28.3516\n",
            "Epoch 406/500\n",
            "9/9 [==============================] - 0s 3ms/step - loss: 27.9668\n",
            "Epoch 407/500\n",
            "9/9 [==============================] - 0s 3ms/step - loss: 28.6839\n",
            "Epoch 408/500\n",
            "9/9 [==============================] - 0s 2ms/step - loss: 24.5022\n",
            "Epoch 409/500\n",
            "9/9 [==============================] - 0s 2ms/step - loss: 23.3854\n",
            "Epoch 410/500\n",
            "9/9 [==============================] - 0s 2ms/step - loss: 19.8701\n",
            "Epoch 411/500\n",
            "9/9 [==============================] - 0s 3ms/step - loss: 30.1350\n",
            "Epoch 412/500\n",
            "9/9 [==============================] - 0s 2ms/step - loss: 27.7999\n",
            "Epoch 413/500\n",
            "9/9 [==============================] - 0s 3ms/step - loss: 25.6092\n",
            "Epoch 414/500\n",
            "9/9 [==============================] - 0s 2ms/step - loss: 32.3074\n",
            "Epoch 415/500\n",
            "9/9 [==============================] - 0s 2ms/step - loss: 34.0725\n",
            "Epoch 416/500\n",
            "9/9 [==============================] - 0s 2ms/step - loss: 24.0136\n",
            "Epoch 417/500\n",
            "9/9 [==============================] - 0s 2ms/step - loss: 23.8602\n",
            "Epoch 418/500\n",
            "9/9 [==============================] - 0s 2ms/step - loss: 32.9787\n",
            "Epoch 419/500\n",
            "9/9 [==============================] - 0s 2ms/step - loss: 20.6338\n",
            "Epoch 420/500\n",
            "9/9 [==============================] - 0s 2ms/step - loss: 21.6240\n",
            "Epoch 421/500\n",
            "9/9 [==============================] - 0s 2ms/step - loss: 32.1753\n",
            "Epoch 422/500\n",
            "9/9 [==============================] - 0s 2ms/step - loss: 47.1483\n",
            "Epoch 423/500\n",
            "9/9 [==============================] - 0s 2ms/step - loss: 21.6018\n",
            "Epoch 424/500\n",
            "9/9 [==============================] - 0s 2ms/step - loss: 26.5806\n",
            "Epoch 425/500\n",
            "9/9 [==============================] - 0s 2ms/step - loss: 31.9670\n",
            "Epoch 426/500\n",
            "9/9 [==============================] - 0s 3ms/step - loss: 18.0556\n",
            "Epoch 427/500\n",
            "9/9 [==============================] - 0s 3ms/step - loss: 27.0493\n",
            "Epoch 428/500\n",
            "9/9 [==============================] - 0s 3ms/step - loss: 25.0457\n",
            "Epoch 429/500\n",
            "9/9 [==============================] - 0s 4ms/step - loss: 25.7553\n",
            "Epoch 430/500\n",
            "9/9 [==============================] - 0s 2ms/step - loss: 24.4408\n",
            "Epoch 431/500\n",
            "9/9 [==============================] - 0s 3ms/step - loss: 19.0007\n",
            "Epoch 432/500\n",
            "9/9 [==============================] - 0s 3ms/step - loss: 22.9375\n",
            "Epoch 433/500\n",
            "9/9 [==============================] - 0s 3ms/step - loss: 30.6294\n",
            "Epoch 434/500\n",
            "9/9 [==============================] - 0s 3ms/step - loss: 20.7448\n",
            "Epoch 435/500\n",
            "9/9 [==============================] - 0s 2ms/step - loss: 30.9429\n",
            "Epoch 436/500\n",
            "9/9 [==============================] - 0s 2ms/step - loss: 28.0062\n",
            "Epoch 437/500\n",
            "9/9 [==============================] - 0s 3ms/step - loss: 23.0555\n",
            "Epoch 438/500\n",
            "9/9 [==============================] - 0s 3ms/step - loss: 22.8813\n",
            "Epoch 439/500\n",
            "9/9 [==============================] - 0s 3ms/step - loss: 30.6476\n",
            "Epoch 440/500\n",
            "9/9 [==============================] - 0s 3ms/step - loss: 21.3973\n",
            "Epoch 441/500\n",
            "9/9 [==============================] - 0s 2ms/step - loss: 29.1090\n",
            "Epoch 442/500\n",
            "9/9 [==============================] - 0s 2ms/step - loss: 23.5415\n",
            "Epoch 443/500\n",
            "9/9 [==============================] - 0s 2ms/step - loss: 20.9441\n",
            "Epoch 444/500\n",
            "9/9 [==============================] - 0s 3ms/step - loss: 25.7375\n",
            "Epoch 445/500\n",
            "9/9 [==============================] - 0s 2ms/step - loss: 30.8800\n",
            "Epoch 446/500\n",
            "9/9 [==============================] - 0s 2ms/step - loss: 26.6321\n",
            "Epoch 447/500\n",
            "9/9 [==============================] - 0s 3ms/step - loss: 21.4346\n",
            "Epoch 448/500\n",
            "9/9 [==============================] - 0s 3ms/step - loss: 24.3313\n",
            "Epoch 449/500\n",
            "9/9 [==============================] - 0s 2ms/step - loss: 27.0200\n",
            "Epoch 450/500\n",
            "9/9 [==============================] - 0s 2ms/step - loss: 23.4755\n",
            "Epoch 451/500\n",
            "9/9 [==============================] - 0s 2ms/step - loss: 23.9186\n",
            "Epoch 452/500\n",
            "9/9 [==============================] - 0s 2ms/step - loss: 31.3861\n",
            "Epoch 453/500\n",
            "9/9 [==============================] - 0s 2ms/step - loss: 18.2362\n",
            "Epoch 454/500\n",
            "9/9 [==============================] - 0s 2ms/step - loss: 55.0813\n",
            "Epoch 455/500\n",
            "9/9 [==============================] - 0s 2ms/step - loss: 18.6880\n",
            "Epoch 456/500\n",
            "9/9 [==============================] - 0s 2ms/step - loss: 23.4064\n",
            "Epoch 457/500\n",
            "9/9 [==============================] - 0s 2ms/step - loss: 17.3580\n",
            "Epoch 458/500\n",
            "9/9 [==============================] - 0s 2ms/step - loss: 26.5754\n",
            "Epoch 459/500\n",
            "9/9 [==============================] - 0s 2ms/step - loss: 30.1558\n",
            "Epoch 460/500\n",
            "9/9 [==============================] - 0s 2ms/step - loss: 30.0795\n",
            "Epoch 461/500\n",
            "9/9 [==============================] - 0s 2ms/step - loss: 22.5733\n",
            "Epoch 462/500\n",
            "9/9 [==============================] - 0s 2ms/step - loss: 25.3154\n",
            "Epoch 463/500\n",
            "9/9 [==============================] - 0s 2ms/step - loss: 28.2609\n",
            "Epoch 464/500\n",
            "9/9 [==============================] - 0s 2ms/step - loss: 22.1431\n",
            "Epoch 465/500\n",
            "9/9 [==============================] - 0s 2ms/step - loss: 21.0775\n",
            "Epoch 466/500\n",
            "9/9 [==============================] - 0s 2ms/step - loss: 25.1354\n",
            "Epoch 467/500\n",
            "9/9 [==============================] - 0s 2ms/step - loss: 28.9367\n",
            "Epoch 468/500\n",
            "9/9 [==============================] - 0s 2ms/step - loss: 26.2363\n",
            "Epoch 469/500\n",
            "9/9 [==============================] - 0s 2ms/step - loss: 25.5348\n",
            "Epoch 470/500\n",
            "9/9 [==============================] - 0s 2ms/step - loss: 24.3262\n",
            "Epoch 471/500\n",
            "9/9 [==============================] - 0s 2ms/step - loss: 22.5441\n",
            "Epoch 472/500\n",
            "9/9 [==============================] - 0s 2ms/step - loss: 25.5413\n",
            "Epoch 473/500\n",
            "9/9 [==============================] - 0s 2ms/step - loss: 25.8083\n",
            "Epoch 474/500\n",
            "9/9 [==============================] - 0s 2ms/step - loss: 25.6132\n",
            "Epoch 475/500\n",
            "9/9 [==============================] - 0s 2ms/step - loss: 24.3480\n",
            "Epoch 476/500\n",
            "9/9 [==============================] - 0s 2ms/step - loss: 25.7272\n",
            "Epoch 477/500\n",
            "9/9 [==============================] - 0s 2ms/step - loss: 19.1730\n",
            "Epoch 478/500\n",
            "9/9 [==============================] - 0s 2ms/step - loss: 26.6993\n",
            "Epoch 479/500\n",
            "9/9 [==============================] - 0s 2ms/step - loss: 23.7253\n",
            "Epoch 480/500\n",
            "9/9 [==============================] - 0s 2ms/step - loss: 27.2748\n",
            "Epoch 481/500\n",
            "9/9 [==============================] - 0s 3ms/step - loss: 20.4732\n",
            "Epoch 482/500\n",
            "9/9 [==============================] - 0s 3ms/step - loss: 20.5964\n",
            "Epoch 483/500\n",
            "9/9 [==============================] - 0s 2ms/step - loss: 25.6359\n",
            "Epoch 484/500\n",
            "9/9 [==============================] - 0s 2ms/step - loss: 27.2964\n",
            "Epoch 485/500\n",
            "9/9 [==============================] - 0s 2ms/step - loss: 19.4933\n",
            "Epoch 486/500\n",
            "9/9 [==============================] - 0s 2ms/step - loss: 24.1879\n",
            "Epoch 487/500\n",
            "9/9 [==============================] - 0s 2ms/step - loss: 23.7005\n",
            "Epoch 488/500\n",
            "9/9 [==============================] - 0s 2ms/step - loss: 21.5751\n",
            "Epoch 489/500\n",
            "9/9 [==============================] - 0s 2ms/step - loss: 33.2444\n",
            "Epoch 490/500\n",
            "9/9 [==============================] - 0s 2ms/step - loss: 17.8388\n",
            "Epoch 491/500\n",
            "9/9 [==============================] - 0s 2ms/step - loss: 30.9946\n",
            "Epoch 492/500\n",
            "9/9 [==============================] - 0s 2ms/step - loss: 17.7045\n",
            "Epoch 493/500\n",
            "9/9 [==============================] - 0s 3ms/step - loss: 26.0348\n",
            "Epoch 494/500\n",
            "9/9 [==============================] - 0s 2ms/step - loss: 23.4076\n",
            "Epoch 495/500\n",
            "9/9 [==============================] - 0s 3ms/step - loss: 30.4286\n",
            "Epoch 496/500\n",
            "9/9 [==============================] - 0s 2ms/step - loss: 21.4323\n",
            "Epoch 497/500\n",
            "9/9 [==============================] - 0s 2ms/step - loss: 24.0740\n",
            "Epoch 498/500\n",
            "9/9 [==============================] - 0s 3ms/step - loss: 24.7502\n",
            "Epoch 499/500\n",
            "9/9 [==============================] - 0s 3ms/step - loss: 31.8130\n",
            "Epoch 500/500\n",
            "9/9 [==============================] - 0s 2ms/step - loss: 19.0788\n",
            "3/3 [==============================] - 0s 6ms/step - loss: 19.0382\n",
            "The MSE value is:  19.03821563720703\n"
          ]
        }
      ]
    },
    {
      "cell_type": "markdown",
      "metadata": {
        "id": "r7xoMXoVaJy5"
      },
      "source": [
        "You can see above the cost(loss) value i.e. MSE for batch size 40 while keeping epochs as 10 and learning rate as 0.01"
      ]
    },
    {
      "cell_type": "markdown",
      "metadata": {
        "id": "y9VcjhruiIxd"
      },
      "source": [
        "### Exercise 4\n",
        "\n",
        "Test several batch size values to see the impact of varying this value when defining your model."
      ]
    },
    {
      "cell_type": "code",
      "metadata": {
        "id": "WKik9O5grNa1"
      },
      "source": [
        "# play with batch size\n",
        "learning_rate = 0.01        \n",
        "epochs = 150         \n",
        "batch = 100      # Replace ? with an integer    \n",
        "optimizer = RMSprop(learning_rate)\n",
        "model.compile(loss='mean_squared_error',optimizer=optimizer)    # compile the model\n",
        "model.fit(X_train, y_train, epochs=epochs, batch_size=batch)     # fit the model\n",
        "model.evaluate(X_test, y_test)       # Evaluate the model"
      ],
      "execution_count": null,
      "outputs": []
    },
    {
      "cell_type": "markdown",
      "metadata": {
        "id": "wQV6zkKXrwR0"
      },
      "source": [
        "#### **Summary of hyperparameter tuning**\n",
        "Most machine learning problems require a lot of hyperparameter tuning. Unfortunately, we can't provide concrete tuning rules for every model. Lowering the learning rate can help one model converge efficiently but make another model converge much too slowly. You must experiment to find the best set of hyperparameters for your dataset. That said, here are a few rules of thumb:\n",
        "\n",
        "*  Training loss should steadily decrease, steeply at first, and then more slowly until the slope of the curve reaches or approaches zero.\n",
        "*  If the training loss does not converge, train for more epochs.\n",
        "*  If the training loss decreases too slowly, increase the learning rate. Note that setting the learning rate too high may also prevent training loss from converging.\n",
        "*  If the training loss varies wildly (that is, the training loss jumps around), decrease the learning rate.\n",
        "*  Lowering the learning rate while increasing the number of epochs or the batch size is often a good combination.\n",
        "*  Setting the batch size to a very small batch number can also cause instability. First, try large batch size values. Then, decrease the batch size until you see degradation.\n",
        "*  For real-world datasets consisting of a very large number of examples, the entire dataset might not fit into memory. In such cases, you'll need to reduce the batch size to enable a batch to fit into memory.\n",
        "\n",
        "Remember: the ideal combination of hyperparameters is data dependent, so you must always experiment and verify."
      ]
    },
    {
      "cell_type": "markdown",
      "metadata": {
        "id": "1GDb-EBTFuX9"
      },
      "source": [
        "We can do a hyperparameter tuning procedure in two ways:\n",
        "1. Implementing hyperparameter tuning with Sklearn\n",
        "2. Implementing hyperparameter tuning with Keras"
      ]
    },
    {
      "cell_type": "markdown",
      "metadata": {
        "id": "sHo4yEC44ucs"
      },
      "source": [
        "#### **Implementing hyperparameter tuning with Sklearn**\n",
        "Well, we can automate the hyperparameter tunning using **GridSearCV**. GridSearchCV is a hyperparameter search procedure that is done over a defined grid of hyperparameters. Each one of the hyperparameter combinations is used for training a new model, while a cross-validation process is executed to measure the performance of the provisional models. Once the process is done, the hyperparameters and the model with the best performance are chosen.\n"
      ]
    },
    {
      "cell_type": "markdown",
      "metadata": {
        "id": "Hcbe1A171evn"
      },
      "source": [
        "Let's first take a look at the implementation of GridSearchCV with Sklearn, following the steps:\n",
        "1. Define the general architecture of the model\n",
        "2. Define the hyperparameters grid to be validated\n",
        "3. Run the GridSearchCV process\n",
        "4. Print the results of the best model"
      ]
    },
    {
      "cell_type": "code",
      "metadata": {
        "id": "ofZvGK5eb8Zg",
        "colab": {
          "base_uri": "https://localhost:8080/",
          "height": 532
        },
        "outputId": "24635712-1f0c-43f5-cbe6-27b5320f05f9"
      },
      "source": [
        "# Import the GridSearchCV class\n",
        "from sklearn.model_selection import GridSearchCV\n",
        "\n",
        "# 1. Define the model's architecture\n",
        "model = Sequential()\n",
        "model.add(Dense(10, activation='relu', input_shape=(n_features,)))\n",
        "model.add(Dense(8, activation='relu'))\n",
        "model.add(Dense(1))\n",
        "optimizer = RMSprop(0.1)    # 0.1 is the learning rate\n",
        "model.compile(loss='mean_squared_error',optimizer=optimizer)    # compile the model\n",
        "\n",
        "# 2. Define the hyperparameters grid to be validated\n",
        "batch_size = [10, 20, 40, 60, 80, 100]\n",
        "epochs = [10, 50, 100, 200, 500]\n",
        "param_grid = dict(batch_size=batch_size, epochs=epochs)\n",
        "grid = GridSearchCV(estimator=model, param_grid=param_grid, scoring='neg_mean_squared_error', n_jobs=-1)\n",
        "\n",
        "# 3. Run the GridSearchCV process\n",
        "grid_result = grid.fit(X_train, y_train)\n",
        "\n",
        "# 4. Print the results of the best model\n",
        "print(\"Best: %f using %s\" % (grid_result.best_score_, grid_result.best_params_))"
      ],
      "execution_count": 26,
      "outputs": [
        {
          "output_type": "error",
          "ename": "TypeError",
          "evalue": "ignored",
          "traceback": [
            "\u001b[0;31m---------------------------------------------------------------------------\u001b[0m",
            "\u001b[0;31mTypeError\u001b[0m                                 Traceback (most recent call last)",
            "\u001b[0;32m<ipython-input-26-c88d73bab697>\u001b[0m in \u001b[0;36m<module>\u001b[0;34m()\u001b[0m\n\u001b[1;32m     17\u001b[0m \u001b[0;34m\u001b[0m\u001b[0m\n\u001b[1;32m     18\u001b[0m \u001b[0;31m# 3. Run the GridSearchCV process\u001b[0m\u001b[0;34m\u001b[0m\u001b[0;34m\u001b[0m\u001b[0;34m\u001b[0m\u001b[0m\n\u001b[0;32m---> 19\u001b[0;31m \u001b[0mgrid_result\u001b[0m \u001b[0;34m=\u001b[0m \u001b[0mgrid\u001b[0m\u001b[0;34m.\u001b[0m\u001b[0mfit\u001b[0m\u001b[0;34m(\u001b[0m\u001b[0mX_train\u001b[0m\u001b[0;34m,\u001b[0m \u001b[0my_train\u001b[0m\u001b[0;34m)\u001b[0m\u001b[0;34m\u001b[0m\u001b[0;34m\u001b[0m\u001b[0m\n\u001b[0m\u001b[1;32m     20\u001b[0m \u001b[0;34m\u001b[0m\u001b[0m\n\u001b[1;32m     21\u001b[0m \u001b[0;31m# 4. Print the results of the best model\u001b[0m\u001b[0;34m\u001b[0m\u001b[0;34m\u001b[0m\u001b[0;34m\u001b[0m\u001b[0m\n",
            "\u001b[0;32m/usr/local/lib/python3.7/dist-packages/sklearn/model_selection/_search.py\u001b[0m in \u001b[0;36mfit\u001b[0;34m(self, X, y, groups, **fit_params)\u001b[0m\n\u001b[1;32m    803\u001b[0m         \u001b[0mn_splits\u001b[0m \u001b[0;34m=\u001b[0m \u001b[0mcv_orig\u001b[0m\u001b[0;34m.\u001b[0m\u001b[0mget_n_splits\u001b[0m\u001b[0;34m(\u001b[0m\u001b[0mX\u001b[0m\u001b[0;34m,\u001b[0m \u001b[0my\u001b[0m\u001b[0;34m,\u001b[0m \u001b[0mgroups\u001b[0m\u001b[0;34m)\u001b[0m\u001b[0;34m\u001b[0m\u001b[0;34m\u001b[0m\u001b[0m\n\u001b[1;32m    804\u001b[0m \u001b[0;34m\u001b[0m\u001b[0m\n\u001b[0;32m--> 805\u001b[0;31m         \u001b[0mbase_estimator\u001b[0m \u001b[0;34m=\u001b[0m \u001b[0mclone\u001b[0m\u001b[0;34m(\u001b[0m\u001b[0mself\u001b[0m\u001b[0;34m.\u001b[0m\u001b[0mestimator\u001b[0m\u001b[0;34m)\u001b[0m\u001b[0;34m\u001b[0m\u001b[0;34m\u001b[0m\u001b[0m\n\u001b[0m\u001b[1;32m    806\u001b[0m \u001b[0;34m\u001b[0m\u001b[0m\n\u001b[1;32m    807\u001b[0m         \u001b[0mparallel\u001b[0m \u001b[0;34m=\u001b[0m \u001b[0mParallel\u001b[0m\u001b[0;34m(\u001b[0m\u001b[0mn_jobs\u001b[0m\u001b[0;34m=\u001b[0m\u001b[0mself\u001b[0m\u001b[0;34m.\u001b[0m\u001b[0mn_jobs\u001b[0m\u001b[0;34m,\u001b[0m \u001b[0mpre_dispatch\u001b[0m\u001b[0;34m=\u001b[0m\u001b[0mself\u001b[0m\u001b[0;34m.\u001b[0m\u001b[0mpre_dispatch\u001b[0m\u001b[0;34m)\u001b[0m\u001b[0;34m\u001b[0m\u001b[0;34m\u001b[0m\u001b[0m\n",
            "\u001b[0;32m/usr/local/lib/python3.7/dist-packages/sklearn/base.py\u001b[0m in \u001b[0;36mclone\u001b[0;34m(estimator, safe)\u001b[0m\n\u001b[1;32m     78\u001b[0m                     \u001b[0;34m\"it does not seem to be a scikit-learn \"\u001b[0m\u001b[0;34m\u001b[0m\u001b[0;34m\u001b[0m\u001b[0m\n\u001b[1;32m     79\u001b[0m                     \u001b[0;34m\"estimator as it does not implement a \"\u001b[0m\u001b[0;34m\u001b[0m\u001b[0;34m\u001b[0m\u001b[0m\n\u001b[0;32m---> 80\u001b[0;31m                     \u001b[0;34m\"'get_params' method.\"\u001b[0m \u001b[0;34m%\u001b[0m \u001b[0;34m(\u001b[0m\u001b[0mrepr\u001b[0m\u001b[0;34m(\u001b[0m\u001b[0mestimator\u001b[0m\u001b[0;34m)\u001b[0m\u001b[0;34m,\u001b[0m \u001b[0mtype\u001b[0m\u001b[0;34m(\u001b[0m\u001b[0mestimator\u001b[0m\u001b[0;34m)\u001b[0m\u001b[0;34m)\u001b[0m\u001b[0;34m\u001b[0m\u001b[0;34m\u001b[0m\u001b[0m\n\u001b[0m\u001b[1;32m     81\u001b[0m                 )\n\u001b[1;32m     82\u001b[0m \u001b[0;34m\u001b[0m\u001b[0m\n",
            "\u001b[0;31mTypeError\u001b[0m: Cannot clone object '<keras.engine.sequential.Sequential object at 0x7fbe4d3e46d0>' (type <class 'keras.engine.sequential.Sequential'>): it does not seem to be a scikit-learn estimator as it does not implement a 'get_params' method."
          ]
        }
      ]
    },
    {
      "cell_type": "markdown",
      "metadata": {
        "id": "4K6RVW_D4JEC"
      },
      "source": [
        "We can observe an error in the hyperparameter tuning procedure using native Sklearn, because the defined model is a Sequential model implemented by Keras, not a scikit-learn estimator. In order to correct this error, we will integrate Sklearn and Keras properly, by (a) creating a `create_model` function that allows to create the model in an automated way, and (b) defining a `KerasRegressor` model which is an implementation of the scikit-learn regressor API for Keras."
      ]
    },
    {
      "cell_type": "code",
      "metadata": {
        "id": "KBqYpM4bXCCK",
        "colab": {
          "base_uri": "https://localhost:8080/",
          "height": 51
        },
        "outputId": "a1d0c4f4-eefe-42ad-a1dc-d2c1c254815c"
      },
      "source": [
        "# ----------------------------- Functional Tuning - Option 1: using Sklearn  ------------------------------\n",
        "# Goal: tune the batch size and epochs\n",
        "\n",
        "# Import KerasRegressor class\n",
        "from keras.wrappers.scikit_learn import KerasRegressor\n",
        "\n",
        "# Define the model trhough a user-defined function\n",
        "def create_model(optimizer=RMSprop(0.01)):\n",
        "  model = Sequential()\n",
        "  model.add(Dense(10, activation='relu', input_shape=(n_features,)))\n",
        "  model.add(Dense(8, activation='relu'))\n",
        "  model.add(Dense(1))\n",
        "  model.compile(loss='mse', metrics=['mse'], optimizer=optimizer)    # compile the model\n",
        "  return model\n",
        "model = KerasRegressor(build_fn=create_model, verbose=1)\n",
        "\n",
        "# Define the hyperparameters grid to be validated\n",
        "batch_size = [10, 20, 30, 40, 60, 80, 100]\n",
        "epochs = [10, 50, 100]\n",
        "param_grid = dict(batch_size=batch_size, nb_epoch=epochs)\n",
        "model = KerasRegressor(build_fn=create_model, verbose=1)\n",
        "grid = GridSearchCV(estimator=model, param_grid=param_grid, cv=5, n_jobs=-1)\n",
        "\n",
        "# Run the GridSearchCV process\n",
        "grid_result = grid.fit(X_train, y_train, verbose = 1)\n",
        "\n",
        "# Print the results of the best model\n",
        "print('Best params: ' + str(grid_result.best_params_))"
      ],
      "execution_count": null,
      "outputs": [
        {
          "output_type": "stream",
          "text": [
            "33/33 [==============================] - 0s 1ms/step - loss: 500.3896 - mse: 500.3896\n",
            "Best params: {'batch_size': 10, 'nb_epoch': 10}\n"
          ],
          "name": "stdout"
        }
      ]
    },
    {
      "cell_type": "code",
      "metadata": {
        "id": "x5yqTxcWd2tY",
        "colab": {
          "base_uri": "https://localhost:8080/",
          "height": 326
        },
        "outputId": "99eb332e-80e5-41a8-a0f5-35b5d5d4351f"
      },
      "source": [
        "# Import the cross validation evaluator\n",
        "from sklearn.model_selection import cross_val_score\n",
        "\n",
        "# Measure the model's performance\n",
        "results = cross_val_score(grid.best_estimator_, X_test, y_test, cv=5)\n",
        "print('Results: \\n  * Mean:', -results.mean(), '\\n  * Std:', results.std())"
      ],
      "execution_count": null,
      "outputs": [
        {
          "output_type": "stream",
          "text": [
            "7/7 [==============================] - 0s 2ms/step - loss: 335.7493 - mse: 335.7493\n",
            "2/2 [==============================] - 0s 5ms/step - loss: 94.7955 - mse: 94.7955\n",
            "7/7 [==============================] - 0s 2ms/step - loss: 284.1954 - mse: 284.1954\n",
            "WARNING:tensorflow:5 out of the last 39 calls to <function Model.make_test_function.<locals>.test_function at 0x7f83332008c8> triggered tf.function retracing. Tracing is expensive and the excessive number of tracings could be due to (1) creating @tf.function repeatedly in a loop, (2) passing tensors with different shapes, (3) passing Python objects instead of tensors. For (1), please define your @tf.function outside of the loop. For (2), @tf.function has experimental_relax_shapes=True option that relaxes argument shapes that can avoid unnecessary retracing. For (3), please refer to https://www.tensorflow.org/tutorials/customization/performance#python_or_tensor_args and https://www.tensorflow.org/api_docs/python/tf/function for  more details.\n",
            "2/2 [==============================] - 0s 5ms/step - loss: 65.5752 - mse: 65.5752\n",
            "7/7 [==============================] - 0s 2ms/step - loss: 2111.4053 - mse: 2111.4053\n",
            "WARNING:tensorflow:5 out of the last 11 calls to <function Model.make_test_function.<locals>.test_function at 0x7f8337e4a598> triggered tf.function retracing. Tracing is expensive and the excessive number of tracings could be due to (1) creating @tf.function repeatedly in a loop, (2) passing tensors with different shapes, (3) passing Python objects instead of tensors. For (1), please define your @tf.function outside of the loop. For (2), @tf.function has experimental_relax_shapes=True option that relaxes argument shapes that can avoid unnecessary retracing. For (3), please refer to https://www.tensorflow.org/tutorials/customization/performance#python_or_tensor_args and https://www.tensorflow.org/api_docs/python/tf/function for  more details.\n",
            "2/2 [==============================] - 0s 3ms/step - loss: 1469.7395 - mse: 1469.7395\n",
            "7/7 [==============================] - 0s 2ms/step - loss: 1625.2103 - mse: 1625.2103\n",
            "WARNING:tensorflow:6 out of the last 13 calls to <function Model.make_test_function.<locals>.test_function at 0x7f833eb9f950> triggered tf.function retracing. Tracing is expensive and the excessive number of tracings could be due to (1) creating @tf.function repeatedly in a loop, (2) passing tensors with different shapes, (3) passing Python objects instead of tensors. For (1), please define your @tf.function outside of the loop. For (2), @tf.function has experimental_relax_shapes=True option that relaxes argument shapes that can avoid unnecessary retracing. For (3), please refer to https://www.tensorflow.org/tutorials/customization/performance#python_or_tensor_args and https://www.tensorflow.org/api_docs/python/tf/function for  more details.\n",
            "2/2 [==============================] - 0s 5ms/step - loss: 455.5634 - mse: 455.5634\n",
            "7/7 [==============================] - 0s 2ms/step - loss: 1014.8038 - mse: 1014.8038\n",
            "WARNING:tensorflow:6 out of the last 12 calls to <function Model.make_test_function.<locals>.test_function at 0x7f833fa02a60> triggered tf.function retracing. Tracing is expensive and the excessive number of tracings could be due to (1) creating @tf.function repeatedly in a loop, (2) passing tensors with different shapes, (3) passing Python objects instead of tensors. For (1), please define your @tf.function outside of the loop. For (2), @tf.function has experimental_relax_shapes=True option that relaxes argument shapes that can avoid unnecessary retracing. For (3), please refer to https://www.tensorflow.org/tutorials/customization/performance#python_or_tensor_args and https://www.tensorflow.org/api_docs/python/tf/function for  more details.\n",
            "2/2 [==============================] - 0s 4ms/step - loss: 139.6336 - mse: 139.6336\n",
            "Results: \n",
            "  * Mean: 445.06143951416016 \n",
            "  * Std: 531.0475750207843\n"
          ],
          "name": "stdout"
        }
      ]
    },
    {
      "cell_type": "markdown",
      "metadata": {
        "id": "QwjqAqid476m"
      },
      "source": [
        "#### **Implementing hyperparameter tuning with Keras**\n",
        "Now we will go through the process of automating hyperparameter tuning using **Random Search** and **Keras**. Random Search is a hyperparameter search procedure that is performed on a defined grid of hyperparameters. However, not all hyperparameter combinations are used to train a new model, only some selected randomly, while a process of cross-validation to measure the performance of temporal models. Once the process is complete, the hyperparameters and the best performing model are chosen.\n",
        "\n",
        "Let's take a look at the implementation of Random Search with Keras, following the steps:\n",
        "\n",
        "0. Install and import all the packages needed\n",
        "1. Define the general architecture of the model through a creation function\n",
        "2. Define the hyperparameters grid to be validated\n",
        "3. Run the GridSearchCV process\n",
        "4. Print the results of the best model\n",
        "\n",
        "To execute the hyperparameter tuning procedure we will use the `keras-tuner`, a library that helps you pick the optimal set of hyperparameters for your TensorFlow model."
      ]
    },
    {
      "cell_type": "code",
      "metadata": {
        "id": "inRKd7kY2NEY",
        "colab": {
          "base_uri": "https://localhost:8080/",
          "height": 1000
        },
        "outputId": "79bfbd63-9295-473d-d45d-b099a1e737a6"
      },
      "source": [
        "# ----------------------------- Functional Tuning - Option 2: using Keras Tuner ------------------------------\n",
        "# Goal: tune the learning rate\n",
        "\n",
        "# 0. Install and import all the packages needed\n",
        "!pip install -q -U keras-tuner\n",
        "import kerastuner as kt\n",
        "\n",
        "# 1. Define the general architecture of the model through a creation user-defined function\n",
        "def model_builder(hp):\n",
        "  model = Sequential()\n",
        "  model.add(Dense(10, activation='relu', input_shape=(n_features,)))\n",
        "  model.add(Dense(8, activation='relu'))\n",
        "  model.add(Dense(1))\n",
        "  hp_learning_rate = hp.Choice('learning_rate', values = [1e-1, 1e-2, 1e-3, 1e-4]) # Tuning the learning rate (four different values to test: 0.1, 0.01, 0.001, 0.0001)\n",
        "  optimizer = RMSprop(learning_rate = hp_learning_rate)                            # Defining the optimizer\n",
        "  model.compile(loss='mse',metrics=['mse'], optimizer=optimizer)                   # Compiling the model \n",
        "  return model                                                                     # Returning the defined model\n",
        "\n",
        "# 2. Define the hyperparameters grid to be validated\n",
        "tuner_rs = kt.RandomSearch(\n",
        "              model_builder,                # Takes hyperparameters (hp) and returns a Model instance\n",
        "              objective = 'mse',            # Name of model metric to minimize or maximize\n",
        "              seed = 42,                    # Random seed for replication purposes\n",
        "              max_trials = 5,               # Total number of trials (model configurations) to test at most. Note that the oracle may interrupt the search before max_trial models have been tested.\n",
        "              directory='random_search')    # Path to the working directory (relative).\n",
        "\n",
        "# 3. Run the GridSearchCV process\n",
        "tuner_rs.search(X_train, y_train, epochs=10, validation_split=0.2, verbose=1)"
      ],
      "execution_count": null,
      "outputs": [
        {
          "output_type": "stream",
          "text": [
            "Epoch 1/10\n",
            "9/9 [==============================] - 0s 20ms/step - loss: 5115.7114 - mse: 5115.7114 - val_loss: 527.6143 - val_mse: 527.6143\n",
            "Epoch 2/10\n",
            "9/9 [==============================] - 0s 6ms/step - loss: 631.4748 - mse: 631.4748 - val_loss: 486.6498 - val_mse: 486.6498\n",
            "Epoch 3/10\n",
            "9/9 [==============================] - 0s 5ms/step - loss: 591.8683 - mse: 591.8683 - val_loss: 451.8018 - val_mse: 451.8018\n",
            "Epoch 4/10\n",
            "9/9 [==============================] - 0s 6ms/step - loss: 553.3091 - mse: 553.3091 - val_loss: 405.2310 - val_mse: 405.2310\n",
            "Epoch 5/10\n",
            "9/9 [==============================] - 0s 5ms/step - loss: 415.7266 - mse: 415.7266 - val_loss: 137.3820 - val_mse: 137.3820\n",
            "Epoch 6/10\n",
            "9/9 [==============================] - 0s 5ms/step - loss: 181.2757 - mse: 181.2757 - val_loss: 349.1423 - val_mse: 349.1423\n",
            "Epoch 7/10\n",
            "9/9 [==============================] - 0s 4ms/step - loss: 241.5480 - mse: 241.5480 - val_loss: 628.4697 - val_mse: 628.4697\n",
            "Epoch 8/10\n",
            "9/9 [==============================] - 0s 4ms/step - loss: 427.2863 - mse: 427.2863 - val_loss: 153.9367 - val_mse: 153.9367\n",
            "Epoch 9/10\n",
            "9/9 [==============================] - 0s 5ms/step - loss: 121.7307 - mse: 121.7307 - val_loss: 87.7117 - val_mse: 87.7117\n",
            "Epoch 10/10\n",
            "9/9 [==============================] - 0s 4ms/step - loss: 143.4021 - mse: 143.4021 - val_loss: 3868.4473 - val_mse: 3868.4473\n",
            "Epoch 1/10\n",
            "9/9 [==============================] - 0s 17ms/step - loss: 7119.2725 - mse: 7119.2725 - val_loss: 49.7455 - val_mse: 49.7455\n",
            "Epoch 2/10\n",
            "9/9 [==============================] - 0s 5ms/step - loss: 94.0848 - mse: 94.0848 - val_loss: 119.7478 - val_mse: 119.7478\n",
            "Epoch 3/10\n",
            "9/9 [==============================] - 0s 4ms/step - loss: 106.9504 - mse: 106.9504 - val_loss: 200.1315 - val_mse: 200.1315\n",
            "Epoch 4/10\n",
            "9/9 [==============================] - 0s 4ms/step - loss: 133.2470 - mse: 133.2470 - val_loss: 1621.7432 - val_mse: 1621.7432\n",
            "Epoch 5/10\n",
            "9/9 [==============================] - 0s 4ms/step - loss: 542.2847 - mse: 542.2847 - val_loss: 259.2349 - val_mse: 259.2349\n",
            "Epoch 6/10\n",
            "9/9 [==============================] - 0s 4ms/step - loss: 167.7371 - mse: 167.7371 - val_loss: 133.8815 - val_mse: 133.8815\n",
            "Epoch 7/10\n",
            "9/9 [==============================] - 0s 4ms/step - loss: 219.6196 - mse: 219.6196 - val_loss: 6029.8018 - val_mse: 6029.8018\n",
            "Epoch 8/10\n",
            "9/9 [==============================] - 0s 4ms/step - loss: 1249.7904 - mse: 1249.7904 - val_loss: 331.4357 - val_mse: 331.4357\n",
            "Epoch 9/10\n",
            "9/9 [==============================] - 0s 4ms/step - loss: 394.7971 - mse: 394.7971 - val_loss: 235.2882 - val_mse: 235.2882\n",
            "Epoch 10/10\n",
            "9/9 [==============================] - 0s 3ms/step - loss: 273.5750 - mse: 273.5750 - val_loss: 115.4428 - val_mse: 115.4428\n"
          ],
          "name": "stdout"
        },
        {
          "output_type": "display_data",
          "data": {
            "text/html": [
              "<span style=\"color:#4527A0\"><h1 style=\"font-size:18px\">Trial complete</h1></span>"
            ],
            "text/plain": [
              "<IPython.core.display.HTML object>"
            ]
          },
          "metadata": {
            "tags": []
          }
        },
        {
          "output_type": "display_data",
          "data": {
            "text/html": [
              "<span style=\"color:#4527A0\"><h1 style=\"font-size:18px\">Trial summary</h1></span>"
            ],
            "text/plain": [
              "<IPython.core.display.HTML object>"
            ]
          },
          "metadata": {
            "tags": []
          }
        },
        {
          "output_type": "display_data",
          "data": {
            "text/html": [
              "<span style=\"color:cyan\"> |-Trial ID: a22ee1034e8ea2401e4b61fb1a0173b2</span>"
            ],
            "text/plain": [
              "<IPython.core.display.HTML object>"
            ]
          },
          "metadata": {
            "tags": []
          }
        },
        {
          "output_type": "display_data",
          "data": {
            "text/html": [
              "<span style=\"color:cyan\"> |-Score: 107.90773391723633</span>"
            ],
            "text/plain": [
              "<IPython.core.display.HTML object>"
            ]
          },
          "metadata": {
            "tags": []
          }
        },
        {
          "output_type": "display_data",
          "data": {
            "text/html": [
              "<span style=\"color:cyan\"> |-Best step: 0</span>"
            ],
            "text/plain": [
              "<IPython.core.display.HTML object>"
            ]
          },
          "metadata": {
            "tags": []
          }
        },
        {
          "output_type": "display_data",
          "data": {
            "text/html": [
              "<span style=\"color:#7E57C2\"><h2 style=\"font-size:16px\">Hyperparameters:</h2></span>"
            ],
            "text/plain": [
              "<IPython.core.display.HTML object>"
            ]
          },
          "metadata": {
            "tags": []
          }
        },
        {
          "output_type": "display_data",
          "data": {
            "text/html": [
              "<span style=\"color:cyan\"> |-learning_rate: 0.1</span>"
            ],
            "text/plain": [
              "<IPython.core.display.HTML object>"
            ]
          },
          "metadata": {
            "tags": []
          }
        },
        {
          "output_type": "stream",
          "text": [
            "Epoch 1/10\n",
            "9/9 [==============================] - 0s 18ms/step - loss: 2369.5652 - mse: 2369.5652 - val_loss: 2086.2415 - val_mse: 2086.2415\n",
            "Epoch 2/10\n",
            "9/9 [==============================] - 0s 5ms/step - loss: 2319.8223 - mse: 2319.8223 - val_loss: 2047.9214 - val_mse: 2047.9214\n",
            "Epoch 3/10\n",
            "9/9 [==============================] - 0s 5ms/step - loss: 2281.5579 - mse: 2281.5579 - val_loss: 2013.5859 - val_mse: 2013.5859\n",
            "Epoch 4/10\n",
            "9/9 [==============================] - 0s 5ms/step - loss: 2246.2014 - mse: 2246.2014 - val_loss: 1980.2305 - val_mse: 1980.2305\n",
            "Epoch 5/10\n",
            "9/9 [==============================] - 0s 5ms/step - loss: 2211.8816 - mse: 2211.8816 - val_loss: 1951.4897 - val_mse: 1951.4897\n",
            "Epoch 6/10\n",
            "9/9 [==============================] - 0s 5ms/step - loss: 2181.1345 - mse: 2181.1345 - val_loss: 1919.9293 - val_mse: 1919.9293\n",
            "Epoch 7/10\n",
            "9/9 [==============================] - 0s 5ms/step - loss: 2148.5950 - mse: 2148.5950 - val_loss: 1888.0750 - val_mse: 1888.0750\n",
            "Epoch 8/10\n",
            "9/9 [==============================] - 0s 5ms/step - loss: 2116.1487 - mse: 2116.1487 - val_loss: 1857.7325 - val_mse: 1857.7325\n",
            "Epoch 9/10\n",
            "9/9 [==============================] - 0s 5ms/step - loss: 2084.9092 - mse: 2084.9092 - val_loss: 1827.8527 - val_mse: 1827.8527\n",
            "Epoch 10/10\n",
            "9/9 [==============================] - 0s 5ms/step - loss: 2054.2222 - mse: 2054.2222 - val_loss: 1798.5969 - val_mse: 1798.5969\n",
            "Epoch 1/10\n",
            "9/9 [==============================] - 0s 17ms/step - loss: 46262.2500 - mse: 46262.2500 - val_loss: 52689.9102 - val_mse: 52689.9102\n",
            "Epoch 2/10\n",
            "9/9 [==============================] - 0s 4ms/step - loss: 44406.0391 - mse: 44406.0391 - val_loss: 51135.9492 - val_mse: 51135.9492\n",
            "Epoch 3/10\n",
            "9/9 [==============================] - 0s 4ms/step - loss: 43084.2109 - mse: 43084.2109 - val_loss: 49638.4531 - val_mse: 49638.4531\n",
            "Epoch 4/10\n",
            "9/9 [==============================] - 0s 4ms/step - loss: 41827.6094 - mse: 41827.6094 - val_loss: 48166.7031 - val_mse: 48166.7031\n",
            "Epoch 5/10\n",
            "9/9 [==============================] - 0s 4ms/step - loss: 40603.2734 - mse: 40603.2734 - val_loss: 46720.9102 - val_mse: 46720.9102\n",
            "Epoch 6/10\n",
            "9/9 [==============================] - 0s 4ms/step - loss: 39382.1953 - mse: 39382.1953 - val_loss: 45200.4766 - val_mse: 45200.4766\n",
            "Epoch 7/10\n",
            "9/9 [==============================] - 0s 4ms/step - loss: 38124.4648 - mse: 38124.4648 - val_loss: 43779.2305 - val_mse: 43779.2305\n",
            "Epoch 8/10\n",
            "9/9 [==============================] - 0s 4ms/step - loss: 36953.8125 - mse: 36953.8125 - val_loss: 42453.3242 - val_mse: 42453.3242\n",
            "Epoch 9/10\n",
            "9/9 [==============================] - 0s 4ms/step - loss: 35829.7500 - mse: 35829.7500 - val_loss: 41130.1445 - val_mse: 41130.1445\n",
            "Epoch 10/10\n",
            "9/9 [==============================] - 0s 4ms/step - loss: 34717.1055 - mse: 34717.1055 - val_loss: 39952.5430 - val_mse: 39952.5430\n"
          ],
          "name": "stdout"
        },
        {
          "output_type": "display_data",
          "data": {
            "text/html": [
              "<span style=\"color:#4527A0\"><h1 style=\"font-size:18px\">Trial complete</h1></span>"
            ],
            "text/plain": [
              "<IPython.core.display.HTML object>"
            ]
          },
          "metadata": {
            "tags": []
          }
        },
        {
          "output_type": "display_data",
          "data": {
            "text/html": [
              "<span style=\"color:#4527A0\"><h1 style=\"font-size:18px\">Trial summary</h1></span>"
            ],
            "text/plain": [
              "<IPython.core.display.HTML object>"
            ]
          },
          "metadata": {
            "tags": []
          }
        },
        {
          "output_type": "display_data",
          "data": {
            "text/html": [
              "<span style=\"color:cyan\"> |-Trial ID: cafa3fde4808ac9b513957c21fb1bb15</span>"
            ],
            "text/plain": [
              "<IPython.core.display.HTML object>"
            ]
          },
          "metadata": {
            "tags": []
          }
        },
        {
          "output_type": "display_data",
          "data": {
            "text/html": [
              "<span style=\"color:cyan\"> |-Score: 18385.663818359375</span>"
            ],
            "text/plain": [
              "<IPython.core.display.HTML object>"
            ]
          },
          "metadata": {
            "tags": []
          }
        },
        {
          "output_type": "display_data",
          "data": {
            "text/html": [
              "<span style=\"color:cyan\"> |-Best step: 0</span>"
            ],
            "text/plain": [
              "<IPython.core.display.HTML object>"
            ]
          },
          "metadata": {
            "tags": []
          }
        },
        {
          "output_type": "display_data",
          "data": {
            "text/html": [
              "<span style=\"color:#7E57C2\"><h2 style=\"font-size:16px\">Hyperparameters:</h2></span>"
            ],
            "text/plain": [
              "<IPython.core.display.HTML object>"
            ]
          },
          "metadata": {
            "tags": []
          }
        },
        {
          "output_type": "display_data",
          "data": {
            "text/html": [
              "<span style=\"color:cyan\"> |-learning_rate: 0.0001</span>"
            ],
            "text/plain": [
              "<IPython.core.display.HTML object>"
            ]
          },
          "metadata": {
            "tags": []
          }
        },
        {
          "output_type": "stream",
          "text": [
            "Epoch 1/10\n",
            "9/9 [==============================] - 0s 21ms/step - loss: 167.4187 - mse: 167.4187 - val_loss: 111.0479 - val_mse: 111.0479\n",
            "Epoch 2/10\n",
            "9/9 [==============================] - 0s 5ms/step - loss: 152.3961 - mse: 152.3961 - val_loss: 99.7410 - val_mse: 99.7410\n",
            "Epoch 3/10\n",
            "9/9 [==============================] - 0s 6ms/step - loss: 144.1482 - mse: 144.1482 - val_loss: 91.9177 - val_mse: 91.9177\n",
            "Epoch 4/10\n",
            "9/9 [==============================] - 0s 5ms/step - loss: 137.6506 - mse: 137.6506 - val_loss: 85.9139 - val_mse: 85.9139\n",
            "Epoch 5/10\n",
            "9/9 [==============================] - 0s 5ms/step - loss: 133.1032 - mse: 133.1032 - val_loss: 81.7799 - val_mse: 81.7799\n",
            "Epoch 6/10\n",
            "9/9 [==============================] - 0s 5ms/step - loss: 128.7415 - mse: 128.7415 - val_loss: 78.0218 - val_mse: 78.0218\n",
            "Epoch 7/10\n",
            "9/9 [==============================] - 0s 5ms/step - loss: 124.9512 - mse: 124.9512 - val_loss: 74.4188 - val_mse: 74.4188\n",
            "Epoch 8/10\n",
            "9/9 [==============================] - 0s 5ms/step - loss: 121.6608 - mse: 121.6608 - val_loss: 71.6401 - val_mse: 71.6401\n",
            "Epoch 9/10\n",
            "9/9 [==============================] - 0s 5ms/step - loss: 118.4186 - mse: 118.4186 - val_loss: 68.5571 - val_mse: 68.5571\n",
            "Epoch 10/10\n",
            "9/9 [==============================] - 0s 5ms/step - loss: 114.7115 - mse: 114.7115 - val_loss: 66.8739 - val_mse: 66.8739\n",
            "Epoch 1/10\n",
            "9/9 [==============================] - 0s 17ms/step - loss: 36598.7344 - mse: 36598.7344 - val_loss: 22937.0820 - val_mse: 22937.0820\n",
            "Epoch 2/10\n",
            "9/9 [==============================] - 0s 4ms/step - loss: 19166.4160 - mse: 19166.4160 - val_loss: 12131.9092 - val_mse: 12131.9092\n",
            "Epoch 3/10\n",
            "9/9 [==============================] - 0s 4ms/step - loss: 10303.7236 - mse: 10303.7236 - val_loss: 5962.5356 - val_mse: 5962.5356\n",
            "Epoch 4/10\n",
            "9/9 [==============================] - 0s 4ms/step - loss: 5258.7271 - mse: 5258.7271 - val_loss: 3021.6514 - val_mse: 3021.6514\n",
            "Epoch 5/10\n",
            "9/9 [==============================] - 0s 4ms/step - loss: 2794.2710 - mse: 2794.2710 - val_loss: 2153.0938 - val_mse: 2153.0938\n",
            "Epoch 6/10\n",
            "9/9 [==============================] - 0s 3ms/step - loss: 1964.4718 - mse: 1964.4718 - val_loss: 1860.6332 - val_mse: 1860.6332\n",
            "Epoch 7/10\n",
            "9/9 [==============================] - 0s 4ms/step - loss: 1626.5642 - mse: 1626.5642 - val_loss: 1628.3406 - val_mse: 1628.3406\n",
            "Epoch 8/10\n",
            "9/9 [==============================] - 0s 4ms/step - loss: 1364.4591 - mse: 1364.4591 - val_loss: 1365.9147 - val_mse: 1365.9147\n",
            "Epoch 9/10\n",
            "9/9 [==============================] - 0s 4ms/step - loss: 1132.6879 - mse: 1132.6879 - val_loss: 1114.1368 - val_mse: 1114.1368\n",
            "Epoch 10/10\n",
            "9/9 [==============================] - 0s 4ms/step - loss: 934.8654 - mse: 934.8654 - val_loss: 1227.3302 - val_mse: 1227.3302\n"
          ],
          "name": "stdout"
        },
        {
          "output_type": "display_data",
          "data": {
            "text/html": [
              "<span style=\"color:#4527A0\"><h1 style=\"font-size:18px\">Trial complete</h1></span>"
            ],
            "text/plain": [
              "<IPython.core.display.HTML object>"
            ]
          },
          "metadata": {
            "tags": []
          }
        },
        {
          "output_type": "display_data",
          "data": {
            "text/html": [
              "<span style=\"color:#4527A0\"><h1 style=\"font-size:18px\">Trial summary</h1></span>"
            ],
            "text/plain": [
              "<IPython.core.display.HTML object>"
            ]
          },
          "metadata": {
            "tags": []
          }
        },
        {
          "output_type": "display_data",
          "data": {
            "text/html": [
              "<span style=\"color:cyan\"> |-Trial ID: 0ceae8bd9ae08bcb7b22c37b7bff1f56</span>"
            ],
            "text/plain": [
              "<IPython.core.display.HTML object>"
            ]
          },
          "metadata": {
            "tags": []
          }
        },
        {
          "output_type": "display_data",
          "data": {
            "text/html": [
              "<span style=\"color:cyan\"> |-Score: 524.7884521484375</span>"
            ],
            "text/plain": [
              "<IPython.core.display.HTML object>"
            ]
          },
          "metadata": {
            "tags": []
          }
        },
        {
          "output_type": "display_data",
          "data": {
            "text/html": [
              "<span style=\"color:cyan\"> |-Best step: 0</span>"
            ],
            "text/plain": [
              "<IPython.core.display.HTML object>"
            ]
          },
          "metadata": {
            "tags": []
          }
        },
        {
          "output_type": "display_data",
          "data": {
            "text/html": [
              "<span style=\"color:#7E57C2\"><h2 style=\"font-size:16px\">Hyperparameters:</h2></span>"
            ],
            "text/plain": [
              "<IPython.core.display.HTML object>"
            ]
          },
          "metadata": {
            "tags": []
          }
        },
        {
          "output_type": "display_data",
          "data": {
            "text/html": [
              "<span style=\"color:cyan\"> |-learning_rate: 0.001</span>"
            ],
            "text/plain": [
              "<IPython.core.display.HTML object>"
            ]
          },
          "metadata": {
            "tags": []
          }
        },
        {
          "output_type": "stream",
          "text": [
            "Epoch 1/10\n",
            "9/9 [==============================] - 0s 19ms/step - loss: 344.1214 - mse: 344.1214 - val_loss: 285.5694 - val_mse: 285.5694\n",
            "Epoch 2/10\n",
            "9/9 [==============================] - 0s 5ms/step - loss: 159.7777 - mse: 159.7777 - val_loss: 238.0298 - val_mse: 238.0298\n",
            "Epoch 3/10\n",
            "9/9 [==============================] - 0s 4ms/step - loss: 165.3195 - mse: 165.3195 - val_loss: 193.2417 - val_mse: 193.2417\n",
            "Epoch 4/10\n",
            "9/9 [==============================] - 0s 5ms/step - loss: 141.4814 - mse: 141.4814 - val_loss: 584.3061 - val_mse: 584.3061\n",
            "Epoch 5/10\n",
            "9/9 [==============================] - 0s 4ms/step - loss: 141.6709 - mse: 141.6709 - val_loss: 136.0439 - val_mse: 136.0439\n",
            "Epoch 6/10\n",
            "9/9 [==============================] - 0s 5ms/step - loss: 135.3921 - mse: 135.3921 - val_loss: 522.0715 - val_mse: 522.0715\n",
            "Epoch 7/10\n",
            "9/9 [==============================] - 0s 4ms/step - loss: 150.2538 - mse: 150.2538 - val_loss: 673.9136 - val_mse: 673.9136\n",
            "Epoch 8/10\n",
            "9/9 [==============================] - 0s 4ms/step - loss: 190.2688 - mse: 190.2688 - val_loss: 150.2733 - val_mse: 150.2733\n",
            "Epoch 9/10\n",
            "9/9 [==============================] - 0s 5ms/step - loss: 95.3549 - mse: 95.3549 - val_loss: 45.8120 - val_mse: 45.8120\n",
            "Epoch 10/10\n",
            "9/9 [==============================] - 0s 5ms/step - loss: 112.0679 - mse: 112.0679 - val_loss: 621.9553 - val_mse: 621.9553\n",
            "Epoch 1/10\n",
            "9/9 [==============================] - 0s 18ms/step - loss: 686.0698 - mse: 686.0698 - val_loss: 226.5338 - val_mse: 226.5338\n",
            "Epoch 2/10\n",
            "9/9 [==============================] - 0s 4ms/step - loss: 135.9570 - mse: 135.9570 - val_loss: 60.8812 - val_mse: 60.8812\n",
            "Epoch 3/10\n",
            "9/9 [==============================] - 0s 5ms/step - loss: 79.1926 - mse: 79.1926 - val_loss: 72.5660 - val_mse: 72.5660\n",
            "Epoch 4/10\n",
            "9/9 [==============================] - 0s 4ms/step - loss: 99.2560 - mse: 99.2560 - val_loss: 435.5785 - val_mse: 435.5785\n",
            "Epoch 5/10\n",
            "9/9 [==============================] - 0s 4ms/step - loss: 107.4537 - mse: 107.4537 - val_loss: 59.1401 - val_mse: 59.1401\n",
            "Epoch 6/10\n",
            "9/9 [==============================] - 0s 4ms/step - loss: 101.4841 - mse: 101.4841 - val_loss: 237.7310 - val_mse: 237.7310\n",
            "Epoch 7/10\n",
            "9/9 [==============================] - 0s 4ms/step - loss: 114.9605 - mse: 114.9605 - val_loss: 618.4346 - val_mse: 618.4346\n",
            "Epoch 8/10\n",
            "9/9 [==============================] - 0s 3ms/step - loss: 156.3545 - mse: 156.3545 - val_loss: 52.5405 - val_mse: 52.5405\n",
            "Epoch 9/10\n",
            "9/9 [==============================] - 0s 5ms/step - loss: 73.1649 - mse: 73.1649 - val_loss: 35.8674 - val_mse: 35.8674\n",
            "Epoch 10/10\n",
            "9/9 [==============================] - 0s 4ms/step - loss: 80.7216 - mse: 80.7216 - val_loss: 505.6774 - val_mse: 505.6774\n"
          ],
          "name": "stdout"
        },
        {
          "output_type": "display_data",
          "data": {
            "text/html": [
              "<span style=\"color:#4527A0\"><h1 style=\"font-size:18px\">Trial complete</h1></span>"
            ],
            "text/plain": [
              "<IPython.core.display.HTML object>"
            ]
          },
          "metadata": {
            "tags": []
          }
        },
        {
          "output_type": "display_data",
          "data": {
            "text/html": [
              "<span style=\"color:#4527A0\"><h1 style=\"font-size:18px\">Trial summary</h1></span>"
            ],
            "text/plain": [
              "<IPython.core.display.HTML object>"
            ]
          },
          "metadata": {
            "tags": []
          }
        },
        {
          "output_type": "display_data",
          "data": {
            "text/html": [
              "<span style=\"color:cyan\"> |-Trial ID: e92a94e0c97a452405ab725f169fff93</span>"
            ],
            "text/plain": [
              "<IPython.core.display.HTML object>"
            ]
          },
          "metadata": {
            "tags": []
          }
        },
        {
          "output_type": "display_data",
          "data": {
            "text/html": [
              "<span style=\"color:cyan\"> |-Score: 84.25988388061523</span>"
            ],
            "text/plain": [
              "<IPython.core.display.HTML object>"
            ]
          },
          "metadata": {
            "tags": []
          }
        },
        {
          "output_type": "display_data",
          "data": {
            "text/html": [
              "<span style=\"color:cyan\"> |-Best step: 0</span>"
            ],
            "text/plain": [
              "<IPython.core.display.HTML object>"
            ]
          },
          "metadata": {
            "tags": []
          }
        },
        {
          "output_type": "display_data",
          "data": {
            "text/html": [
              "<span style=\"color:#7E57C2\"><h2 style=\"font-size:16px\">Hyperparameters:</h2></span>"
            ],
            "text/plain": [
              "<IPython.core.display.HTML object>"
            ]
          },
          "metadata": {
            "tags": []
          }
        },
        {
          "output_type": "display_data",
          "data": {
            "text/html": [
              "<span style=\"color:cyan\"> |-learning_rate: 0.01</span>"
            ],
            "text/plain": [
              "<IPython.core.display.HTML object>"
            ]
          },
          "metadata": {
            "tags": []
          }
        },
        {
          "output_type": "stream",
          "text": [
            "INFO:tensorflow:Oracle triggered exit\n"
          ],
          "name": "stdout"
        }
      ]
    },
    {
      "cell_type": "code",
      "metadata": {
        "id": "gRy9Aaby_dQt",
        "colab": {
          "base_uri": "https://localhost:8080/",
          "height": 675
        },
        "outputId": "2af1db5e-1e08-4a73-9381-a5827d057dca"
      },
      "source": [
        "# 4.1. Print the summary results of the hyperparameter tuning procedure\n",
        "tuner_rs.results_summary()"
      ],
      "execution_count": null,
      "outputs": [
        {
          "output_type": "display_data",
          "data": {
            "text/html": [
              "<span style=\"color:#4527A0\"><h1 style=\"font-size:18px\">Results summary</h1></span>"
            ],
            "text/plain": [
              "<IPython.core.display.HTML object>"
            ]
          },
          "metadata": {
            "tags": []
          }
        },
        {
          "output_type": "display_data",
          "data": {
            "text/html": [
              "<span style=\"color:cyan\"> |-Results in random_search/untitled_project</span>"
            ],
            "text/plain": [
              "<IPython.core.display.HTML object>"
            ]
          },
          "metadata": {
            "tags": []
          }
        },
        {
          "output_type": "display_data",
          "data": {
            "text/html": [
              "<span style=\"color:cyan\"> |-Showing 10 best trials</span>"
            ],
            "text/plain": [
              "<IPython.core.display.HTML object>"
            ]
          },
          "metadata": {
            "tags": []
          }
        },
        {
          "output_type": "display_data",
          "data": {
            "text/html": [
              "<span style=\"color:cyan\"> |-Objective(name='mse', direction='min')</span>"
            ],
            "text/plain": [
              "<IPython.core.display.HTML object>"
            ]
          },
          "metadata": {
            "tags": []
          }
        },
        {
          "output_type": "display_data",
          "data": {
            "text/html": [
              "<span style=\"color:#4527A0\"><h1 style=\"font-size:18px\">Trial summary</h1></span>"
            ],
            "text/plain": [
              "<IPython.core.display.HTML object>"
            ]
          },
          "metadata": {
            "tags": []
          }
        },
        {
          "output_type": "display_data",
          "data": {
            "text/html": [
              "<span style=\"color:cyan\"> |-Trial ID: e92a94e0c97a452405ab725f169fff93</span>"
            ],
            "text/plain": [
              "<IPython.core.display.HTML object>"
            ]
          },
          "metadata": {
            "tags": []
          }
        },
        {
          "output_type": "display_data",
          "data": {
            "text/html": [
              "<span style=\"color:cyan\"> |-Score: 84.25988388061523</span>"
            ],
            "text/plain": [
              "<IPython.core.display.HTML object>"
            ]
          },
          "metadata": {
            "tags": []
          }
        },
        {
          "output_type": "display_data",
          "data": {
            "text/html": [
              "<span style=\"color:cyan\"> |-Best step: 0</span>"
            ],
            "text/plain": [
              "<IPython.core.display.HTML object>"
            ]
          },
          "metadata": {
            "tags": []
          }
        },
        {
          "output_type": "display_data",
          "data": {
            "text/html": [
              "<span style=\"color:#7E57C2\"><h2 style=\"font-size:16px\">Hyperparameters:</h2></span>"
            ],
            "text/plain": [
              "<IPython.core.display.HTML object>"
            ]
          },
          "metadata": {
            "tags": []
          }
        },
        {
          "output_type": "display_data",
          "data": {
            "text/html": [
              "<span style=\"color:cyan\"> |-learning_rate: 0.01</span>"
            ],
            "text/plain": [
              "<IPython.core.display.HTML object>"
            ]
          },
          "metadata": {
            "tags": []
          }
        },
        {
          "output_type": "display_data",
          "data": {
            "text/html": [
              "<span style=\"color:#4527A0\"><h1 style=\"font-size:18px\">Trial summary</h1></span>"
            ],
            "text/plain": [
              "<IPython.core.display.HTML object>"
            ]
          },
          "metadata": {
            "tags": []
          }
        },
        {
          "output_type": "display_data",
          "data": {
            "text/html": [
              "<span style=\"color:cyan\"> |-Trial ID: a22ee1034e8ea2401e4b61fb1a0173b2</span>"
            ],
            "text/plain": [
              "<IPython.core.display.HTML object>"
            ]
          },
          "metadata": {
            "tags": []
          }
        },
        {
          "output_type": "display_data",
          "data": {
            "text/html": [
              "<span style=\"color:cyan\"> |-Score: 107.90773391723633</span>"
            ],
            "text/plain": [
              "<IPython.core.display.HTML object>"
            ]
          },
          "metadata": {
            "tags": []
          }
        },
        {
          "output_type": "display_data",
          "data": {
            "text/html": [
              "<span style=\"color:cyan\"> |-Best step: 0</span>"
            ],
            "text/plain": [
              "<IPython.core.display.HTML object>"
            ]
          },
          "metadata": {
            "tags": []
          }
        },
        {
          "output_type": "display_data",
          "data": {
            "text/html": [
              "<span style=\"color:#7E57C2\"><h2 style=\"font-size:16px\">Hyperparameters:</h2></span>"
            ],
            "text/plain": [
              "<IPython.core.display.HTML object>"
            ]
          },
          "metadata": {
            "tags": []
          }
        },
        {
          "output_type": "display_data",
          "data": {
            "text/html": [
              "<span style=\"color:cyan\"> |-learning_rate: 0.1</span>"
            ],
            "text/plain": [
              "<IPython.core.display.HTML object>"
            ]
          },
          "metadata": {
            "tags": []
          }
        },
        {
          "output_type": "display_data",
          "data": {
            "text/html": [
              "<span style=\"color:#4527A0\"><h1 style=\"font-size:18px\">Trial summary</h1></span>"
            ],
            "text/plain": [
              "<IPython.core.display.HTML object>"
            ]
          },
          "metadata": {
            "tags": []
          }
        },
        {
          "output_type": "display_data",
          "data": {
            "text/html": [
              "<span style=\"color:cyan\"> |-Trial ID: 0ceae8bd9ae08bcb7b22c37b7bff1f56</span>"
            ],
            "text/plain": [
              "<IPython.core.display.HTML object>"
            ]
          },
          "metadata": {
            "tags": []
          }
        },
        {
          "output_type": "display_data",
          "data": {
            "text/html": [
              "<span style=\"color:cyan\"> |-Score: 524.7884521484375</span>"
            ],
            "text/plain": [
              "<IPython.core.display.HTML object>"
            ]
          },
          "metadata": {
            "tags": []
          }
        },
        {
          "output_type": "display_data",
          "data": {
            "text/html": [
              "<span style=\"color:cyan\"> |-Best step: 0</span>"
            ],
            "text/plain": [
              "<IPython.core.display.HTML object>"
            ]
          },
          "metadata": {
            "tags": []
          }
        },
        {
          "output_type": "display_data",
          "data": {
            "text/html": [
              "<span style=\"color:#7E57C2\"><h2 style=\"font-size:16px\">Hyperparameters:</h2></span>"
            ],
            "text/plain": [
              "<IPython.core.display.HTML object>"
            ]
          },
          "metadata": {
            "tags": []
          }
        },
        {
          "output_type": "display_data",
          "data": {
            "text/html": [
              "<span style=\"color:cyan\"> |-learning_rate: 0.001</span>"
            ],
            "text/plain": [
              "<IPython.core.display.HTML object>"
            ]
          },
          "metadata": {
            "tags": []
          }
        },
        {
          "output_type": "display_data",
          "data": {
            "text/html": [
              "<span style=\"color:#4527A0\"><h1 style=\"font-size:18px\">Trial summary</h1></span>"
            ],
            "text/plain": [
              "<IPython.core.display.HTML object>"
            ]
          },
          "metadata": {
            "tags": []
          }
        },
        {
          "output_type": "display_data",
          "data": {
            "text/html": [
              "<span style=\"color:cyan\"> |-Trial ID: cafa3fde4808ac9b513957c21fb1bb15</span>"
            ],
            "text/plain": [
              "<IPython.core.display.HTML object>"
            ]
          },
          "metadata": {
            "tags": []
          }
        },
        {
          "output_type": "display_data",
          "data": {
            "text/html": [
              "<span style=\"color:cyan\"> |-Score: 18385.663818359375</span>"
            ],
            "text/plain": [
              "<IPython.core.display.HTML object>"
            ]
          },
          "metadata": {
            "tags": []
          }
        },
        {
          "output_type": "display_data",
          "data": {
            "text/html": [
              "<span style=\"color:cyan\"> |-Best step: 0</span>"
            ],
            "text/plain": [
              "<IPython.core.display.HTML object>"
            ]
          },
          "metadata": {
            "tags": []
          }
        },
        {
          "output_type": "display_data",
          "data": {
            "text/html": [
              "<span style=\"color:#7E57C2\"><h2 style=\"font-size:16px\">Hyperparameters:</h2></span>"
            ],
            "text/plain": [
              "<IPython.core.display.HTML object>"
            ]
          },
          "metadata": {
            "tags": []
          }
        },
        {
          "output_type": "display_data",
          "data": {
            "text/html": [
              "<span style=\"color:cyan\"> |-learning_rate: 0.0001</span>"
            ],
            "text/plain": [
              "<IPython.core.display.HTML object>"
            ]
          },
          "metadata": {
            "tags": []
          }
        }
      ]
    },
    {
      "cell_type": "code",
      "metadata": {
        "id": "Rq_625b19g6P",
        "colab": {
          "base_uri": "https://localhost:8080/",
          "height": 51
        },
        "outputId": "72326de4-7d9c-4648-b45c-27ac8224154c"
      },
      "source": [
        "# 4.2. Print the results of the best model\n",
        "best_model = tuner_rs.get_best_models(num_models=1)[0]\n",
        "best_model.evaluate(X_test, y_test)"
      ],
      "execution_count": null,
      "outputs": [
        {
          "output_type": "stream",
          "text": [
            "3/3 [==============================] - 0s 3ms/step - loss: 48.6127 - mse: 48.6127\n"
          ],
          "name": "stdout"
        },
        {
          "output_type": "execute_result",
          "data": {
            "text/plain": [
              "[48.612728118896484, 48.612728118896484]"
            ]
          },
          "metadata": {
            "tags": []
          },
          "execution_count": 79
        }
      ]
    },
    {
      "cell_type": "code",
      "metadata": {
        "id": "gBxM4hL6r9Vz",
        "colab": {
          "base_uri": "https://localhost:8080/",
          "height": 255
        },
        "outputId": "029bf07d-26ce-4db9-a409-cdcb04052e45"
      },
      "source": [
        "# 4.3. Print the best model's architecture\n",
        "best_model.summary()"
      ],
      "execution_count": null,
      "outputs": [
        {
          "output_type": "stream",
          "text": [
            "Model: \"sequential\"\n",
            "_________________________________________________________________\n",
            "Layer (type)                 Output Shape              Param #   \n",
            "=================================================================\n",
            "dense (Dense)                (None, 10)                140       \n",
            "_________________________________________________________________\n",
            "dense_1 (Dense)              (None, 8)                 88        \n",
            "_________________________________________________________________\n",
            "dense_2 (Dense)              (None, 1)                 9         \n",
            "=================================================================\n",
            "Total params: 237\n",
            "Trainable params: 237\n",
            "Non-trainable params: 0\n",
            "_________________________________________________________________\n"
          ],
          "name": "stdout"
        }
      ]
    },
    {
      "cell_type": "markdown",
      "metadata": {
        "id": "3wYL0qp4fTv-"
      },
      "source": [
        "#### 5. Make a Prediction\n",
        "Making a prediction is the final step in the life-cycle. It is why we wanted the model in the first place.\n",
        "\n",
        "It requires you have new data for which a prediction is required, e.g. where you do not have the target values.\n",
        "\n",
        "From an API perspective, you simply call a function to make a prediction of a class label, probability, or numerical value: whatever you designed your model to predict.\n",
        "\n",
        "We have our new test data located at the given github location:\n",
        "\n",
        "https://raw.githubusercontent.com/dphi-official/Datasets/master/Boston_Housing/Testing_set_boston.csv\n",
        "\n"
      ]
    },
    {
      "cell_type": "code",
      "metadata": {
        "id": "s-fWHtrMe8U_"
      },
      "source": [
        "# Load new test data\n",
        "new_test_data = pd.read_csv('https://raw.githubusercontent.com/dphi-official/Datasets/master/Boston_Housing/Testing_set_boston.csv')"
      ],
      "execution_count": null,
      "outputs": []
    },
    {
      "cell_type": "code",
      "metadata": {
        "id": "crRYu0YtiO5G"
      },
      "source": [
        "# make a prediction\n",
        "model.predict(new_test_data)"
      ],
      "execution_count": null,
      "outputs": []
    },
    {
      "cell_type": "markdown",
      "metadata": {
        "id": "UuoFhNRrn623"
      },
      "source": [
        "\n",
        "**Congratulations! You have successfully build your first deep learning model and predicted the output (i.e. MEDV) of new test data.**"
      ]
    },
    {
      "cell_type": "markdown",
      "metadata": {
        "id": "c-SLnxZxp02g"
      },
      "source": [
        "#### Resources\n",
        "*  [https://machinelearningmastery.com/tensorflow-tutorial-deep-learning-with-tf-keras/](https://machinelearningmastery.com/tensorflow-tutorial-deep-learning-with-tf-keras/)\n",
        "*  [https://heartbeat.fritz.ai/linear-regression-using-keras-and-python-7cee2819a60c](https://heartbeat.fritz.ai/linear-regression-using-keras-and-python-7cee2819a60c)\n",
        "*  Google Machine Learning Crash Course"
      ]
    }
  ]
}